{
 "cells": [
  {
   "cell_type": "markdown",
   "metadata": {},
   "source": [
    "# <center>3. S&P Global - Modeling training </center>\n",
    "\n",
    "**************************************************************************************************\n",
    "@autor: Diego Babativa <br />\n",
    "@date: 2022-10 <br />\n",
    "@Description: This modeling training notebook is the third. Here We are going to able to do the modelingtraining process <br />\n",
    "**************************************************************************************************"
   ]
  },
  {
   "cell_type": "markdown",
   "metadata": {},
   "source": [
    "### 1. Loading features"
   ]
  },
  {
   "cell_type": "code",
   "execution_count": 9,
   "metadata": {},
   "outputs": [],
   "source": [
    "import pandas as pd\n",
    "import numpy as np\n",
    "import seaborn as sns\n",
    "import matplotlib.pyplot as plt\n",
    "import joblib\n",
    "\n",
    "from sklearn.model_selection import train_test_split\n",
    "from sklearn.linear_model import LinearRegression\n",
    "from sklearn.metrics import mean_squared_error, r2_score, mean_absolute_error\n",
    "\n",
    "from sklearn.preprocessing import StandardScaler\n",
    "from bayes_opt import BayesianOptimization\n",
    "import shap\n",
    "import wandb\n",
    "import xgboost\n",
    "from xgboost import cv, XGBRegressor, plot_importance\n",
    "\n",
    "import warnings\n",
    "warnings.filterwarnings('ignore')"
   ]
  },
  {
   "cell_type": "code",
   "execution_count": 4,
   "metadata": {},
   "outputs": [],
   "source": [
    "df = pd.read_parquet('../../data/features/interview_dataset_features_v1.parquet')\n",
    "X = df.drop(columns=['production'])\n",
    "y = df['production']"
   ]
  },
  {
   "cell_type": "code",
   "execution_count": 38,
   "metadata": {},
   "outputs": [
    {
     "data": {
      "text/plain": [
       "((800, 87), (200, 87), (800,), (200,))"
      ]
     },
     "execution_count": 38,
     "metadata": {},
     "output_type": "execute_result"
    }
   ],
   "source": [
    "X_train, X_test, y_train, y_test = train_test_split(X, y, test_size=0.2, random_state=42)\n",
    "X_train.shape, X_test.shape, y_train.shape, y_test.shape"
   ]
  },
  {
   "cell_type": "code",
   "execution_count": 5,
   "metadata": {},
   "outputs": [],
   "source": [
    "X_train,X_eval,y_train,y_eval=train_test_split(X, y, test_size=0.6, random_state=10)\n",
    "X_test,X_val,y_test,y_val=train_test_split(X_eval,y_eval, test_size=0.3, random_state=10)"
   ]
  },
  {
   "cell_type": "code",
   "execution_count": 6,
   "metadata": {},
   "outputs": [
    {
     "data": {
      "text/html": [
       "<style>#sk-container-id-1 {color: black;background-color: white;}#sk-container-id-1 pre{padding: 0;}#sk-container-id-1 div.sk-toggleable {background-color: white;}#sk-container-id-1 label.sk-toggleable__label {cursor: pointer;display: block;width: 100%;margin-bottom: 0;padding: 0.3em;box-sizing: border-box;text-align: center;}#sk-container-id-1 label.sk-toggleable__label-arrow:before {content: \"▸\";float: left;margin-right: 0.25em;color: #696969;}#sk-container-id-1 label.sk-toggleable__label-arrow:hover:before {color: black;}#sk-container-id-1 div.sk-estimator:hover label.sk-toggleable__label-arrow:before {color: black;}#sk-container-id-1 div.sk-toggleable__content {max-height: 0;max-width: 0;overflow: hidden;text-align: left;background-color: #f0f8ff;}#sk-container-id-1 div.sk-toggleable__content pre {margin: 0.2em;color: black;border-radius: 0.25em;background-color: #f0f8ff;}#sk-container-id-1 input.sk-toggleable__control:checked~div.sk-toggleable__content {max-height: 200px;max-width: 100%;overflow: auto;}#sk-container-id-1 input.sk-toggleable__control:checked~label.sk-toggleable__label-arrow:before {content: \"▾\";}#sk-container-id-1 div.sk-estimator input.sk-toggleable__control:checked~label.sk-toggleable__label {background-color: #d4ebff;}#sk-container-id-1 div.sk-label input.sk-toggleable__control:checked~label.sk-toggleable__label {background-color: #d4ebff;}#sk-container-id-1 input.sk-hidden--visually {border: 0;clip: rect(1px 1px 1px 1px);clip: rect(1px, 1px, 1px, 1px);height: 1px;margin: -1px;overflow: hidden;padding: 0;position: absolute;width: 1px;}#sk-container-id-1 div.sk-estimator {font-family: monospace;background-color: #f0f8ff;border: 1px dotted black;border-radius: 0.25em;box-sizing: border-box;margin-bottom: 0.5em;}#sk-container-id-1 div.sk-estimator:hover {background-color: #d4ebff;}#sk-container-id-1 div.sk-parallel-item::after {content: \"\";width: 100%;border-bottom: 1px solid gray;flex-grow: 1;}#sk-container-id-1 div.sk-label:hover label.sk-toggleable__label {background-color: #d4ebff;}#sk-container-id-1 div.sk-serial::before {content: \"\";position: absolute;border-left: 1px solid gray;box-sizing: border-box;top: 0;bottom: 0;left: 50%;z-index: 0;}#sk-container-id-1 div.sk-serial {display: flex;flex-direction: column;align-items: center;background-color: white;padding-right: 0.2em;padding-left: 0.2em;position: relative;}#sk-container-id-1 div.sk-item {position: relative;z-index: 1;}#sk-container-id-1 div.sk-parallel {display: flex;align-items: stretch;justify-content: center;background-color: white;position: relative;}#sk-container-id-1 div.sk-item::before, #sk-container-id-1 div.sk-parallel-item::before {content: \"\";position: absolute;border-left: 1px solid gray;box-sizing: border-box;top: 0;bottom: 0;left: 50%;z-index: -1;}#sk-container-id-1 div.sk-parallel-item {display: flex;flex-direction: column;z-index: 1;position: relative;background-color: white;}#sk-container-id-1 div.sk-parallel-item:first-child::after {align-self: flex-end;width: 50%;}#sk-container-id-1 div.sk-parallel-item:last-child::after {align-self: flex-start;width: 50%;}#sk-container-id-1 div.sk-parallel-item:only-child::after {width: 0;}#sk-container-id-1 div.sk-dashed-wrapped {border: 1px dashed gray;margin: 0 0.4em 0.5em 0.4em;box-sizing: border-box;padding-bottom: 0.4em;background-color: white;}#sk-container-id-1 div.sk-label label {font-family: monospace;font-weight: bold;display: inline-block;line-height: 1.2em;}#sk-container-id-1 div.sk-label-container {text-align: center;}#sk-container-id-1 div.sk-container {/* jupyter's `normalize.less` sets `[hidden] { display: none; }` but bootstrap.min.css set `[hidden] { display: none !important; }` so we also need the `!important` here to be able to override the default hidden behavior on the sphinx rendered scikit-learn.org. See: https://github.com/scikit-learn/scikit-learn/issues/21755 */display: inline-block !important;position: relative;}#sk-container-id-1 div.sk-text-repr-fallback {display: none;}</style><div id=\"sk-container-id-1\" class=\"sk-top-container\"><div class=\"sk-text-repr-fallback\"><pre>LinearRegression()</pre><b>In a Jupyter environment, please rerun this cell to show the HTML representation or trust the notebook. <br />On GitHub, the HTML representation is unable to render, please try loading this page with nbviewer.org.</b></div><div class=\"sk-container\" hidden><div class=\"sk-item\"><div class=\"sk-estimator sk-toggleable\"><input class=\"sk-toggleable__control sk-hidden--visually\" id=\"sk-estimator-id-1\" type=\"checkbox\" checked><label for=\"sk-estimator-id-1\" class=\"sk-toggleable__label sk-toggleable__label-arrow\">LinearRegression</label><div class=\"sk-toggleable__content\"><pre>LinearRegression()</pre></div></div></div></div></div>"
      ],
      "text/plain": [
       "LinearRegression()"
      ]
     },
     "execution_count": 6,
     "metadata": {},
     "output_type": "execute_result"
    }
   ],
   "source": [
    "model_lin_reg = LinearRegression()\n",
    "model_lin_reg.fit(X_train, y_train)"
   ]
  },
  {
   "cell_type": "code",
   "execution_count": 7,
   "metadata": {},
   "outputs": [],
   "source": [
    "pred_lin_reg = model_lin_reg.predict(X_test)"
   ]
  },
  {
   "cell_type": "code",
   "execution_count": 10,
   "metadata": {},
   "outputs": [
    {
     "data": {
      "text/plain": [
       "['../../models/model_linear_regression.pkl']"
      ]
     },
     "execution_count": 10,
     "metadata": {},
     "output_type": "execute_result"
    }
   ],
   "source": [
    "#Saving linear regression model\n",
    "joblib.dump(model_lin_reg, '../../models/model_linear_regression.pkl')"
   ]
  },
  {
   "cell_type": "code",
   "execution_count": 36,
   "metadata": {},
   "outputs": [],
   "source": [
    "loaded_model = joblib.load('../../models/model_linear_regression.pkl')"
   ]
  },
  {
   "cell_type": "markdown",
   "metadata": {},
   "source": [
    "### Stablishing a  baseline MSE for the dataset. (Training)"
   ]
  },
  {
   "cell_type": "code",
   "execution_count": 6,
   "metadata": {},
   "outputs": [
    {
     "data": {
      "text/plain": [
       "1939.3606045352246"
      ]
     },
     "execution_count": 6,
     "metadata": {},
     "output_type": "execute_result"
    }
   ],
   "source": [
    "# This is our \"naive\" predictive model, sucha as the mean target of the training set.\n",
    "y_train.mean()"
   ]
  },
  {
   "cell_type": "code",
   "execution_count": 34,
   "metadata": {},
   "outputs": [],
   "source": [
    "def print_metrics(y_true, y_pred):    \n",
    "    print(\"MAE:  \", mean_absolute_error(y_true, y_pred))\n",
    "    print(\"MSE : \", mean_squared_error(y_true, y_pred))\n",
    "    print(\"RMSE: \", np.sqrt(mean_squared_error(y_true, y_pred)))\n",
    "    print(\"RMSLE:\", np.log(np.sqrt(mean_squared_error(y_true,y_pred))))\n",
    "    print(\"R2:   \", r2_score(y_true, y_pred))"
   ]
  },
  {
   "cell_type": "code",
   "execution_count": 35,
   "metadata": {},
   "outputs": [
    {
     "name": "stdout",
     "output_type": "stream",
     "text": [
      "MAE:   633.3839678953661\n",
      "MSE :  746965.793977538\n",
      "RMSE:  864.271828753858\n",
      "RMSLE: 6.761887335935889\n",
      "R2:    0.5847194795200009\n"
     ]
    }
   ],
   "source": [
    "print_metrics(y_test, pred_lin_reg)"
   ]
  },
  {
   "cell_type": "code",
   "execution_count": 39,
   "metadata": {},
   "outputs": [
    {
     "name": "stdout",
     "output_type": "stream",
     "text": [
      "MAE:   598.217705069123\n",
      "MSE :  663173.1731571073\n",
      "RMSE:  814.3544517942462\n",
      "RMSLE: 6.702395715688788\n",
      "R2:    0.6693085166003452\n"
     ]
    }
   ],
   "source": [
    "print_metrics(y_test, model_lin_reg.predict(X_test))"
   ]
  },
  {
   "cell_type": "code",
   "execution_count": 9,
   "metadata": {},
   "outputs": [
    {
     "data": {
      "text/plain": [
       "1672.0927785"
      ]
     },
     "execution_count": 9,
     "metadata": {},
     "output_type": "execute_result"
    }
   ],
   "source": [
    "y_test.median()"
   ]
  },
  {
   "cell_type": "code",
   "execution_count": 10,
   "metadata": {},
   "outputs": [
    {
     "data": {
      "text/plain": [
       "count     420.000000\n",
       "mean     1991.395363\n",
       "std      1342.756338\n",
       "min       199.970803\n",
       "25%      1020.681637\n",
       "50%      1672.092778\n",
       "75%      2683.487759\n",
       "max      8880.671151\n",
       "Name: production, dtype: float64"
      ]
     },
     "execution_count": 10,
     "metadata": {},
     "output_type": "execute_result"
    }
   ],
   "source": [
    "y_test.describe()"
   ]
  },
  {
   "cell_type": "code",
   "execution_count": 40,
   "metadata": {},
   "outputs": [],
   "source": [
    "# Approaches: linear model, after model based on decision trees\n",
    "# KNN no scaling very good and SVM is not good."
   ]
  },
  {
   "cell_type": "markdown",
   "metadata": {},
   "source": [
    "### 2. Bayesian Optimization and training model with Weigh and Biasis"
   ]
  },
  {
   "cell_type": "code",
   "execution_count": 8,
   "metadata": {},
   "outputs": [],
   "source": [
    "sweep_config = {\n",
    "    'name':'spg-sweep-regression-xgboost',\n",
    "    'method': 'bayes',\n",
    "    'metric': {\n",
    "      'name': 'rmse',\n",
    "      'goal': 'minimize'\n",
    "    },\n",
    "\n",
    "    'parameters' : {\n",
    "        'learning_rate':{'min': 0.001, 'max': 0.2},\n",
    "        'max_depth':{'min': 2, 'max': 9},\n",
    "        'reg_lambda': {'min': 0.1, 'max': 4.0},\n",
    "        'reg_alpha':{'min': 0.1, 'max':4.0},\n",
    "        'gamma':{'min':0.001, 'max':1.0},\n",
    "        'n_estimators':{'min': 100, 'max': 1000},\n",
    "        'min_child_weight':{'min': 1, 'max': 10},\n",
    "    }\n",
    "}"
   ]
  },
  {
   "cell_type": "code",
   "execution_count": 9,
   "metadata": {},
   "outputs": [
    {
     "name": "stdout",
     "output_type": "stream",
     "text": [
      "Create sweep with ID: z8dmz4o5\n",
      "Sweep URL: https://wandb.ai/dbabativa/spg/sweeps/z8dmz4o5\n"
     ]
    }
   ],
   "source": [
    "import os\n",
    "os.environ['WANDB_NOTEBOOK_NAME'] = 'modeling.ipynb'\n",
    "sweep_id = wandb.sweep(sweep_config, project='spg', entity='dbabativa')"
   ]
  },
  {
   "cell_type": "code",
   "execution_count": 13,
   "metadata": {},
   "outputs": [],
   "source": [
    "os.environ[\"WANDB_SILENT\"] = \"false\""
   ]
  },
  {
   "cell_type": "code",
   "execution_count": null,
   "metadata": {},
   "outputs": [],
   "source": [
    "def train():\n",
    "    \n",
    "\n",
    "    with wandb.init(tags=['xgboost']) as run:\n",
    "\n",
    "        global config\n",
    "        global bst\n",
    "    \n",
    "        # Config is a variable that holds and saves hyperparameters and inputs\n",
    "        config = wandb.config\n",
    "\n",
    "        modelo = XGBRegressor(\n",
    "            learning_rate=config.learning_rate,\n",
    "            max_depth = config.max_depth,\n",
    "            reg_lambda = config.reg_lambda,\n",
    "            reg_alpha = config.reg_alpha,\n",
    "            gamma = config.gamma,\n",
    "            n_estimators = config.n_estimators,\n",
    "            min_child_weight = config.min_child_weight,\n",
    "            n_jobs=-1,\n",
    "            eval_metric='mae',\n",
    "        )\n",
    "        \n",
    "        modelo.fit(X_train, \n",
    "                   y_train,\n",
    "                   eval_set=[(X_val, y_val)],\n",
    "                   early_stopping_rounds=10, \n",
    "                   verbose=False,\n",
    "                   eval_metric='mae')\n",
    "  \n",
    "        bst = modelo.get_booster()\n",
    "        preds = modelo.predict(X_test)\n",
    "\n",
    "        #Metric results    \n",
    "        mae   = mean_absolute_error(y_test, preds)\n",
    "        mse   = mean_squared_error(y_test, preds)\n",
    "        rmse  = np.sqrt(mean_squared_error(y_test, preds))\n",
    "        rmsle =  np.log(np.sqrt(mean_squared_error(y_test,pred_lin_reg)))\n",
    "        r2    = r2_score(y_test, preds)\n",
    "        \n",
    "        wandb.log({\n",
    "            'train mae': mae,\n",
    "            'train mse': mse,    \n",
    "            'train rmse': rmse,\n",
    "            'train r2': r2,   \n",
    "            'model': wandb.sklearn.plot_regressor(modelo, X_train, X_test, y_train, y_test, model_name=\"XGBoost\")\n",
    "            })\n",
    "        return mae\n",
    "            \n",
    "count = 100 # number of runs\n",
    "wandb.agent(sweep_id, function=train, count=count)"
   ]
  },
  {
   "cell_type": "markdown",
   "metadata": {},
   "source": [
    "#### According with wandb results (https://wandb.ai/dbabativa/spg/sweeps/z8dmz4o5/table?workspace=user-dbabativa) or https://wandb.ai/dbabativa/spg/sweeps/z8dmz4o5\n",
    "#### The selected model was : 'floral-sweep-34'"
   ]
  },
  {
   "cell_type": "code",
   "execution_count": 16,
   "metadata": {},
   "outputs": [
    {
     "data": {
      "text/html": [
       "<style>#sk-container-id-2 {color: black;background-color: white;}#sk-container-id-2 pre{padding: 0;}#sk-container-id-2 div.sk-toggleable {background-color: white;}#sk-container-id-2 label.sk-toggleable__label {cursor: pointer;display: block;width: 100%;margin-bottom: 0;padding: 0.3em;box-sizing: border-box;text-align: center;}#sk-container-id-2 label.sk-toggleable__label-arrow:before {content: \"▸\";float: left;margin-right: 0.25em;color: #696969;}#sk-container-id-2 label.sk-toggleable__label-arrow:hover:before {color: black;}#sk-container-id-2 div.sk-estimator:hover label.sk-toggleable__label-arrow:before {color: black;}#sk-container-id-2 div.sk-toggleable__content {max-height: 0;max-width: 0;overflow: hidden;text-align: left;background-color: #f0f8ff;}#sk-container-id-2 div.sk-toggleable__content pre {margin: 0.2em;color: black;border-radius: 0.25em;background-color: #f0f8ff;}#sk-container-id-2 input.sk-toggleable__control:checked~div.sk-toggleable__content {max-height: 200px;max-width: 100%;overflow: auto;}#sk-container-id-2 input.sk-toggleable__control:checked~label.sk-toggleable__label-arrow:before {content: \"▾\";}#sk-container-id-2 div.sk-estimator input.sk-toggleable__control:checked~label.sk-toggleable__label {background-color: #d4ebff;}#sk-container-id-2 div.sk-label input.sk-toggleable__control:checked~label.sk-toggleable__label {background-color: #d4ebff;}#sk-container-id-2 input.sk-hidden--visually {border: 0;clip: rect(1px 1px 1px 1px);clip: rect(1px, 1px, 1px, 1px);height: 1px;margin: -1px;overflow: hidden;padding: 0;position: absolute;width: 1px;}#sk-container-id-2 div.sk-estimator {font-family: monospace;background-color: #f0f8ff;border: 1px dotted black;border-radius: 0.25em;box-sizing: border-box;margin-bottom: 0.5em;}#sk-container-id-2 div.sk-estimator:hover {background-color: #d4ebff;}#sk-container-id-2 div.sk-parallel-item::after {content: \"\";width: 100%;border-bottom: 1px solid gray;flex-grow: 1;}#sk-container-id-2 div.sk-label:hover label.sk-toggleable__label {background-color: #d4ebff;}#sk-container-id-2 div.sk-serial::before {content: \"\";position: absolute;border-left: 1px solid gray;box-sizing: border-box;top: 0;bottom: 0;left: 50%;z-index: 0;}#sk-container-id-2 div.sk-serial {display: flex;flex-direction: column;align-items: center;background-color: white;padding-right: 0.2em;padding-left: 0.2em;position: relative;}#sk-container-id-2 div.sk-item {position: relative;z-index: 1;}#sk-container-id-2 div.sk-parallel {display: flex;align-items: stretch;justify-content: center;background-color: white;position: relative;}#sk-container-id-2 div.sk-item::before, #sk-container-id-2 div.sk-parallel-item::before {content: \"\";position: absolute;border-left: 1px solid gray;box-sizing: border-box;top: 0;bottom: 0;left: 50%;z-index: -1;}#sk-container-id-2 div.sk-parallel-item {display: flex;flex-direction: column;z-index: 1;position: relative;background-color: white;}#sk-container-id-2 div.sk-parallel-item:first-child::after {align-self: flex-end;width: 50%;}#sk-container-id-2 div.sk-parallel-item:last-child::after {align-self: flex-start;width: 50%;}#sk-container-id-2 div.sk-parallel-item:only-child::after {width: 0;}#sk-container-id-2 div.sk-dashed-wrapped {border: 1px dashed gray;margin: 0 0.4em 0.5em 0.4em;box-sizing: border-box;padding-bottom: 0.4em;background-color: white;}#sk-container-id-2 div.sk-label label {font-family: monospace;font-weight: bold;display: inline-block;line-height: 1.2em;}#sk-container-id-2 div.sk-label-container {text-align: center;}#sk-container-id-2 div.sk-container {/* jupyter's `normalize.less` sets `[hidden] { display: none; }` but bootstrap.min.css set `[hidden] { display: none !important; }` so we also need the `!important` here to be able to override the default hidden behavior on the sphinx rendered scikit-learn.org. See: https://github.com/scikit-learn/scikit-learn/issues/21755 */display: inline-block !important;position: relative;}#sk-container-id-2 div.sk-text-repr-fallback {display: none;}</style><div id=\"sk-container-id-2\" class=\"sk-top-container\"><div class=\"sk-text-repr-fallback\"><pre>XGBRegressor(base_score=0.5, booster=&#x27;gbtree&#x27;, colsample_bylevel=1,\n",
       "             colsample_bynode=1, colsample_bytree=1, enable_categorical=False,\n",
       "             eval_metric=&#x27;mae&#x27;, gamma=0.9799, gpu_id=-1, importance_type=None,\n",
       "             interaction_constraints=&#x27;&#x27;, learning_rate=0.1314, max_delta_step=0,\n",
       "             max_depth=9, min_child_weight=3, missing=nan,\n",
       "             monotone_constraints=&#x27;()&#x27;, n_estimators=795, n_jobs=-1,\n",
       "             num_parallel_tree=1, predictor=&#x27;auto&#x27;, random_state=0,\n",
       "             reg_alpha=0.7761, reg_lambda=2.37, scale_pos_weight=1, subsample=1,\n",
       "             tree_method=&#x27;exact&#x27;, validate_parameters=1, verbosity=None)</pre><b>In a Jupyter environment, please rerun this cell to show the HTML representation or trust the notebook. <br />On GitHub, the HTML representation is unable to render, please try loading this page with nbviewer.org.</b></div><div class=\"sk-container\" hidden><div class=\"sk-item\"><div class=\"sk-estimator sk-toggleable\"><input class=\"sk-toggleable__control sk-hidden--visually\" id=\"sk-estimator-id-2\" type=\"checkbox\" checked><label for=\"sk-estimator-id-2\" class=\"sk-toggleable__label sk-toggleable__label-arrow\">XGBRegressor</label><div class=\"sk-toggleable__content\"><pre>XGBRegressor(base_score=0.5, booster=&#x27;gbtree&#x27;, colsample_bylevel=1,\n",
       "             colsample_bynode=1, colsample_bytree=1, enable_categorical=False,\n",
       "             eval_metric=&#x27;mae&#x27;, gamma=0.9799, gpu_id=-1, importance_type=None,\n",
       "             interaction_constraints=&#x27;&#x27;, learning_rate=0.1314, max_delta_step=0,\n",
       "             max_depth=9, min_child_weight=3, missing=nan,\n",
       "             monotone_constraints=&#x27;()&#x27;, n_estimators=795, n_jobs=-1,\n",
       "             num_parallel_tree=1, predictor=&#x27;auto&#x27;, random_state=0,\n",
       "             reg_alpha=0.7761, reg_lambda=2.37, scale_pos_weight=1, subsample=1,\n",
       "             tree_method=&#x27;exact&#x27;, validate_parameters=1, verbosity=None)</pre></div></div></div></div></div>"
      ],
      "text/plain": [
       "XGBRegressor(base_score=0.5, booster='gbtree', colsample_bylevel=1,\n",
       "             colsample_bynode=1, colsample_bytree=1, enable_categorical=False,\n",
       "             eval_metric='mae', gamma=0.9799, gpu_id=-1, importance_type=None,\n",
       "             interaction_constraints='', learning_rate=0.1314, max_delta_step=0,\n",
       "             max_depth=9, min_child_weight=3, missing=nan,\n",
       "             monotone_constraints='()', n_estimators=795, n_jobs=-1,\n",
       "             num_parallel_tree=1, predictor='auto', random_state=0,\n",
       "             reg_alpha=0.7761, reg_lambda=2.37, scale_pos_weight=1, subsample=1,\n",
       "             tree_method='exact', validate_parameters=1, verbosity=None)"
      ]
     },
     "execution_count": 16,
     "metadata": {},
     "output_type": "execute_result"
    }
   ],
   "source": [
    "best_model_xgb    = XGBRegressor(\n",
    "    learning_rate = 0.1314,\n",
    "    max_depth     = 9,\n",
    "    reg_lambda    = 2.37,\n",
    "    reg_alpha     = 0.7761,\n",
    "    gamma         = 0.9799,\n",
    "    n_estimators  = 795,\n",
    "    min_child_weight = 3,\n",
    "    n_jobs        = -1,\n",
    "    eval_metric='mae',\n",
    ")\n",
    "best_model_xgb.fit(\n",
    "    X_train, \n",
    "    y_train,\n",
    "    eval_set=[(X_val, y_val)],\n",
    "    early_stopping_rounds=10,\n",
    "    verbose=False,\n",
    "    eval_metric='mae'\n",
    "    )"
   ]
  },
  {
   "cell_type": "code",
   "execution_count": 33,
   "metadata": {},
   "outputs": [
    {
     "name": "stdout",
     "output_type": "stream",
     "text": [
      "MAE:   563.7487701392727\n",
      "MSE :  663344.0692180938 es sesgada hacia el enorme valor de conjuntos  de datos\n",
      "RMSE:  814.4593723557325\n",
      "RMSLE: 6.702524546326244\n",
      "R2:    0.6312095245281149\n"
     ]
    }
   ],
   "source": [
    "print_metrics(y_test, best_model_xgb.predict(X_test))"
   ]
  },
  {
   "cell_type": "code",
   "execution_count": 18,
   "metadata": {},
   "outputs": [],
   "source": [
    "params ={\n",
    "  'gamma': 0.9799,\n",
    "  'learning_rate': 0.1314,\n",
    "  'max_depth': 9,\n",
    "  'min_child_weight': 3,\n",
    "  'reg_lambda': 2.37,\n",
    "  'subsample': 0.7761,\n",
    "  'reg_alpha': 0.7761\n",
    "}\n",
    "\n",
    "num_boost_round = 795"
   ]
  },
  {
   "cell_type": "code",
   "execution_count": 19,
   "metadata": {},
   "outputs": [
    {
     "data": {
      "text/html": [
       "<div>\n",
       "<style scoped>\n",
       "    .dataframe tbody tr th:only-of-type {\n",
       "        vertical-align: middle;\n",
       "    }\n",
       "\n",
       "    .dataframe tbody tr th {\n",
       "        vertical-align: top;\n",
       "    }\n",
       "\n",
       "    .dataframe thead th {\n",
       "        text-align: right;\n",
       "    }\n",
       "</style>\n",
       "<table border=\"1\" class=\"dataframe\">\n",
       "  <thead>\n",
       "    <tr style=\"text-align: right;\">\n",
       "      <th></th>\n",
       "      <th>train-mae-mean</th>\n",
       "      <th>train-mae-std</th>\n",
       "      <th>test-mae-mean</th>\n",
       "      <th>test-mae-std</th>\n",
       "    </tr>\n",
       "  </thead>\n",
       "  <tbody>\n",
       "    <tr>\n",
       "      <th>0</th>\n",
       "      <td>1707.712598</td>\n",
       "      <td>22.809858</td>\n",
       "      <td>1705.766358</td>\n",
       "      <td>106.470707</td>\n",
       "    </tr>\n",
       "    <tr>\n",
       "      <th>1</th>\n",
       "      <td>1503.874878</td>\n",
       "      <td>20.659752</td>\n",
       "      <td>1504.854517</td>\n",
       "      <td>100.593316</td>\n",
       "    </tr>\n",
       "    <tr>\n",
       "      <th>2</th>\n",
       "      <td>1328.007276</td>\n",
       "      <td>22.240899</td>\n",
       "      <td>1332.786816</td>\n",
       "      <td>88.352870</td>\n",
       "    </tr>\n",
       "    <tr>\n",
       "      <th>3</th>\n",
       "      <td>1179.704736</td>\n",
       "      <td>18.248206</td>\n",
       "      <td>1186.477442</td>\n",
       "      <td>90.557399</td>\n",
       "    </tr>\n",
       "    <tr>\n",
       "      <th>4</th>\n",
       "      <td>1046.666150</td>\n",
       "      <td>18.173497</td>\n",
       "      <td>1067.921741</td>\n",
       "      <td>86.787726</td>\n",
       "    </tr>\n",
       "  </tbody>\n",
       "</table>\n",
       "</div>"
      ],
      "text/plain": [
       "   train-mae-mean  train-mae-std  test-mae-mean  test-mae-std\n",
       "0     1707.712598      22.809858    1705.766358    106.470707\n",
       "1     1503.874878      20.659752    1504.854517    100.593316\n",
       "2     1328.007276      22.240899    1332.786816     88.352870\n",
       "3     1179.704736      18.248206    1186.477442     90.557399\n",
       "4     1046.666150      18.173497    1067.921741     86.787726"
      ]
     },
     "execution_count": 19,
     "metadata": {},
     "output_type": "execute_result"
    }
   ],
   "source": [
    "data_matrix= xgboost.DMatrix(data= X_train, label=y_train)\n",
    "xgb_cv = cv(params=params,\n",
    "    num_boost_round=num_boost_round,\n",
    "    dtrain=data_matrix,\n",
    "    stratified=False,\n",
    "    nfold=5,\n",
    "    early_stopping_rounds=10, \n",
    "    metrics=\"mae\",\n",
    "    as_pandas=True,\n",
    "    seed=10)\n",
    "xgb_cv.head()"
   ]
  },
  {
   "cell_type": "code",
   "execution_count": 20,
   "metadata": {},
   "outputs": [
    {
     "data": {
      "text/plain": [
       "['../../models/model_xgboost_floral-sweep-34.pkl']"
      ]
     },
     "execution_count": 20,
     "metadata": {},
     "output_type": "execute_result"
    }
   ],
   "source": [
    "#Saving xgboost model\n",
    "joblib.dump(best_model_xgb, '../../models/model_xgboost_floral-sweep-34.pkl')"
   ]
  },
  {
   "cell_type": "markdown",
   "metadata": {},
   "source": [
    "### Training model with another way. Max params of optimizer:\n"
   ]
  },
  {
   "cell_type": "code",
   "execution_count": 24,
   "metadata": {},
   "outputs": [],
   "source": [
    "pbounds = {\n",
    "    'learning_rate': (0.001, 0.2),\n",
    "    'subsample':(0.1,1),\n",
    "    'max_depth': (2,9),\n",
    "    'reg_lambda': (0.1, 4),\n",
    "    'reg_alpha': (0.1, 4),\n",
    "    'gamma': (0.001, 1),\n",
    "    'n_estimators':(100, 500),\n",
    "    'mcw': (2,8)\n",
    "}"
   ]
  },
  {
   "cell_type": "code",
   "execution_count": 21,
   "metadata": {},
   "outputs": [],
   "source": [
    "def xgboost_hyper_param(learning_rate,\n",
    "                        mcw,\n",
    "                        max_depth,\n",
    "                        reg_lambda,\n",
    "                        reg_alpha,\n",
    "                        gamma,\n",
    "                        n_estimators,\n",
    "                        subsample):\n",
    "    \n",
    "    max_depth = int(max_depth)\n",
    "    n_estimators = int(n_estimators)\n",
    "\n",
    "    reg = XGBRegressor(\n",
    "        use_label_encoder=False,\n",
    "        n_estimators=n_estimators,\n",
    "        subsample= subsample,\n",
    "        n_jobs=-1, #Please, change wuth the number of cores you have !!!\n",
    "        max_depth=max_depth,\n",
    "        learning_rate=learning_rate,\n",
    "        min_child_weight=mcw,\n",
    "        reg_lambda=reg_lambda,\n",
    "        gamma=gamma,\n",
    "        eval_metric='rmse')\n",
    "\n",
    "    reg.fit(X_train, y_train, eval_set=[(X_train, y_train), (X_val, y_val)], \n",
    "           eval_metric='rmse', early_stopping_rounds=10, verbose = False)\n",
    "    y_pred = reg.predict(X_test)\n",
    "    return r2_score(y_test, y_pred)"
   ]
  },
  {
   "cell_type": "code",
   "execution_count": 25,
   "metadata": {},
   "outputs": [],
   "source": [
    "optimizer = BayesianOptimization(\n",
    "    f=xgboost_hyper_param,\n",
    "    pbounds=pbounds,\n",
    "    random_state=1,\n",
    ")"
   ]
  },
  {
   "cell_type": "code",
   "execution_count": 26,
   "metadata": {},
   "outputs": [
    {
     "name": "stdout",
     "output_type": "stream",
     "text": [
      "|   iter    |  target   |   gamma   | learni... | max_depth |    mcw    | n_esti... | reg_alpha | reg_la... | subsample |\n",
      "-------------------------------------------------------------------------------------------------------------------------\n",
      "| \u001b[0m1        \u001b[0m | \u001b[0m0.5757   \u001b[0m | \u001b[0m0.4176   \u001b[0m | \u001b[0m0.1443   \u001b[0m | \u001b[0m2.001    \u001b[0m | \u001b[0m3.814    \u001b[0m | \u001b[0m158.7    \u001b[0m | \u001b[0m0.4601   \u001b[0m | \u001b[0m0.8264   \u001b[0m | \u001b[0m0.411    \u001b[0m |\n",
      "| \u001b[95m2        \u001b[0m | \u001b[95m0.6121   \u001b[0m | \u001b[95m0.3974   \u001b[0m | \u001b[95m0.1082   \u001b[0m | \u001b[95m4.934    \u001b[0m | \u001b[95m6.111    \u001b[0m | \u001b[95m181.8    \u001b[0m | \u001b[95m3.525    \u001b[0m | \u001b[95m0.2068   \u001b[0m | \u001b[95m0.7034   \u001b[0m |\n",
      "| \u001b[0m3        \u001b[0m | \u001b[0m0.5963   \u001b[0m | \u001b[0m0.4543   \u001b[0m | \u001b[0m0.1772   \u001b[0m | \u001b[0m4.422    \u001b[0m | \u001b[0m5.39     \u001b[0m | \u001b[0m181.9    \u001b[0m | \u001b[0m3.594    \u001b[0m | \u001b[0m0.5484   \u001b[0m | \u001b[0m0.6797   \u001b[0m |\n",
      "| \u001b[0m4        \u001b[0m | \u001b[0m0.5755   \u001b[0m | \u001b[0m0.3503   \u001b[0m | \u001b[0m0.09523  \u001b[0m | \u001b[0m3.769    \u001b[0m | \u001b[0m6.177    \u001b[0m | \u001b[0m182.7    \u001b[0m | \u001b[0m3.533    \u001b[0m | \u001b[0m0.4726   \u001b[0m | \u001b[0m0.4208   \u001b[0m |\n",
      "| \u001b[0m5        \u001b[0m | \u001b[0m0.6014   \u001b[0m | \u001b[0m0.01143  \u001b[0m | \u001b[0m0.1984   \u001b[0m | \u001b[0m4.853    \u001b[0m | \u001b[0m6.565    \u001b[0m | \u001b[0m182.5    \u001b[0m | \u001b[0m3.684    \u001b[0m | \u001b[0m0.8513   \u001b[0m | \u001b[0m0.6193   \u001b[0m |\n",
      "| \u001b[95m6        \u001b[0m | \u001b[95m0.6271   \u001b[0m | \u001b[95m0.8992   \u001b[0m | \u001b[95m0.07846  \u001b[0m | \u001b[95m5.336    \u001b[0m | \u001b[95m7.137    \u001b[0m | \u001b[95m181.3    \u001b[0m | \u001b[95m3.497    \u001b[0m | \u001b[95m0.9031   \u001b[0m | \u001b[95m0.5921   \u001b[0m |\n",
      "| \u001b[0m7        \u001b[0m | \u001b[0m0.5406   \u001b[0m | \u001b[0m0.6038   \u001b[0m | \u001b[0m0.12     \u001b[0m | \u001b[0m7.487    \u001b[0m | \u001b[0m7.526    \u001b[0m | \u001b[0m181.0    \u001b[0m | \u001b[0m3.436    \u001b[0m | \u001b[0m1.004    \u001b[0m | \u001b[0m0.2617   \u001b[0m |\n",
      "| \u001b[0m8        \u001b[0m | \u001b[0m0.5809   \u001b[0m | \u001b[0m0.8323   \u001b[0m | \u001b[0m0.1445   \u001b[0m | \u001b[0m4.454    \u001b[0m | \u001b[0m7.007    \u001b[0m | \u001b[0m181.7    \u001b[0m | \u001b[0m2.198    \u001b[0m | \u001b[0m1.07     \u001b[0m | \u001b[0m0.4819   \u001b[0m |\n",
      "| \u001b[95m9        \u001b[0m | \u001b[95m0.6402   \u001b[0m | \u001b[95m0.961    \u001b[0m | \u001b[95m0.0455   \u001b[0m | \u001b[95m5.799    \u001b[0m | \u001b[95m6.645    \u001b[0m | \u001b[95m180.9    \u001b[0m | \u001b[95m3.666    \u001b[0m | \u001b[95m1.068    \u001b[0m | \u001b[95m0.9576   \u001b[0m |\n",
      "| \u001b[0m10       \u001b[0m | \u001b[0m0.2367   \u001b[0m | \u001b[0m0.1098   \u001b[0m | \u001b[0m0.005997 \u001b[0m | \u001b[0m4.912    \u001b[0m | \u001b[0m5.055    \u001b[0m | \u001b[0m179.4    \u001b[0m | \u001b[0m3.961    \u001b[0m | \u001b[0m1.375    \u001b[0m | \u001b[0m0.807    \u001b[0m |\n",
      "| \u001b[0m11       \u001b[0m | \u001b[0m0.6288   \u001b[0m | \u001b[0m0.6149   \u001b[0m | \u001b[0m0.1046   \u001b[0m | \u001b[0m6.277    \u001b[0m | \u001b[0m4.422    \u001b[0m | \u001b[0m184.5    \u001b[0m | \u001b[0m1.63     \u001b[0m | \u001b[0m0.458    \u001b[0m | \u001b[0m0.8475   \u001b[0m |\n",
      "| \u001b[95m12       \u001b[0m | \u001b[95m0.6444   \u001b[0m | \u001b[95m0.9798   \u001b[0m | \u001b[95m0.1908   \u001b[0m | \u001b[95m6.026    \u001b[0m | \u001b[95m5.335    \u001b[0m | \u001b[95m185.3    \u001b[0m | \u001b[95m3.448    \u001b[0m | \u001b[95m1.159    \u001b[0m | \u001b[95m0.6095   \u001b[0m |\n",
      "| \u001b[0m13       \u001b[0m | \u001b[0m-1.364   \u001b[0m | \u001b[0m1.0      \u001b[0m | \u001b[0m0.001    \u001b[0m | \u001b[0m6.767    \u001b[0m | \u001b[0m5.336    \u001b[0m | \u001b[0m183.2    \u001b[0m | \u001b[0m3.919    \u001b[0m | \u001b[0m0.3338   \u001b[0m | \u001b[0m1.0      \u001b[0m |\n",
      "| \u001b[0m14       \u001b[0m | \u001b[0m0.6326   \u001b[0m | \u001b[0m0.01822  \u001b[0m | \u001b[0m0.02569  \u001b[0m | \u001b[0m5.257    \u001b[0m | \u001b[0m4.539    \u001b[0m | \u001b[0m185.8    \u001b[0m | \u001b[0m3.177    \u001b[0m | \u001b[0m2.391    \u001b[0m | \u001b[0m0.362    \u001b[0m |\n",
      "| \u001b[0m15       \u001b[0m | \u001b[0m0.5568   \u001b[0m | \u001b[0m0.07226  \u001b[0m | \u001b[0m0.06521  \u001b[0m | \u001b[0m5.664    \u001b[0m | \u001b[0m4.977    \u001b[0m | \u001b[0m186.2    \u001b[0m | \u001b[0m1.882    \u001b[0m | \u001b[0m1.129    \u001b[0m | \u001b[0m0.1744   \u001b[0m |\n",
      "| \u001b[0m16       \u001b[0m | \u001b[0m0.5588   \u001b[0m | \u001b[0m0.2562   \u001b[0m | \u001b[0m0.1149   \u001b[0m | \u001b[0m4.479    \u001b[0m | \u001b[0m6.582    \u001b[0m | \u001b[0m185.0    \u001b[0m | \u001b[0m2.39     \u001b[0m | \u001b[0m2.172    \u001b[0m | \u001b[0m0.2805   \u001b[0m |\n",
      "| \u001b[0m17       \u001b[0m | \u001b[0m0.6164   \u001b[0m | \u001b[0m1.0      \u001b[0m | \u001b[0m0.2      \u001b[0m | \u001b[0m5.467    \u001b[0m | \u001b[0m5.968    \u001b[0m | \u001b[0m187.1    \u001b[0m | \u001b[0m3.873    \u001b[0m | \u001b[0m1.709    \u001b[0m | \u001b[0m0.727    \u001b[0m |\n",
      "| \u001b[0m18       \u001b[0m | \u001b[0m0.6352   \u001b[0m | \u001b[0m1.0      \u001b[0m | \u001b[0m0.2      \u001b[0m | \u001b[0m6.778    \u001b[0m | \u001b[0m3.898    \u001b[0m | \u001b[0m186.9    \u001b[0m | \u001b[0m3.159    \u001b[0m | \u001b[0m1.55     \u001b[0m | \u001b[0m1.0      \u001b[0m |\n",
      "| \u001b[0m19       \u001b[0m | \u001b[0m-0.6113  \u001b[0m | \u001b[0m0.3184   \u001b[0m | \u001b[0m0.00243  \u001b[0m | \u001b[0m4.862    \u001b[0m | \u001b[0m3.04     \u001b[0m | \u001b[0m185.0    \u001b[0m | \u001b[0m0.4139   \u001b[0m | \u001b[0m1.014    \u001b[0m | \u001b[0m0.6822   \u001b[0m |\n",
      "| \u001b[0m20       \u001b[0m | \u001b[0m0.6282   \u001b[0m | \u001b[0m0.1789   \u001b[0m | \u001b[0m0.08748  \u001b[0m | \u001b[0m7.005    \u001b[0m | \u001b[0m5.709    \u001b[0m | \u001b[0m185.7    \u001b[0m | \u001b[0m2.27     \u001b[0m | \u001b[0m2.563    \u001b[0m | \u001b[0m0.5431   \u001b[0m |\n",
      "| \u001b[0m21       \u001b[0m | \u001b[0m0.4405   \u001b[0m | \u001b[0m1.0      \u001b[0m | \u001b[0m0.2      \u001b[0m | \u001b[0m7.289    \u001b[0m | \u001b[0m5.874    \u001b[0m | \u001b[0m187.0    \u001b[0m | \u001b[0m2.686    \u001b[0m | \u001b[0m0.8517   \u001b[0m | \u001b[0m0.1      \u001b[0m |\n",
      "| \u001b[0m22       \u001b[0m | \u001b[0m0.6273   \u001b[0m | \u001b[0m0.4764   \u001b[0m | \u001b[0m0.09838  \u001b[0m | \u001b[0m5.988    \u001b[0m | \u001b[0m3.982    \u001b[0m | \u001b[0m188.3    \u001b[0m | \u001b[0m3.068    \u001b[0m | \u001b[0m3.309    \u001b[0m | \u001b[0m0.6175   \u001b[0m |\n",
      "| \u001b[0m23       \u001b[0m | \u001b[0m0.6221   \u001b[0m | \u001b[0m0.1166   \u001b[0m | \u001b[0m0.1603   \u001b[0m | \u001b[0m4.149    \u001b[0m | \u001b[0m6.034    \u001b[0m | \u001b[0m187.6    \u001b[0m | \u001b[0m3.155    \u001b[0m | \u001b[0m3.345    \u001b[0m | \u001b[0m0.9181   \u001b[0m |\n",
      "| \u001b[0m24       \u001b[0m | \u001b[0m0.6213   \u001b[0m | \u001b[0m0.9535   \u001b[0m | \u001b[0m0.02482  \u001b[0m | \u001b[0m5.608    \u001b[0m | \u001b[0m5.403    \u001b[0m | \u001b[0m187.2    \u001b[0m | \u001b[0m2.481    \u001b[0m | \u001b[0m3.723    \u001b[0m | \u001b[0m0.3609   \u001b[0m |\n",
      "| \u001b[0m25       \u001b[0m | \u001b[0m0.6118   \u001b[0m | \u001b[0m0.001    \u001b[0m | \u001b[0m0.2      \u001b[0m | \u001b[0m6.774    \u001b[0m | \u001b[0m5.196    \u001b[0m | \u001b[0m186.8    \u001b[0m | \u001b[0m4.0      \u001b[0m | \u001b[0m3.375    \u001b[0m | \u001b[0m1.0      \u001b[0m |\n",
      "| \u001b[0m26       \u001b[0m | \u001b[0m0.6122   \u001b[0m | \u001b[0m0.5344   \u001b[0m | \u001b[0m0.1785   \u001b[0m | \u001b[0m5.588    \u001b[0m | \u001b[0m6.494    \u001b[0m | \u001b[0m189.6    \u001b[0m | \u001b[0m3.651    \u001b[0m | \u001b[0m3.657    \u001b[0m | \u001b[0m0.8966   \u001b[0m |\n",
      "| \u001b[0m27       \u001b[0m | \u001b[0m0.6281   \u001b[0m | \u001b[0m0.211    \u001b[0m | \u001b[0m0.08148  \u001b[0m | \u001b[0m4.774    \u001b[0m | \u001b[0m7.764    \u001b[0m | \u001b[0m188.5    \u001b[0m | \u001b[0m2.157    \u001b[0m | \u001b[0m2.235    \u001b[0m | \u001b[0m0.5577   \u001b[0m |\n",
      "| \u001b[0m28       \u001b[0m | \u001b[0m0.6292   \u001b[0m | \u001b[0m0.1502   \u001b[0m | \u001b[0m0.03166  \u001b[0m | \u001b[0m3.638    \u001b[0m | \u001b[0m5.622    \u001b[0m | \u001b[0m189.4    \u001b[0m | \u001b[0m2.582    \u001b[0m | \u001b[0m1.717    \u001b[0m | \u001b[0m0.8343   \u001b[0m |\n",
      "| \u001b[0m29       \u001b[0m | \u001b[0m0.623    \u001b[0m | \u001b[0m0.1005   \u001b[0m | \u001b[0m0.1551   \u001b[0m | \u001b[0m5.338    \u001b[0m | \u001b[0m6.779    \u001b[0m | \u001b[0m189.5    \u001b[0m | \u001b[0m1.016    \u001b[0m | \u001b[0m3.691    \u001b[0m | \u001b[0m0.9694   \u001b[0m |\n",
      "| \u001b[95m30       \u001b[0m | \u001b[95m0.6452   \u001b[0m | \u001b[95m0.2147   \u001b[0m | \u001b[95m0.1194   \u001b[0m | \u001b[95m6.561    \u001b[0m | \u001b[95m4.829    \u001b[0m | \u001b[95m190.0    \u001b[0m | \u001b[95m2.971    \u001b[0m | \u001b[95m1.904    \u001b[0m | \u001b[95m0.6568   \u001b[0m |\n",
      "| \u001b[0m31       \u001b[0m | \u001b[0m0.6114   \u001b[0m | \u001b[0m0.5581   \u001b[0m | \u001b[0m0.1724   \u001b[0m | \u001b[0m4.993    \u001b[0m | \u001b[0m3.036    \u001b[0m | \u001b[0m189.5    \u001b[0m | \u001b[0m3.369    \u001b[0m | \u001b[0m1.832    \u001b[0m | \u001b[0m0.7207   \u001b[0m |\n",
      "| \u001b[0m32       \u001b[0m | \u001b[0m0.6221   \u001b[0m | \u001b[0m0.5945   \u001b[0m | \u001b[0m0.08768  \u001b[0m | \u001b[0m5.25     \u001b[0m | \u001b[0m4.518    \u001b[0m | \u001b[0m189.9    \u001b[0m | \u001b[0m0.5863   \u001b[0m | \u001b[0m2.73     \u001b[0m | \u001b[0m0.9317   \u001b[0m |\n",
      "| \u001b[0m33       \u001b[0m | \u001b[0m0.4836   \u001b[0m | \u001b[0m0.001    \u001b[0m | \u001b[0m0.2      \u001b[0m | \u001b[0m4.573    \u001b[0m | \u001b[0m4.81     \u001b[0m | \u001b[0m190.1    \u001b[0m | \u001b[0m2.526    \u001b[0m | \u001b[0m3.599    \u001b[0m | \u001b[0m0.1      \u001b[0m |\n",
      "| \u001b[0m34       \u001b[0m | \u001b[0m0.6427   \u001b[0m | \u001b[0m0.07571  \u001b[0m | \u001b[0m0.05431  \u001b[0m | \u001b[0m7.568    \u001b[0m | \u001b[0m6.62     \u001b[0m | \u001b[0m189.7    \u001b[0m | \u001b[0m1.714    \u001b[0m | \u001b[0m3.134    \u001b[0m | \u001b[0m0.7867   \u001b[0m |\n",
      "| \u001b[0m35       \u001b[0m | \u001b[0m0.5945   \u001b[0m | \u001b[0m0.001    \u001b[0m | \u001b[0m0.2      \u001b[0m | \u001b[0m5.921    \u001b[0m | \u001b[0m5.744    \u001b[0m | \u001b[0m188.4    \u001b[0m | \u001b[0m1.832    \u001b[0m | \u001b[0m2.192    \u001b[0m | \u001b[0m1.0      \u001b[0m |\n",
      "| \u001b[0m36       \u001b[0m | \u001b[0m0.6412   \u001b[0m | \u001b[0m0.6736   \u001b[0m | \u001b[0m0.03099  \u001b[0m | \u001b[0m8.616    \u001b[0m | \u001b[0m5.174    \u001b[0m | \u001b[0m189.8    \u001b[0m | \u001b[0m3.271    \u001b[0m | \u001b[0m3.322    \u001b[0m | \u001b[0m0.8663   \u001b[0m |\n",
      "| \u001b[95m37       \u001b[0m | \u001b[95m0.6489   \u001b[0m | \u001b[95m0.8291   \u001b[0m | \u001b[95m0.08902  \u001b[0m | \u001b[95m8.22     \u001b[0m | \u001b[95m2.567    \u001b[0m | \u001b[95m189.0    \u001b[0m | \u001b[95m3.209    \u001b[0m | \u001b[95m2.492    \u001b[0m | \u001b[95m0.8311   \u001b[0m |\n",
      "| \u001b[0m38       \u001b[0m | \u001b[0m0.6193   \u001b[0m | \u001b[0m0.8378   \u001b[0m | \u001b[0m0.1456   \u001b[0m | \u001b[0m7.512    \u001b[0m | \u001b[0m4.406    \u001b[0m | \u001b[0m191.1    \u001b[0m | \u001b[0m1.462    \u001b[0m | \u001b[0m3.947    \u001b[0m | \u001b[0m0.9825   \u001b[0m |\n",
      "| \u001b[0m39       \u001b[0m | \u001b[0m0.4968   \u001b[0m | \u001b[0m0.9582   \u001b[0m | \u001b[0m0.129    \u001b[0m | \u001b[0m8.147    \u001b[0m | \u001b[0m4.364    \u001b[0m | \u001b[0m189.1    \u001b[0m | \u001b[0m1.576    \u001b[0m | \u001b[0m1.713    \u001b[0m | \u001b[0m0.1082   \u001b[0m |\n",
      "| \u001b[0m40       \u001b[0m | \u001b[0m0.6195   \u001b[0m | \u001b[0m0.001    \u001b[0m | \u001b[0m0.2      \u001b[0m | \u001b[0m3.667    \u001b[0m | \u001b[0m7.519    \u001b[0m | \u001b[0m180.9    \u001b[0m | \u001b[0m4.0      \u001b[0m | \u001b[0m0.1      \u001b[0m | \u001b[0m1.0      \u001b[0m |\n",
      "| \u001b[0m41       \u001b[0m | \u001b[0m-1.401   \u001b[0m | \u001b[0m1.0      \u001b[0m | \u001b[0m0.001    \u001b[0m | \u001b[0m5.727    \u001b[0m | \u001b[0m6.665    \u001b[0m | \u001b[0m190.8    \u001b[0m | \u001b[0m1.921    \u001b[0m | \u001b[0m1.885    \u001b[0m | \u001b[0m1.0      \u001b[0m |\n",
      "| \u001b[0m42       \u001b[0m | \u001b[0m0.5961   \u001b[0m | \u001b[0m0.4342   \u001b[0m | \u001b[0m0.1259   \u001b[0m | \u001b[0m7.462    \u001b[0m | \u001b[0m4.186    \u001b[0m | \u001b[0m188.4    \u001b[0m | \u001b[0m3.623    \u001b[0m | \u001b[0m2.04     \u001b[0m | \u001b[0m0.3716   \u001b[0m |\n",
      "| \u001b[0m43       \u001b[0m | \u001b[0m0.6453   \u001b[0m | \u001b[0m0.04087  \u001b[0m | \u001b[0m0.02293  \u001b[0m | \u001b[0m8.025    \u001b[0m | \u001b[0m4.906    \u001b[0m | \u001b[0m188.9    \u001b[0m | \u001b[0m0.5841   \u001b[0m | \u001b[0m3.977    \u001b[0m | \u001b[0m0.9378   \u001b[0m |\n",
      "| \u001b[0m44       \u001b[0m | \u001b[0m0.6038   \u001b[0m | \u001b[0m0.2576   \u001b[0m | \u001b[0m0.1358   \u001b[0m | \u001b[0m6.751    \u001b[0m | \u001b[0m7.97     \u001b[0m | \u001b[0m187.5    \u001b[0m | \u001b[0m1.272    \u001b[0m | \u001b[0m3.846    \u001b[0m | \u001b[0m0.4431   \u001b[0m |\n",
      "| \u001b[0m45       \u001b[0m | \u001b[0m0.6049   \u001b[0m | \u001b[0m0.02425  \u001b[0m | \u001b[0m0.1195   \u001b[0m | \u001b[0m6.266    \u001b[0m | \u001b[0m4.599    \u001b[0m | \u001b[0m189.1    \u001b[0m | \u001b[0m1.309    \u001b[0m | \u001b[0m3.949    \u001b[0m | \u001b[0m0.5499   \u001b[0m |\n",
      "| \u001b[0m46       \u001b[0m | \u001b[0m0.4564   \u001b[0m | \u001b[0m0.9964   \u001b[0m | \u001b[0m0.009871 \u001b[0m | \u001b[0m3.451    \u001b[0m | \u001b[0m4.583    \u001b[0m | \u001b[0m187.7    \u001b[0m | \u001b[0m3.912    \u001b[0m | \u001b[0m1.866    \u001b[0m | \u001b[0m0.2714   \u001b[0m |\n",
      "| \u001b[0m47       \u001b[0m | \u001b[0m0.6026   \u001b[0m | \u001b[0m0.001    \u001b[0m | \u001b[0m0.2      \u001b[0m | \u001b[0m4.619    \u001b[0m | \u001b[0m6.784    \u001b[0m | \u001b[0m187.6    \u001b[0m | \u001b[0m0.9569   \u001b[0m | \u001b[0m3.611    \u001b[0m | \u001b[0m0.643    \u001b[0m |\n",
      "| \u001b[0m48       \u001b[0m | \u001b[0m0.4652   \u001b[0m | \u001b[0m0.1376   \u001b[0m | \u001b[0m0.08214  \u001b[0m | \u001b[0m2.941    \u001b[0m | \u001b[0m6.356    \u001b[0m | \u001b[0m187.6    \u001b[0m | \u001b[0m1.473    \u001b[0m | \u001b[0m1.835    \u001b[0m | \u001b[0m0.105    \u001b[0m |\n",
      "| \u001b[0m49       \u001b[0m | \u001b[0m0.6231   \u001b[0m | \u001b[0m0.448    \u001b[0m | \u001b[0m0.07327  \u001b[0m | \u001b[0m6.972    \u001b[0m | \u001b[0m4.973    \u001b[0m | \u001b[0m189.3    \u001b[0m | \u001b[0m3.192    \u001b[0m | \u001b[0m3.963    \u001b[0m | \u001b[0m0.9952   \u001b[0m |\n",
      "| \u001b[0m50       \u001b[0m | \u001b[0m0.623    \u001b[0m | \u001b[0m0.001    \u001b[0m | \u001b[0m0.2      \u001b[0m | \u001b[0m4.047    \u001b[0m | \u001b[0m5.025    \u001b[0m | \u001b[0m189.0    \u001b[0m | \u001b[0m0.1      \u001b[0m | \u001b[0m4.0      \u001b[0m | \u001b[0m1.0      \u001b[0m |\n",
      "| \u001b[0m51       \u001b[0m | \u001b[0m0.6199   \u001b[0m | \u001b[0m0.2472   \u001b[0m | \u001b[0m0.06341  \u001b[0m | \u001b[0m7.216    \u001b[0m | \u001b[0m6.096    \u001b[0m | \u001b[0m187.6    \u001b[0m | \u001b[0m0.1398   \u001b[0m | \u001b[0m3.28     \u001b[0m | \u001b[0m0.482    \u001b[0m |\n",
      "| \u001b[0m52       \u001b[0m | \u001b[0m0.5382   \u001b[0m | \u001b[0m0.6278   \u001b[0m | \u001b[0m0.1662   \u001b[0m | \u001b[0m7.852    \u001b[0m | \u001b[0m5.825    \u001b[0m | \u001b[0m187.7    \u001b[0m | \u001b[0m2.256    \u001b[0m | \u001b[0m3.296    \u001b[0m | \u001b[0m0.2307   \u001b[0m |\n",
      "| \u001b[0m53       \u001b[0m | \u001b[0m0.6311   \u001b[0m | \u001b[0m0.5421   \u001b[0m | \u001b[0m0.07264  \u001b[0m | \u001b[0m6.377    \u001b[0m | \u001b[0m2.66     \u001b[0m | \u001b[0m190.8    \u001b[0m | \u001b[0m2.005    \u001b[0m | \u001b[0m2.129    \u001b[0m | \u001b[0m0.3355   \u001b[0m |\n",
      "| \u001b[0m54       \u001b[0m | \u001b[0m0.6084   \u001b[0m | \u001b[0m0.001    \u001b[0m | \u001b[0m0.2      \u001b[0m | \u001b[0m6.815    \u001b[0m | \u001b[0m2.837    \u001b[0m | \u001b[0m189.9    \u001b[0m | \u001b[0m0.1      \u001b[0m | \u001b[0m3.116    \u001b[0m | \u001b[0m1.0      \u001b[0m |\n",
      "| \u001b[0m55       \u001b[0m | \u001b[0m0.5983   \u001b[0m | \u001b[0m0.001    \u001b[0m | \u001b[0m0.2      \u001b[0m | \u001b[0m7.202    \u001b[0m | \u001b[0m3.408    \u001b[0m | \u001b[0m190.6    \u001b[0m | \u001b[0m3.962    \u001b[0m | \u001b[0m2.698    \u001b[0m | \u001b[0m1.0      \u001b[0m |\n",
      "| \u001b[0m56       \u001b[0m | \u001b[0m0.6161   \u001b[0m | \u001b[0m0.001    \u001b[0m | \u001b[0m0.2      \u001b[0m | \u001b[0m5.828    \u001b[0m | \u001b[0m7.579    \u001b[0m | \u001b[0m187.8    \u001b[0m | \u001b[0m3.362    \u001b[0m | \u001b[0m4.0      \u001b[0m | \u001b[0m1.0      \u001b[0m |\n",
      "| \u001b[0m57       \u001b[0m | \u001b[0m0.3773   \u001b[0m | \u001b[0m0.3808   \u001b[0m | \u001b[0m0.00661  \u001b[0m | \u001b[0m7.078    \u001b[0m | \u001b[0m3.347    \u001b[0m | \u001b[0m190.0    \u001b[0m | \u001b[0m3.153    \u001b[0m | \u001b[0m0.799    \u001b[0m | \u001b[0m0.8646   \u001b[0m |\n",
      "| \u001b[0m58       \u001b[0m | \u001b[0m0.64     \u001b[0m | \u001b[0m0.05355  \u001b[0m | \u001b[0m0.09209  \u001b[0m | \u001b[0m7.881    \u001b[0m | \u001b[0m2.417    \u001b[0m | \u001b[0m188.1    \u001b[0m | \u001b[0m3.086    \u001b[0m | \u001b[0m3.961    \u001b[0m | \u001b[0m0.6874   \u001b[0m |\n",
      "| \u001b[95m59       \u001b[0m | \u001b[95m0.651    \u001b[0m | \u001b[95m0.1994   \u001b[0m | \u001b[95m0.09645  \u001b[0m | \u001b[95m8.775    \u001b[0m | \u001b[95m2.057    \u001b[0m | \u001b[95m190.1    \u001b[0m | \u001b[95m1.82     \u001b[0m | \u001b[95m2.732    \u001b[0m | \u001b[95m0.6278   \u001b[0m |\n",
      "| \u001b[0m60       \u001b[0m | \u001b[0m0.6469   \u001b[0m | \u001b[0m0.8798   \u001b[0m | \u001b[0m0.05027  \u001b[0m | \u001b[0m7.721    \u001b[0m | \u001b[0m2.192    \u001b[0m | \u001b[0m192.5    \u001b[0m | \u001b[0m1.775    \u001b[0m | \u001b[0m3.627    \u001b[0m | \u001b[0m0.515    \u001b[0m |\n",
      "| \u001b[0m61       \u001b[0m | \u001b[0m0.644    \u001b[0m | \u001b[0m0.897    \u001b[0m | \u001b[0m0.08824  \u001b[0m | \u001b[0m8.957    \u001b[0m | \u001b[0m2.382    \u001b[0m | \u001b[0m191.8    \u001b[0m | \u001b[0m1.316    \u001b[0m | \u001b[0m1.682    \u001b[0m | \u001b[0m0.4724   \u001b[0m |\n",
      "| \u001b[0m62       \u001b[0m | \u001b[0m0.6186   \u001b[0m | \u001b[0m1.0      \u001b[0m | \u001b[0m0.2      \u001b[0m | \u001b[0m9.0      \u001b[0m | \u001b[0m3.399    \u001b[0m | \u001b[0m189.6    \u001b[0m | \u001b[0m1.973    \u001b[0m | \u001b[0m4.0      \u001b[0m | \u001b[0m1.0      \u001b[0m |\n",
      "| \u001b[0m63       \u001b[0m | \u001b[0m0.6079   \u001b[0m | \u001b[0m0.3205   \u001b[0m | \u001b[0m0.1799   \u001b[0m | \u001b[0m4.605    \u001b[0m | \u001b[0m2.035    \u001b[0m | \u001b[0m189.9    \u001b[0m | \u001b[0m0.8375   \u001b[0m | \u001b[0m3.503    \u001b[0m | \u001b[0m0.6384   \u001b[0m |\n",
      "| \u001b[0m64       \u001b[0m | \u001b[0m0.6164   \u001b[0m | \u001b[0m0.2854   \u001b[0m | \u001b[0m0.1261   \u001b[0m | \u001b[0m5.534    \u001b[0m | \u001b[0m2.831    \u001b[0m | \u001b[0m191.9    \u001b[0m | \u001b[0m0.4827   \u001b[0m | \u001b[0m3.967    \u001b[0m | \u001b[0m0.7723   \u001b[0m |\n",
      "| \u001b[0m65       \u001b[0m | \u001b[0m-1.439   \u001b[0m | \u001b[0m0.001    \u001b[0m | \u001b[0m0.001    \u001b[0m | \u001b[0m9.0      \u001b[0m | \u001b[0m2.545    \u001b[0m | \u001b[0m187.6    \u001b[0m | \u001b[0m1.152    \u001b[0m | \u001b[0m3.01     \u001b[0m | \u001b[0m1.0      \u001b[0m |\n",
      "| \u001b[0m66       \u001b[0m | \u001b[0m0.6192   \u001b[0m | \u001b[0m0.06145  \u001b[0m | \u001b[0m0.04579  \u001b[0m | \u001b[0m8.394    \u001b[0m | \u001b[0m2.432    \u001b[0m | \u001b[0m192.3    \u001b[0m | \u001b[0m3.047    \u001b[0m | \u001b[0m2.13     \u001b[0m | \u001b[0m0.2921   \u001b[0m |\n",
      "| \u001b[0m67       \u001b[0m | \u001b[0m0.2828   \u001b[0m | \u001b[0m0.633    \u001b[0m | \u001b[0m0.00655  \u001b[0m | \u001b[0m8.814    \u001b[0m | \u001b[0m3.5      \u001b[0m | \u001b[0m191.3    \u001b[0m | \u001b[0m2.274    \u001b[0m | \u001b[0m3.289    \u001b[0m | \u001b[0m0.7999   \u001b[0m |\n",
      "| \u001b[0m68       \u001b[0m | \u001b[0m0.5994   \u001b[0m | \u001b[0m0.4645   \u001b[0m | \u001b[0m0.04586  \u001b[0m | \u001b[0m5.492    \u001b[0m | \u001b[0m2.562    \u001b[0m | \u001b[0m193.3    \u001b[0m | \u001b[0m2.983    \u001b[0m | \u001b[0m3.612    \u001b[0m | \u001b[0m0.2037   \u001b[0m |\n",
      "| \u001b[0m69       \u001b[0m | \u001b[0m0.6043   \u001b[0m | \u001b[0m0.001    \u001b[0m | \u001b[0m0.2      \u001b[0m | \u001b[0m3.909    \u001b[0m | \u001b[0m7.513    \u001b[0m | \u001b[0m181.5    \u001b[0m | \u001b[0m4.0      \u001b[0m | \u001b[0m2.611    \u001b[0m | \u001b[0m1.0      \u001b[0m |\n",
      "| \u001b[0m70       \u001b[0m | \u001b[0m0.6276   \u001b[0m | \u001b[0m0.2182   \u001b[0m | \u001b[0m0.06865  \u001b[0m | \u001b[0m5.13     \u001b[0m | \u001b[0m2.364    \u001b[0m | \u001b[0m190.8    \u001b[0m | \u001b[0m2.731    \u001b[0m | \u001b[0m3.98     \u001b[0m | \u001b[0m0.7465   \u001b[0m |\n",
      "| \u001b[0m71       \u001b[0m | \u001b[0m0.5849   \u001b[0m | \u001b[0m0.001    \u001b[0m | \u001b[0m0.2      \u001b[0m | \u001b[0m8.419    \u001b[0m | \u001b[0m6.853    \u001b[0m | \u001b[0m189.5    \u001b[0m | \u001b[0m0.1      \u001b[0m | \u001b[0m4.0      \u001b[0m | \u001b[0m0.3014   \u001b[0m |\n",
      "| \u001b[0m72       \u001b[0m | \u001b[0m0.6163   \u001b[0m | \u001b[0m0.4345   \u001b[0m | \u001b[0m0.1518   \u001b[0m | \u001b[0m7.427    \u001b[0m | \u001b[0m2.245    \u001b[0m | \u001b[0m190.3    \u001b[0m | \u001b[0m3.839    \u001b[0m | \u001b[0m3.869    \u001b[0m | \u001b[0m0.6232   \u001b[0m |\n",
      "| \u001b[0m73       \u001b[0m | \u001b[0m0.5033   \u001b[0m | \u001b[0m1.0      \u001b[0m | \u001b[0m0.2      \u001b[0m | \u001b[0m6.6      \u001b[0m | \u001b[0m2.0      \u001b[0m | \u001b[0m188.2    \u001b[0m | \u001b[0m4.0      \u001b[0m | \u001b[0m3.618    \u001b[0m | \u001b[0m0.1      \u001b[0m |\n",
      "| \u001b[0m74       \u001b[0m | \u001b[0m0.5083   \u001b[0m | \u001b[0m0.001    \u001b[0m | \u001b[0m0.2      \u001b[0m | \u001b[0m7.296    \u001b[0m | \u001b[0m2.0      \u001b[0m | \u001b[0m191.9    \u001b[0m | \u001b[0m0.2473   \u001b[0m | \u001b[0m2.36     \u001b[0m | \u001b[0m0.1      \u001b[0m |\n",
      "| \u001b[0m75       \u001b[0m | \u001b[0m0.6222   \u001b[0m | \u001b[0m0.02051  \u001b[0m | \u001b[0m0.07459  \u001b[0m | \u001b[0m3.169    \u001b[0m | \u001b[0m3.195    \u001b[0m | \u001b[0m190.4    \u001b[0m | \u001b[0m1.337    \u001b[0m | \u001b[0m1.774    \u001b[0m | \u001b[0m0.5177   \u001b[0m |\n",
      "| \u001b[0m76       \u001b[0m | \u001b[0m0.6222   \u001b[0m | \u001b[0m0.001    \u001b[0m | \u001b[0m0.2      \u001b[0m | \u001b[0m4.397    \u001b[0m | \u001b[0m2.0      \u001b[0m | \u001b[0m192.1    \u001b[0m | \u001b[0m1.906    \u001b[0m | \u001b[0m2.138    \u001b[0m | \u001b[0m1.0      \u001b[0m |\n",
      "| \u001b[0m77       \u001b[0m | \u001b[0m0.63     \u001b[0m | \u001b[0m1.0      \u001b[0m | \u001b[0m0.2      \u001b[0m | \u001b[0m6.78     \u001b[0m | \u001b[0m2.0      \u001b[0m | \u001b[0m193.4    \u001b[0m | \u001b[0m2.267    \u001b[0m | \u001b[0m1.683    \u001b[0m | \u001b[0m1.0      \u001b[0m |\n",
      "| \u001b[0m78       \u001b[0m | \u001b[0m0.6252   \u001b[0m | \u001b[0m0.4308   \u001b[0m | \u001b[0m0.1563   \u001b[0m | \u001b[0m2.818    \u001b[0m | \u001b[0m2.445    \u001b[0m | \u001b[0m189.9    \u001b[0m | \u001b[0m3.723    \u001b[0m | \u001b[0m2.975    \u001b[0m | \u001b[0m0.9844   \u001b[0m |\n",
      "| \u001b[0m79       \u001b[0m | \u001b[0m0.5915   \u001b[0m | \u001b[0m0.6303   \u001b[0m | \u001b[0m0.1159   \u001b[0m | \u001b[0m2.436    \u001b[0m | \u001b[0m2.187    \u001b[0m | \u001b[0m191.8    \u001b[0m | \u001b[0m0.7418   \u001b[0m | \u001b[0m3.859    \u001b[0m | \u001b[0m0.2816   \u001b[0m |\n",
      "| \u001b[0m80       \u001b[0m | \u001b[0m0.6404   \u001b[0m | \u001b[0m0.2302   \u001b[0m | \u001b[0m0.08271  \u001b[0m | \u001b[0m6.097    \u001b[0m | \u001b[0m7.911    \u001b[0m | \u001b[0m186.3    \u001b[0m | \u001b[0m1.066    \u001b[0m | \u001b[0m1.353    \u001b[0m | \u001b[0m0.845    \u001b[0m |\n",
      "| \u001b[0m81       \u001b[0m | \u001b[0m0.5949   \u001b[0m | \u001b[0m0.8263   \u001b[0m | \u001b[0m0.1945   \u001b[0m | \u001b[0m2.805    \u001b[0m | \u001b[0m3.07     \u001b[0m | \u001b[0m191.7    \u001b[0m | \u001b[0m3.109    \u001b[0m | \u001b[0m2.144    \u001b[0m | \u001b[0m0.6807   \u001b[0m |\n",
      "| \u001b[0m82       \u001b[0m | \u001b[0m0.4265   \u001b[0m | \u001b[0m0.001    \u001b[0m | \u001b[0m0.2      \u001b[0m | \u001b[0m3.705    \u001b[0m | \u001b[0m8.0      \u001b[0m | \u001b[0m188.7    \u001b[0m | \u001b[0m2.908    \u001b[0m | \u001b[0m4.0      \u001b[0m | \u001b[0m0.1      \u001b[0m |\n",
      "| \u001b[0m83       \u001b[0m | \u001b[0m0.5119   \u001b[0m | \u001b[0m0.2854   \u001b[0m | \u001b[0m0.1926   \u001b[0m | \u001b[0m8.981    \u001b[0m | \u001b[0m2.003    \u001b[0m | \u001b[0m194.9    \u001b[0m | \u001b[0m1.518    \u001b[0m | \u001b[0m0.8069   \u001b[0m | \u001b[0m0.1555   \u001b[0m |\n",
      "| \u001b[0m84       \u001b[0m | \u001b[0m0.6349   \u001b[0m | \u001b[0m0.236    \u001b[0m | \u001b[0m0.1965   \u001b[0m | \u001b[0m8.186    \u001b[0m | \u001b[0m7.575    \u001b[0m | \u001b[0m188.1    \u001b[0m | \u001b[0m3.328    \u001b[0m | \u001b[0m3.911    \u001b[0m | \u001b[0m0.8433   \u001b[0m |\n",
      "| \u001b[0m85       \u001b[0m | \u001b[0m0.6386   \u001b[0m | \u001b[0m0.6928   \u001b[0m | \u001b[0m0.1731   \u001b[0m | \u001b[0m6.841    \u001b[0m | \u001b[0m2.83     \u001b[0m | \u001b[0m195.2    \u001b[0m | \u001b[0m1.324    \u001b[0m | \u001b[0m3.729    \u001b[0m | \u001b[0m0.6982   \u001b[0m |\n",
      "| \u001b[0m86       \u001b[0m | \u001b[0m0.6352   \u001b[0m | \u001b[0m0.6897   \u001b[0m | \u001b[0m0.02368  \u001b[0m | \u001b[0m4.349    \u001b[0m | \u001b[0m2.394    \u001b[0m | \u001b[0m195.5    \u001b[0m | \u001b[0m2.241    \u001b[0m | \u001b[0m2.865    \u001b[0m | \u001b[0m0.3888   \u001b[0m |\n",
      "| \u001b[0m87       \u001b[0m | \u001b[0m0.6345   \u001b[0m | \u001b[0m0.5343   \u001b[0m | \u001b[0m0.03042  \u001b[0m | \u001b[0m4.706    \u001b[0m | \u001b[0m2.592    \u001b[0m | \u001b[0m194.3    \u001b[0m | \u001b[0m0.6587   \u001b[0m | \u001b[0m3.572    \u001b[0m | \u001b[0m0.5434   \u001b[0m |\n",
      "| \u001b[0m88       \u001b[0m | \u001b[0m0.5154   \u001b[0m | \u001b[0m0.7916   \u001b[0m | \u001b[0m0.1393   \u001b[0m | \u001b[0m3.226    \u001b[0m | \u001b[0m2.442    \u001b[0m | \u001b[0m194.1    \u001b[0m | \u001b[0m1.594    \u001b[0m | \u001b[0m1.366    \u001b[0m | \u001b[0m0.1495   \u001b[0m |\n",
      "| \u001b[0m89       \u001b[0m | \u001b[0m0.6131   \u001b[0m | \u001b[0m0.32     \u001b[0m | \u001b[0m0.05226  \u001b[0m | \u001b[0m2.853    \u001b[0m | \u001b[0m3.519    \u001b[0m | \u001b[0m189.2    \u001b[0m | \u001b[0m1.803    \u001b[0m | \u001b[0m3.665    \u001b[0m | \u001b[0m0.7074   \u001b[0m |\n",
      "| \u001b[0m90       \u001b[0m | \u001b[0m-1.385   \u001b[0m | \u001b[0m0.001    \u001b[0m | \u001b[0m0.001    \u001b[0m | \u001b[0m5.892    \u001b[0m | \u001b[0m2.0      \u001b[0m | \u001b[0m195.1    \u001b[0m | \u001b[0m1.051    \u001b[0m | \u001b[0m1.879    \u001b[0m | \u001b[0m1.0      \u001b[0m |\n",
      "| \u001b[0m91       \u001b[0m | \u001b[0m0.5417   \u001b[0m | \u001b[0m0.8421   \u001b[0m | \u001b[0m0.1711   \u001b[0m | \u001b[0m3.666    \u001b[0m | \u001b[0m2.603    \u001b[0m | \u001b[0m193.9    \u001b[0m | \u001b[0m2.813    \u001b[0m | \u001b[0m3.83     \u001b[0m | \u001b[0m0.1456   \u001b[0m |\n",
      "| \u001b[0m92       \u001b[0m | \u001b[0m0.6252   \u001b[0m | \u001b[0m0.6559   \u001b[0m | \u001b[0m0.1424   \u001b[0m | \u001b[0m3.212    \u001b[0m | \u001b[0m3.039    \u001b[0m | \u001b[0m193.6    \u001b[0m | \u001b[0m0.4074   \u001b[0m | \u001b[0m3.855    \u001b[0m | \u001b[0m0.9575   \u001b[0m |\n",
      "| \u001b[0m93       \u001b[0m | \u001b[0m0.4883   \u001b[0m | \u001b[0m1.0      \u001b[0m | \u001b[0m0.2      \u001b[0m | \u001b[0m4.995    \u001b[0m | \u001b[0m3.811    \u001b[0m | \u001b[0m195.0    \u001b[0m | \u001b[0m1.797    \u001b[0m | \u001b[0m4.0      \u001b[0m | \u001b[0m0.1      \u001b[0m |\n",
      "| \u001b[0m94       \u001b[0m | \u001b[0m-1.542   \u001b[0m | \u001b[0m1.0      \u001b[0m | \u001b[0m0.001    \u001b[0m | \u001b[0m3.189    \u001b[0m | \u001b[0m2.121    \u001b[0m | \u001b[0m195.4    \u001b[0m | \u001b[0m1.131    \u001b[0m | \u001b[0m4.0      \u001b[0m | \u001b[0m0.1      \u001b[0m |\n",
      "| \u001b[0m95       \u001b[0m | \u001b[0m0.6434   \u001b[0m | \u001b[0m0.2351   \u001b[0m | \u001b[0m0.07242  \u001b[0m | \u001b[0m6.383    \u001b[0m | \u001b[0m3.793    \u001b[0m | \u001b[0m189.9    \u001b[0m | \u001b[0m1.455    \u001b[0m | \u001b[0m2.773    \u001b[0m | \u001b[0m0.9527   \u001b[0m |\n",
      "| \u001b[0m96       \u001b[0m | \u001b[0m0.6365   \u001b[0m | \u001b[0m0.1746   \u001b[0m | \u001b[0m0.1133   \u001b[0m | \u001b[0m7.093    \u001b[0m | \u001b[0m2.363    \u001b[0m | \u001b[0m189.2    \u001b[0m | \u001b[0m2.814    \u001b[0m | \u001b[0m3.686    \u001b[0m | \u001b[0m0.6405   \u001b[0m |\n",
      "| \u001b[0m97       \u001b[0m | \u001b[0m0.5445   \u001b[0m | \u001b[0m1.0      \u001b[0m | \u001b[0m0.2      \u001b[0m | \u001b[0m7.192    \u001b[0m | \u001b[0m3.743    \u001b[0m | \u001b[0m189.7    \u001b[0m | \u001b[0m2.803    \u001b[0m | \u001b[0m3.166    \u001b[0m | \u001b[0m0.2438   \u001b[0m |\n",
      "| \u001b[0m98       \u001b[0m | \u001b[0m0.6414   \u001b[0m | \u001b[0m0.5906   \u001b[0m | \u001b[0m0.08956  \u001b[0m | \u001b[0m5.308    \u001b[0m | \u001b[0m3.091    \u001b[0m | \u001b[0m190.7    \u001b[0m | \u001b[0m1.452    \u001b[0m | \u001b[0m2.935    \u001b[0m | \u001b[0m0.3534   \u001b[0m |\n",
      "| \u001b[0m99       \u001b[0m | \u001b[0m0.6372   \u001b[0m | \u001b[0m0.4793   \u001b[0m | \u001b[0m0.1004   \u001b[0m | \u001b[0m6.459    \u001b[0m | \u001b[0m2.112    \u001b[0m | \u001b[0m191.9    \u001b[0m | \u001b[0m3.33     \u001b[0m | \u001b[0m2.39     \u001b[0m | \u001b[0m0.9202   \u001b[0m |\n",
      "| \u001b[0m100      \u001b[0m | \u001b[0m0.6289   \u001b[0m | \u001b[0m0.6237   \u001b[0m | \u001b[0m0.1533   \u001b[0m | \u001b[0m4.323    \u001b[0m | \u001b[0m3.253    \u001b[0m | \u001b[0m192.8    \u001b[0m | \u001b[0m1.371    \u001b[0m | \u001b[0m3.409    \u001b[0m | \u001b[0m0.8      \u001b[0m |\n",
      "| \u001b[0m101      \u001b[0m | \u001b[0m0.634    \u001b[0m | \u001b[0m0.1069   \u001b[0m | \u001b[0m0.07004  \u001b[0m | \u001b[0m6.47     \u001b[0m | \u001b[0m7.683    \u001b[0m | \u001b[0m187.5    \u001b[0m | \u001b[0m2.056    \u001b[0m | \u001b[0m2.21     \u001b[0m | \u001b[0m0.6284   \u001b[0m |\n",
      "| \u001b[0m102      \u001b[0m | \u001b[0m-1.036   \u001b[0m | \u001b[0m0.07339  \u001b[0m | \u001b[0m0.001623 \u001b[0m | \u001b[0m4.523    \u001b[0m | \u001b[0m3.156    \u001b[0m | \u001b[0m191.8    \u001b[0m | \u001b[0m3.493    \u001b[0m | \u001b[0m2.622    \u001b[0m | \u001b[0m0.7741   \u001b[0m |\n",
      "| \u001b[0m103      \u001b[0m | \u001b[0m0.6282   \u001b[0m | \u001b[0m0.06114  \u001b[0m | \u001b[0m0.1171   \u001b[0m | \u001b[0m6.248    \u001b[0m | \u001b[0m6.494    \u001b[0m | \u001b[0m188.3    \u001b[0m | \u001b[0m2.07     \u001b[0m | \u001b[0m3.705    \u001b[0m | \u001b[0m0.7298   \u001b[0m |\n",
      "| \u001b[0m104      \u001b[0m | \u001b[0m0.6      \u001b[0m | \u001b[0m0.492    \u001b[0m | \u001b[0m0.03848  \u001b[0m | \u001b[0m5.592    \u001b[0m | \u001b[0m6.871    \u001b[0m | \u001b[0m186.4    \u001b[0m | \u001b[0m2.007    \u001b[0m | \u001b[0m1.782    \u001b[0m | \u001b[0m0.3536   \u001b[0m |\n",
      "| \u001b[0m105      \u001b[0m | \u001b[0m-0.8147  \u001b[0m | \u001b[0m0.888    \u001b[0m | \u001b[0m0.002314 \u001b[0m | \u001b[0m5.634    \u001b[0m | \u001b[0m2.2      \u001b[0m | \u001b[0m189.4    \u001b[0m | \u001b[0m1.787    \u001b[0m | \u001b[0m3.222    \u001b[0m | \u001b[0m0.3208   \u001b[0m |\n",
      "| \u001b[0m106      \u001b[0m | \u001b[0m0.6476   \u001b[0m | \u001b[0m0.6787   \u001b[0m | \u001b[0m0.05525  \u001b[0m | \u001b[0m5.846    \u001b[0m | \u001b[0m4.39     \u001b[0m | \u001b[0m187.6    \u001b[0m | \u001b[0m2.652    \u001b[0m | \u001b[0m2.062    \u001b[0m | \u001b[0m0.5968   \u001b[0m |\n",
      "| \u001b[0m107      \u001b[0m | \u001b[0m0.6121   \u001b[0m | \u001b[0m0.69     \u001b[0m | \u001b[0m0.007439 \u001b[0m | \u001b[0m6.163    \u001b[0m | \u001b[0m2.068    \u001b[0m | \u001b[0m387.2    \u001b[0m | \u001b[0m1.061    \u001b[0m | \u001b[0m3.416    \u001b[0m | \u001b[0m0.459    \u001b[0m |\n",
      "| \u001b[0m108      \u001b[0m | \u001b[0m0.6183   \u001b[0m | \u001b[0m0.7607   \u001b[0m | \u001b[0m0.09234  \u001b[0m | \u001b[0m6.759    \u001b[0m | \u001b[0m6.695    \u001b[0m | \u001b[0m165.7    \u001b[0m | \u001b[0m3.701    \u001b[0m | \u001b[0m3.811    \u001b[0m | \u001b[0m0.5556   \u001b[0m |\n",
      "| \u001b[0m109      \u001b[0m | \u001b[0m0.6384   \u001b[0m | \u001b[0m0.3651   \u001b[0m | \u001b[0m0.1265   \u001b[0m | \u001b[0m6.281    \u001b[0m | \u001b[0m5.34     \u001b[0m | \u001b[0m188.0    \u001b[0m | \u001b[0m2.955    \u001b[0m | \u001b[0m2.977    \u001b[0m | \u001b[0m0.7346   \u001b[0m |\n",
      "| \u001b[0m110      \u001b[0m | \u001b[0m0.6171   \u001b[0m | \u001b[0m0.03504  \u001b[0m | \u001b[0m0.07917  \u001b[0m | \u001b[0m5.327    \u001b[0m | \u001b[0m6.275    \u001b[0m | \u001b[0m186.9    \u001b[0m | \u001b[0m2.992    \u001b[0m | \u001b[0m3.31     \u001b[0m | \u001b[0m0.6086   \u001b[0m |\n",
      "| \u001b[0m111      \u001b[0m | \u001b[0m0.625    \u001b[0m | \u001b[0m0.3856   \u001b[0m | \u001b[0m0.1354   \u001b[0m | \u001b[0m6.008    \u001b[0m | \u001b[0m5.858    \u001b[0m | \u001b[0m187.2    \u001b[0m | \u001b[0m2.105    \u001b[0m | \u001b[0m2.029    \u001b[0m | \u001b[0m0.6805   \u001b[0m |\n",
      "| \u001b[0m112      \u001b[0m | \u001b[0m0.6339   \u001b[0m | \u001b[0m0.1164   \u001b[0m | \u001b[0m0.1148   \u001b[0m | \u001b[0m7.683    \u001b[0m | \u001b[0m3.45     \u001b[0m | \u001b[0m189.1    \u001b[0m | \u001b[0m3.588    \u001b[0m | \u001b[0m3.486    \u001b[0m | \u001b[0m1.0      \u001b[0m |\n",
      "| \u001b[0m113      \u001b[0m | \u001b[0m0.6476   \u001b[0m | \u001b[0m0.6945   \u001b[0m | \u001b[0m0.09774  \u001b[0m | \u001b[0m7.622    \u001b[0m | \u001b[0m2.029    \u001b[0m | \u001b[0m191.4    \u001b[0m | \u001b[0m2.352    \u001b[0m | \u001b[0m1.421    \u001b[0m | \u001b[0m0.7764   \u001b[0m |\n",
      "| \u001b[0m114      \u001b[0m | \u001b[0m0.6241   \u001b[0m | \u001b[0m0.8216   \u001b[0m | \u001b[0m0.1574   \u001b[0m | \u001b[0m5.836    \u001b[0m | \u001b[0m4.289    \u001b[0m | \u001b[0m187.3    \u001b[0m | \u001b[0m3.844    \u001b[0m | \u001b[0m2.167    \u001b[0m | \u001b[0m0.9904   \u001b[0m |\n",
      "| \u001b[0m115      \u001b[0m | \u001b[0m0.6223   \u001b[0m | \u001b[0m0.1459   \u001b[0m | \u001b[0m0.09177  \u001b[0m | \u001b[0m4.749    \u001b[0m | \u001b[0m5.312    \u001b[0m | \u001b[0m188.4    \u001b[0m | \u001b[0m1.763    \u001b[0m | \u001b[0m3.45     \u001b[0m | \u001b[0m1.0      \u001b[0m |\n",
      "| \u001b[0m116      \u001b[0m | \u001b[0m0.622    \u001b[0m | \u001b[0m0.5372   \u001b[0m | \u001b[0m0.07929  \u001b[0m | \u001b[0m3.526    \u001b[0m | \u001b[0m3.878    \u001b[0m | \u001b[0m190.9    \u001b[0m | \u001b[0m1.058    \u001b[0m | \u001b[0m3.906    \u001b[0m | \u001b[0m0.7162   \u001b[0m |\n",
      "| \u001b[0m117      \u001b[0m | \u001b[0m0.6009   \u001b[0m | \u001b[0m0.962    \u001b[0m | \u001b[0m0.1202   \u001b[0m | \u001b[0m3.64     \u001b[0m | \u001b[0m2.961    \u001b[0m | \u001b[0m190.4    \u001b[0m | \u001b[0m0.4607   \u001b[0m | \u001b[0m2.885    \u001b[0m | \u001b[0m0.3792   \u001b[0m |\n",
      "| \u001b[0m118      \u001b[0m | \u001b[0m0.6317   \u001b[0m | \u001b[0m0.7236   \u001b[0m | \u001b[0m0.06923  \u001b[0m | \u001b[0m6.91     \u001b[0m | \u001b[0m6.801    \u001b[0m | \u001b[0m188.9    \u001b[0m | \u001b[0m0.6311   \u001b[0m | \u001b[0m3.865    \u001b[0m | \u001b[0m0.6758   \u001b[0m |\n",
      "| \u001b[0m119      \u001b[0m | \u001b[0m0.6151   \u001b[0m | \u001b[0m0.4684   \u001b[0m | \u001b[0m0.1807   \u001b[0m | \u001b[0m2.961    \u001b[0m | \u001b[0m2.082    \u001b[0m | \u001b[0m192.3    \u001b[0m | \u001b[0m1.447    \u001b[0m | \u001b[0m2.258    \u001b[0m | \u001b[0m0.7052   \u001b[0m |\n",
      "| \u001b[0m120      \u001b[0m | \u001b[0m0.6376   \u001b[0m | \u001b[0m0.8943   \u001b[0m | \u001b[0m0.0338   \u001b[0m | \u001b[0m5.65     \u001b[0m | \u001b[0m2.983    \u001b[0m | \u001b[0m191.6    \u001b[0m | \u001b[0m1.043    \u001b[0m | \u001b[0m1.884    \u001b[0m | \u001b[0m0.9878   \u001b[0m |\n",
      "| \u001b[0m121      \u001b[0m | \u001b[0m0.6413   \u001b[0m | \u001b[0m0.05222  \u001b[0m | \u001b[0m0.03093  \u001b[0m | \u001b[0m6.02     \u001b[0m | \u001b[0m3.142    \u001b[0m | \u001b[0m193.3    \u001b[0m | \u001b[0m1.446    \u001b[0m | \u001b[0m3.739    \u001b[0m | \u001b[0m0.5262   \u001b[0m |\n",
      "| \u001b[0m122      \u001b[0m | \u001b[0m0.627    \u001b[0m | \u001b[0m0.001    \u001b[0m | \u001b[0m0.2      \u001b[0m | \u001b[0m5.152    \u001b[0m | \u001b[0m4.795    \u001b[0m | \u001b[0m188.8    \u001b[0m | \u001b[0m3.642    \u001b[0m | \u001b[0m2.096    \u001b[0m | \u001b[0m1.0      \u001b[0m |\n",
      "| \u001b[0m123      \u001b[0m | \u001b[0m0.5528   \u001b[0m | \u001b[0m0.1529   \u001b[0m | \u001b[0m0.1577   \u001b[0m | \u001b[0m4.925    \u001b[0m | \u001b[0m2.09     \u001b[0m | \u001b[0m191.3    \u001b[0m | \u001b[0m0.9837   \u001b[0m | \u001b[0m2.311    \u001b[0m | \u001b[0m0.1884   \u001b[0m |\n",
      "| \u001b[0m124      \u001b[0m | \u001b[0m0.6253   \u001b[0m | \u001b[0m0.3583   \u001b[0m | \u001b[0m0.07026  \u001b[0m | \u001b[0m5.773    \u001b[0m | \u001b[0m6.295    \u001b[0m | \u001b[0m186.1    \u001b[0m | \u001b[0m1.005    \u001b[0m | \u001b[0m3.064    \u001b[0m | \u001b[0m0.806    \u001b[0m |\n",
      "| \u001b[0m125      \u001b[0m | \u001b[0m0.6169   \u001b[0m | \u001b[0m0.5597   \u001b[0m | \u001b[0m0.06522  \u001b[0m | \u001b[0m7.81     \u001b[0m | \u001b[0m4.385    \u001b[0m | \u001b[0m190.0    \u001b[0m | \u001b[0m0.356    \u001b[0m | \u001b[0m3.139    \u001b[0m | \u001b[0m0.3915   \u001b[0m |\n",
      "| \u001b[0m126      \u001b[0m | \u001b[0m0.6252   \u001b[0m | \u001b[0m0.8479   \u001b[0m | \u001b[0m0.1028   \u001b[0m | \u001b[0m6.481    \u001b[0m | \u001b[0m2.091    \u001b[0m | \u001b[0m192.2    \u001b[0m | \u001b[0m2.714    \u001b[0m | \u001b[0m3.882    \u001b[0m | \u001b[0m0.9823   \u001b[0m |\n",
      "| \u001b[0m127      \u001b[0m | \u001b[0m0.6192   \u001b[0m | \u001b[0m0.003578 \u001b[0m | \u001b[0m0.1727   \u001b[0m | \u001b[0m6.758    \u001b[0m | \u001b[0m7.382    \u001b[0m | \u001b[0m185.2    \u001b[0m | \u001b[0m2.312    \u001b[0m | \u001b[0m3.569    \u001b[0m | \u001b[0m0.5513   \u001b[0m |\n",
      "| \u001b[0m128      \u001b[0m | \u001b[0m0.64     \u001b[0m | \u001b[0m0.2712   \u001b[0m | \u001b[0m0.1052   \u001b[0m | \u001b[0m7.138    \u001b[0m | \u001b[0m7.159    \u001b[0m | \u001b[0m187.2    \u001b[0m | \u001b[0m3.615    \u001b[0m | \u001b[0m2.336    \u001b[0m | \u001b[0m0.679    \u001b[0m |\n",
      "| \u001b[0m129      \u001b[0m | \u001b[0m0.5688   \u001b[0m | \u001b[0m0.3882   \u001b[0m | \u001b[0m0.1585   \u001b[0m | \u001b[0m7.666    \u001b[0m | \u001b[0m6.5      \u001b[0m | \u001b[0m189.3    \u001b[0m | \u001b[0m3.671    \u001b[0m | \u001b[0m3.27     \u001b[0m | \u001b[0m0.3283   \u001b[0m |\n",
      "| \u001b[0m130      \u001b[0m | \u001b[0m0.5862   \u001b[0m | \u001b[0m0.3104   \u001b[0m | \u001b[0m0.115    \u001b[0m | \u001b[0m2.133    \u001b[0m | \u001b[0m4.132    \u001b[0m | \u001b[0m190.5    \u001b[0m | \u001b[0m2.377    \u001b[0m | \u001b[0m2.242    \u001b[0m | \u001b[0m0.4358   \u001b[0m |\n",
      "| \u001b[0m131      \u001b[0m | \u001b[0m0.6049   \u001b[0m | \u001b[0m1.0      \u001b[0m | \u001b[0m0.2      \u001b[0m | \u001b[0m2.0      \u001b[0m | \u001b[0m2.252    \u001b[0m | \u001b[0m190.6    \u001b[0m | \u001b[0m2.135    \u001b[0m | \u001b[0m2.588    \u001b[0m | \u001b[0m1.0      \u001b[0m |\n",
      "| \u001b[0m132      \u001b[0m | \u001b[0m0.6153   \u001b[0m | \u001b[0m0.4096   \u001b[0m | \u001b[0m0.1518   \u001b[0m | \u001b[0m5.134    \u001b[0m | \u001b[0m4.419    \u001b[0m | \u001b[0m193.3    \u001b[0m | \u001b[0m0.5409   \u001b[0m | \u001b[0m3.702    \u001b[0m | \u001b[0m0.6838   \u001b[0m |\n",
      "| \u001b[0m133      \u001b[0m | \u001b[0m-1.42    \u001b[0m | \u001b[0m0.001    \u001b[0m | \u001b[0m0.001    \u001b[0m | \u001b[0m7.76     \u001b[0m | \u001b[0m7.328    \u001b[0m | \u001b[0m186.2    \u001b[0m | \u001b[0m1.098    \u001b[0m | \u001b[0m2.568    \u001b[0m | \u001b[0m1.0      \u001b[0m |\n",
      "| \u001b[0m134      \u001b[0m | \u001b[0m0.5354   \u001b[0m | \u001b[0m0.5397   \u001b[0m | \u001b[0m0.1861   \u001b[0m | \u001b[0m6.115    \u001b[0m | \u001b[0m5.359    \u001b[0m | \u001b[0m184.8    \u001b[0m | \u001b[0m2.783    \u001b[0m | \u001b[0m3.376    \u001b[0m | \u001b[0m0.2377   \u001b[0m |\n",
      "| \u001b[0m135      \u001b[0m | \u001b[0m-1.401   \u001b[0m | \u001b[0m0.2917   \u001b[0m | \u001b[0m0.001145 \u001b[0m | \u001b[0m5.323    \u001b[0m | \u001b[0m7.74     \u001b[0m | \u001b[0m185.8    \u001b[0m | \u001b[0m2.868    \u001b[0m | \u001b[0m3.425    \u001b[0m | \u001b[0m0.3106   \u001b[0m |\n",
      "| \u001b[0m136      \u001b[0m | \u001b[0m0.592    \u001b[0m | \u001b[0m0.2092   \u001b[0m | \u001b[0m0.1257   \u001b[0m | \u001b[0m6.878    \u001b[0m | \u001b[0m2.162    \u001b[0m | \u001b[0m191.9    \u001b[0m | \u001b[0m2.183    \u001b[0m | \u001b[0m2.141    \u001b[0m | \u001b[0m0.4342   \u001b[0m |\n",
      "| \u001b[0m137      \u001b[0m | \u001b[0m0.616    \u001b[0m | \u001b[0m0.4787   \u001b[0m | \u001b[0m0.1382   \u001b[0m | \u001b[0m3.704    \u001b[0m | \u001b[0m2.292    \u001b[0m | \u001b[0m191.0    \u001b[0m | \u001b[0m1.066    \u001b[0m | \u001b[0m3.619    \u001b[0m | \u001b[0m0.6184   \u001b[0m |\n",
      "| \u001b[0m138      \u001b[0m | \u001b[0m0.6195   \u001b[0m | \u001b[0m0.2966   \u001b[0m | \u001b[0m0.2      \u001b[0m | \u001b[0m6.511    \u001b[0m | \u001b[0m3.482    \u001b[0m | \u001b[0m191.4    \u001b[0m | \u001b[0m1.162    \u001b[0m | \u001b[0m3.046    \u001b[0m | \u001b[0m0.7029   \u001b[0m |\n",
      "| \u001b[0m139      \u001b[0m | \u001b[0m0.6363   \u001b[0m | \u001b[0m0.7538   \u001b[0m | \u001b[0m0.09077  \u001b[0m | \u001b[0m5.827    \u001b[0m | \u001b[0m5.279    \u001b[0m | \u001b[0m187.2    \u001b[0m | \u001b[0m0.9962   \u001b[0m | \u001b[0m3.58     \u001b[0m | \u001b[0m0.6004   \u001b[0m |\n",
      "| \u001b[0m140      \u001b[0m | \u001b[0m0.587    \u001b[0m | \u001b[0m0.2273   \u001b[0m | \u001b[0m0.1499   \u001b[0m | \u001b[0m5.449    \u001b[0m | \u001b[0m7.973    \u001b[0m | \u001b[0m187.7    \u001b[0m | \u001b[0m1.156    \u001b[0m | \u001b[0m1.005    \u001b[0m | \u001b[0m0.392    \u001b[0m |\n",
      "| \u001b[0m141      \u001b[0m | \u001b[0m0.6005   \u001b[0m | \u001b[0m0.9907   \u001b[0m | \u001b[0m0.01418  \u001b[0m | \u001b[0m7.306    \u001b[0m | \u001b[0m5.223    \u001b[0m | \u001b[0m188.9    \u001b[0m | \u001b[0m1.79     \u001b[0m | \u001b[0m3.829    \u001b[0m | \u001b[0m0.5298   \u001b[0m |\n",
      "| \u001b[0m142      \u001b[0m | \u001b[0m0.6455   \u001b[0m | \u001b[0m0.1508   \u001b[0m | \u001b[0m0.02324  \u001b[0m | \u001b[0m6.658    \u001b[0m | \u001b[0m5.213    \u001b[0m | \u001b[0m185.9    \u001b[0m | \u001b[0m3.826    \u001b[0m | \u001b[0m2.124    \u001b[0m | \u001b[0m0.5294   \u001b[0m |\n",
      "| \u001b[0m143      \u001b[0m | \u001b[0m0.5895   \u001b[0m | \u001b[0m0.514    \u001b[0m | \u001b[0m0.1662   \u001b[0m | \u001b[0m7.598    \u001b[0m | \u001b[0m7.904    \u001b[0m | \u001b[0m189.1    \u001b[0m | \u001b[0m2.078    \u001b[0m | \u001b[0m3.793    \u001b[0m | \u001b[0m0.3272   \u001b[0m |\n",
      "| \u001b[0m144      \u001b[0m | \u001b[0m0.5605   \u001b[0m | \u001b[0m0.4104   \u001b[0m | \u001b[0m0.01478  \u001b[0m | \u001b[0m2.999    \u001b[0m | \u001b[0m4.708    \u001b[0m | \u001b[0m189.3    \u001b[0m | \u001b[0m1.033    \u001b[0m | \u001b[0m2.411    \u001b[0m | \u001b[0m0.4324   \u001b[0m |\n",
      "| \u001b[0m145      \u001b[0m | \u001b[0m0.6267   \u001b[0m | \u001b[0m0.001    \u001b[0m | \u001b[0m0.2      \u001b[0m | \u001b[0m3.949    \u001b[0m | \u001b[0m6.543    \u001b[0m | \u001b[0m181.2    \u001b[0m | \u001b[0m3.348    \u001b[0m | \u001b[0m1.324    \u001b[0m | \u001b[0m1.0      \u001b[0m |\n",
      "| \u001b[0m146      \u001b[0m | \u001b[0m0.5144   \u001b[0m | \u001b[0m0.09095  \u001b[0m | \u001b[0m0.08451  \u001b[0m | \u001b[0m4.785    \u001b[0m | \u001b[0m5.201    \u001b[0m | \u001b[0m188.1    \u001b[0m | \u001b[0m2.92     \u001b[0m | \u001b[0m2.521    \u001b[0m | \u001b[0m0.1441   \u001b[0m |\n",
      "| \u001b[0m147      \u001b[0m | \u001b[0m0.6397   \u001b[0m | \u001b[0m0.8114   \u001b[0m | \u001b[0m0.1551   \u001b[0m | \u001b[0m5.322    \u001b[0m | \u001b[0m6.159    \u001b[0m | \u001b[0m188.7    \u001b[0m | \u001b[0m0.1636   \u001b[0m | \u001b[0m2.95     \u001b[0m | \u001b[0m0.7009   \u001b[0m |\n",
      "| \u001b[0m148      \u001b[0m | \u001b[0m0.6309   \u001b[0m | \u001b[0m0.1201   \u001b[0m | \u001b[0m0.1576   \u001b[0m | \u001b[0m8.939    \u001b[0m | \u001b[0m6.253    \u001b[0m | \u001b[0m189.8    \u001b[0m | \u001b[0m1.171    \u001b[0m | \u001b[0m2.856    \u001b[0m | \u001b[0m0.9192   \u001b[0m |\n",
      "| \u001b[0m149      \u001b[0m | \u001b[0m-0.3339  \u001b[0m | \u001b[0m0.8227   \u001b[0m | \u001b[0m0.003521 \u001b[0m | \u001b[0m4.455    \u001b[0m | \u001b[0m3.012    \u001b[0m | \u001b[0m192.6    \u001b[0m | \u001b[0m0.3286   \u001b[0m | \u001b[0m2.866    \u001b[0m | \u001b[0m0.3934   \u001b[0m |\n",
      "| \u001b[0m150      \u001b[0m | \u001b[0m0.622    \u001b[0m | \u001b[0m0.001    \u001b[0m | \u001b[0m0.2      \u001b[0m | \u001b[0m5.8      \u001b[0m | \u001b[0m6.768    \u001b[0m | \u001b[0m188.1    \u001b[0m | \u001b[0m3.283    \u001b[0m | \u001b[0m2.53     \u001b[0m | \u001b[0m1.0      \u001b[0m |\n",
      "| \u001b[0m151      \u001b[0m | \u001b[0m0.605    \u001b[0m | \u001b[0m0.6481   \u001b[0m | \u001b[0m0.1803   \u001b[0m | \u001b[0m6.032    \u001b[0m | \u001b[0m5.254    \u001b[0m | \u001b[0m188.6    \u001b[0m | \u001b[0m0.9606   \u001b[0m | \u001b[0m3.199    \u001b[0m | \u001b[0m0.7605   \u001b[0m |\n",
      "| \u001b[0m152      \u001b[0m | \u001b[0m0.6298   \u001b[0m | \u001b[0m1.0      \u001b[0m | \u001b[0m0.2      \u001b[0m | \u001b[0m6.015    \u001b[0m | \u001b[0m5.096    \u001b[0m | \u001b[0m186.2    \u001b[0m | \u001b[0m2.74     \u001b[0m | \u001b[0m2.44     \u001b[0m | \u001b[0m1.0      \u001b[0m |\n",
      "| \u001b[0m153      \u001b[0m | \u001b[0m0.09367  \u001b[0m | \u001b[0m0.6512   \u001b[0m | \u001b[0m0.007424 \u001b[0m | \u001b[0m4.518    \u001b[0m | \u001b[0m5.029    \u001b[0m | \u001b[0m188.1    \u001b[0m | \u001b[0m0.1039   \u001b[0m | \u001b[0m3.554    \u001b[0m | \u001b[0m0.1088   \u001b[0m |\n",
      "| \u001b[0m154      \u001b[0m | \u001b[0m0.6034   \u001b[0m | \u001b[0m0.3862   \u001b[0m | \u001b[0m0.1157   \u001b[0m | \u001b[0m2.357    \u001b[0m | \u001b[0m2.924    \u001b[0m | \u001b[0m190.0    \u001b[0m | \u001b[0m2.637    \u001b[0m | \u001b[0m1.309    \u001b[0m | \u001b[0m0.5803   \u001b[0m |\n",
      "| \u001b[0m155      \u001b[0m | \u001b[0m0.6265   \u001b[0m | \u001b[0m1.0      \u001b[0m | \u001b[0m0.2      \u001b[0m | \u001b[0m5.688    \u001b[0m | \u001b[0m3.361    \u001b[0m | \u001b[0m192.1    \u001b[0m | \u001b[0m1.766    \u001b[0m | \u001b[0m4.0      \u001b[0m | \u001b[0m1.0      \u001b[0m |\n",
      "| \u001b[0m156      \u001b[0m | \u001b[0m0.592    \u001b[0m | \u001b[0m0.7857   \u001b[0m | \u001b[0m0.1047   \u001b[0m | \u001b[0m2.206    \u001b[0m | \u001b[0m3.932    \u001b[0m | \u001b[0m192.1    \u001b[0m | \u001b[0m2.017    \u001b[0m | \u001b[0m3.851    \u001b[0m | \u001b[0m0.7124   \u001b[0m |\n",
      "| \u001b[0m157      \u001b[0m | \u001b[0m0.6041   \u001b[0m | \u001b[0m0.001    \u001b[0m | \u001b[0m0.2      \u001b[0m | \u001b[0m7.428    \u001b[0m | \u001b[0m6.693    \u001b[0m | \u001b[0m184.3    \u001b[0m | \u001b[0m2.619    \u001b[0m | \u001b[0m4.0      \u001b[0m | \u001b[0m0.4916   \u001b[0m |\n",
      "| \u001b[0m158      \u001b[0m | \u001b[0m0.5923   \u001b[0m | \u001b[0m0.8847   \u001b[0m | \u001b[0m0.04238  \u001b[0m | \u001b[0m5.849    \u001b[0m | \u001b[0m7.082    \u001b[0m | \u001b[0m188.0    \u001b[0m | \u001b[0m1.574    \u001b[0m | \u001b[0m2.064    \u001b[0m | \u001b[0m0.3173   \u001b[0m |\n",
      "| \u001b[0m159      \u001b[0m | \u001b[0m0.6222   \u001b[0m | \u001b[0m0.001    \u001b[0m | \u001b[0m0.2      \u001b[0m | \u001b[0m4.972    \u001b[0m | \u001b[0m7.88     \u001b[0m | \u001b[0m180.5    \u001b[0m | \u001b[0m4.0      \u001b[0m | \u001b[0m1.424    \u001b[0m | \u001b[0m1.0      \u001b[0m |\n",
      "| \u001b[0m160      \u001b[0m | \u001b[0m0.5447   \u001b[0m | \u001b[0m0.1136   \u001b[0m | \u001b[0m0.143    \u001b[0m | \u001b[0m5.779    \u001b[0m | \u001b[0m7.683    \u001b[0m | \u001b[0m188.9    \u001b[0m | \u001b[0m0.4501   \u001b[0m | \u001b[0m3.209    \u001b[0m | \u001b[0m0.2531   \u001b[0m |\n",
      "| \u001b[0m161      \u001b[0m | \u001b[0m0.6061   \u001b[0m | \u001b[0m0.7162   \u001b[0m | \u001b[0m0.02047  \u001b[0m | \u001b[0m7.378    \u001b[0m | \u001b[0m2.851    \u001b[0m | \u001b[0m193.5    \u001b[0m | \u001b[0m3.41     \u001b[0m | \u001b[0m2.996    \u001b[0m | \u001b[0m0.1954   \u001b[0m |\n",
      "| \u001b[0m162      \u001b[0m | \u001b[0m0.6343   \u001b[0m | \u001b[0m0.1001   \u001b[0m | \u001b[0m0.1804   \u001b[0m | \u001b[0m8.889    \u001b[0m | \u001b[0m2.294    \u001b[0m | \u001b[0m190.6    \u001b[0m | \u001b[0m3.521    \u001b[0m | \u001b[0m2.723    \u001b[0m | \u001b[0m0.9018   \u001b[0m |\n",
      "| \u001b[0m163      \u001b[0m | \u001b[0m0.6439   \u001b[0m | \u001b[0m0.7046   \u001b[0m | \u001b[0m0.0619   \u001b[0m | \u001b[0m7.609    \u001b[0m | \u001b[0m3.02     \u001b[0m | \u001b[0m191.2    \u001b[0m | \u001b[0m1.074    \u001b[0m | \u001b[0m0.7804   \u001b[0m | \u001b[0m0.5813   \u001b[0m |\n",
      "| \u001b[0m164      \u001b[0m | \u001b[0m0.6327   \u001b[0m | \u001b[0m0.1166   \u001b[0m | \u001b[0m0.177    \u001b[0m | \u001b[0m6.728    \u001b[0m | \u001b[0m3.838    \u001b[0m | \u001b[0m190.2    \u001b[0m | \u001b[0m0.1663   \u001b[0m | \u001b[0m0.8102   \u001b[0m | \u001b[0m0.6844   \u001b[0m |\n",
      "| \u001b[0m165      \u001b[0m | \u001b[0m0.6285   \u001b[0m | \u001b[0m0.001    \u001b[0m | \u001b[0m0.2      \u001b[0m | \u001b[0m3.561    \u001b[0m | \u001b[0m3.799    \u001b[0m | \u001b[0m189.0    \u001b[0m | \u001b[0m2.52     \u001b[0m | \u001b[0m1.906    \u001b[0m | \u001b[0m1.0      \u001b[0m |\n",
      "| \u001b[0m166      \u001b[0m | \u001b[0m0.6303   \u001b[0m | \u001b[0m0.001    \u001b[0m | \u001b[0m0.2      \u001b[0m | \u001b[0m4.558    \u001b[0m | \u001b[0m3.475    \u001b[0m | \u001b[0m193.8    \u001b[0m | \u001b[0m1.592    \u001b[0m | \u001b[0m4.0      \u001b[0m | \u001b[0m1.0      \u001b[0m |\n",
      "| \u001b[0m167      \u001b[0m | \u001b[0m0.6269   \u001b[0m | \u001b[0m0.0408   \u001b[0m | \u001b[0m0.02425  \u001b[0m | \u001b[0m4.952    \u001b[0m | \u001b[0m3.202    \u001b[0m | \u001b[0m190.3    \u001b[0m | \u001b[0m0.8821   \u001b[0m | \u001b[0m1.009    \u001b[0m | \u001b[0m0.8175   \u001b[0m |\n",
      "| \u001b[0m168      \u001b[0m | \u001b[0m0.6299   \u001b[0m | \u001b[0m0.001    \u001b[0m | \u001b[0m0.2      \u001b[0m | \u001b[0m5.289    \u001b[0m | \u001b[0m4.097    \u001b[0m | \u001b[0m189.0    \u001b[0m | \u001b[0m2.07     \u001b[0m | \u001b[0m1.222    \u001b[0m | \u001b[0m1.0      \u001b[0m |\n",
      "| \u001b[0m169      \u001b[0m | \u001b[0m0.567    \u001b[0m | \u001b[0m0.8406   \u001b[0m | \u001b[0m0.06684  \u001b[0m | \u001b[0m6.626    \u001b[0m | \u001b[0m2.272    \u001b[0m | \u001b[0m195.2    \u001b[0m | \u001b[0m3.349    \u001b[0m | \u001b[0m3.872    \u001b[0m | \u001b[0m0.1936   \u001b[0m |\n",
      "| \u001b[0m170      \u001b[0m | \u001b[0m0.6121   \u001b[0m | \u001b[0m0.001    \u001b[0m | \u001b[0m0.2      \u001b[0m | \u001b[0m4.927    \u001b[0m | \u001b[0m6.615    \u001b[0m | \u001b[0m187.0    \u001b[0m | \u001b[0m0.7548   \u001b[0m | \u001b[0m1.76     \u001b[0m | \u001b[0m1.0      \u001b[0m |\n",
      "| \u001b[0m171      \u001b[0m | \u001b[0m0.6405   \u001b[0m | \u001b[0m0.5732   \u001b[0m | \u001b[0m0.1233   \u001b[0m | \u001b[0m5.639    \u001b[0m | \u001b[0m6.51     \u001b[0m | \u001b[0m184.8    \u001b[0m | \u001b[0m1.64     \u001b[0m | \u001b[0m1.125    \u001b[0m | \u001b[0m0.7956   \u001b[0m |\n",
      "| \u001b[0m172      \u001b[0m | \u001b[0m0.582    \u001b[0m | \u001b[0m0.854    \u001b[0m | \u001b[0m0.1939   \u001b[0m | \u001b[0m7.526    \u001b[0m | \u001b[0m3.763    \u001b[0m | \u001b[0m194.1    \u001b[0m | \u001b[0m2.028    \u001b[0m | \u001b[0m3.044    \u001b[0m | \u001b[0m0.3576   \u001b[0m |\n",
      "| \u001b[0m173      \u001b[0m | \u001b[0m0.6152   \u001b[0m | \u001b[0m1.0      \u001b[0m | \u001b[0m0.2      \u001b[0m | \u001b[0m7.409    \u001b[0m | \u001b[0m2.965    \u001b[0m | \u001b[0m191.4    \u001b[0m | \u001b[0m0.1      \u001b[0m | \u001b[0m4.0      \u001b[0m | \u001b[0m1.0      \u001b[0m |\n",
      "| \u001b[0m174      \u001b[0m | \u001b[0m0.5701   \u001b[0m | \u001b[0m0.5752   \u001b[0m | \u001b[0m0.05952  \u001b[0m | \u001b[0m2.29     \u001b[0m | \u001b[0m2.787    \u001b[0m | \u001b[0m189.9    \u001b[0m | \u001b[0m0.4245   \u001b[0m | \u001b[0m3.732    \u001b[0m | \u001b[0m0.4067   \u001b[0m |\n",
      "| \u001b[0m175      \u001b[0m | \u001b[0m0.04378  \u001b[0m | \u001b[0m0.5146   \u001b[0m | \u001b[0m0.004303 \u001b[0m | \u001b[0m5.188    \u001b[0m | \u001b[0m6.111    \u001b[0m | \u001b[0m186.5    \u001b[0m | \u001b[0m2.365    \u001b[0m | \u001b[0m0.2294   \u001b[0m | \u001b[0m0.9241   \u001b[0m |\n",
      "| \u001b[0m176      \u001b[0m | \u001b[0m0.6207   \u001b[0m | \u001b[0m0.001    \u001b[0m | \u001b[0m0.2      \u001b[0m | \u001b[0m6.878    \u001b[0m | \u001b[0m5.604    \u001b[0m | \u001b[0m187.8    \u001b[0m | \u001b[0m4.0      \u001b[0m | \u001b[0m1.712    \u001b[0m | \u001b[0m1.0      \u001b[0m |\n",
      "| \u001b[0m177      \u001b[0m | \u001b[0m0.6262   \u001b[0m | \u001b[0m0.001    \u001b[0m | \u001b[0m0.2      \u001b[0m | \u001b[0m7.741    \u001b[0m | \u001b[0m4.861    \u001b[0m | \u001b[0m189.7    \u001b[0m | \u001b[0m1.973    \u001b[0m | \u001b[0m2.992    \u001b[0m | \u001b[0m1.0      \u001b[0m |\n",
      "| \u001b[0m178      \u001b[0m | \u001b[0m0.6161   \u001b[0m | \u001b[0m0.8734   \u001b[0m | \u001b[0m0.07148  \u001b[0m | \u001b[0m2.161    \u001b[0m | \u001b[0m3.24     \u001b[0m | \u001b[0m191.6    \u001b[0m | \u001b[0m1.333    \u001b[0m | \u001b[0m0.5794   \u001b[0m | \u001b[0m0.895    \u001b[0m |\n",
      "| \u001b[0m179      \u001b[0m | \u001b[0m0.5885   \u001b[0m | \u001b[0m0.8272   \u001b[0m | \u001b[0m0.0711   \u001b[0m | \u001b[0m7.36     \u001b[0m | \u001b[0m3.141    \u001b[0m | \u001b[0m192.8    \u001b[0m | \u001b[0m2.432    \u001b[0m | \u001b[0m0.385    \u001b[0m | \u001b[0m0.9706   \u001b[0m |\n",
      "| \u001b[0m180      \u001b[0m | \u001b[0m0.6004   \u001b[0m | \u001b[0m1.0      \u001b[0m | \u001b[0m0.2      \u001b[0m | \u001b[0m3.79     \u001b[0m | \u001b[0m7.89     \u001b[0m | \u001b[0m182.0    \u001b[0m | \u001b[0m4.0      \u001b[0m | \u001b[0m1.091    \u001b[0m | \u001b[0m1.0      \u001b[0m |\n",
      "| \u001b[0m181      \u001b[0m | \u001b[0m-1.51    \u001b[0m | \u001b[0m0.001    \u001b[0m | \u001b[0m0.001    \u001b[0m | \u001b[0m3.49     \u001b[0m | \u001b[0m8.0      \u001b[0m | \u001b[0m180.8    \u001b[0m | \u001b[0m3.055    \u001b[0m | \u001b[0m1.417    \u001b[0m | \u001b[0m0.1      \u001b[0m |\n",
      "| \u001b[0m182      \u001b[0m | \u001b[0m0.538    \u001b[0m | \u001b[0m0.7407   \u001b[0m | \u001b[0m0.1934   \u001b[0m | \u001b[0m5.736    \u001b[0m | \u001b[0m4.138    \u001b[0m | \u001b[0m188.8    \u001b[0m | \u001b[0m3.719    \u001b[0m | \u001b[0m1.328    \u001b[0m | \u001b[0m0.2625   \u001b[0m |\n",
      "| \u001b[0m183      \u001b[0m | \u001b[0m0.5306   \u001b[0m | \u001b[0m1.0      \u001b[0m | \u001b[0m0.2      \u001b[0m | \u001b[0m2.0      \u001b[0m | \u001b[0m2.321    \u001b[0m | \u001b[0m191.7    \u001b[0m | \u001b[0m2.335    \u001b[0m | \u001b[0m1.41     \u001b[0m | \u001b[0m0.1      \u001b[0m |\n",
      "| \u001b[0m184      \u001b[0m | \u001b[0m0.5377   \u001b[0m | \u001b[0m0.6932   \u001b[0m | \u001b[0m0.1142   \u001b[0m | \u001b[0m4.963    \u001b[0m | \u001b[0m3.14     \u001b[0m | \u001b[0m195.6    \u001b[0m | \u001b[0m3.589    \u001b[0m | \u001b[0m3.311    \u001b[0m | \u001b[0m0.1368   \u001b[0m |\n",
      "| \u001b[0m185      \u001b[0m | \u001b[0m0.6469   \u001b[0m | \u001b[0m0.762    \u001b[0m | \u001b[0m0.04501  \u001b[0m | \u001b[0m7.16     \u001b[0m | \u001b[0m4.049    \u001b[0m | \u001b[0m185.5    \u001b[0m | \u001b[0m2.864    \u001b[0m | \u001b[0m2.674    \u001b[0m | \u001b[0m0.4094   \u001b[0m |\n",
      "| \u001b[0m186      \u001b[0m | \u001b[0m0.6112   \u001b[0m | \u001b[0m0.9686   \u001b[0m | \u001b[0m0.2      \u001b[0m | \u001b[0m4.457    \u001b[0m | \u001b[0m6.404    \u001b[0m | \u001b[0m181.8    \u001b[0m | \u001b[0m4.0      \u001b[0m | \u001b[0m1.978    \u001b[0m | \u001b[0m1.0      \u001b[0m |\n",
      "| \u001b[0m187      \u001b[0m | \u001b[0m0.4031   \u001b[0m | \u001b[0m1.0      \u001b[0m | \u001b[0m0.2      \u001b[0m | \u001b[0m6.049    \u001b[0m | \u001b[0m5.293    \u001b[0m | \u001b[0m185.1    \u001b[0m | \u001b[0m1.784    \u001b[0m | \u001b[0m1.925    \u001b[0m | \u001b[0m0.1      \u001b[0m |\n",
      "| \u001b[0m188      \u001b[0m | \u001b[0m0.5613   \u001b[0m | \u001b[0m0.5393   \u001b[0m | \u001b[0m0.07293  \u001b[0m | \u001b[0m8.642    \u001b[0m | \u001b[0m2.404    \u001b[0m | \u001b[0m190.6    \u001b[0m | \u001b[0m2.723    \u001b[0m | \u001b[0m1.169    \u001b[0m | \u001b[0m0.1324   \u001b[0m |\n",
      "| \u001b[0m189      \u001b[0m | \u001b[0m0.6044   \u001b[0m | \u001b[0m0.4471   \u001b[0m | \u001b[0m0.145    \u001b[0m | \u001b[0m6.368    \u001b[0m | \u001b[0m4.723    \u001b[0m | \u001b[0m194.0    \u001b[0m | \u001b[0m2.284    \u001b[0m | \u001b[0m3.917    \u001b[0m | \u001b[0m0.4175   \u001b[0m |\n",
      "| \u001b[0m190      \u001b[0m | \u001b[0m0.6266   \u001b[0m | \u001b[0m0.5108   \u001b[0m | \u001b[0m0.1112   \u001b[0m | \u001b[0m6.124    \u001b[0m | \u001b[0m3.833    \u001b[0m | \u001b[0m186.5    \u001b[0m | \u001b[0m3.127    \u001b[0m | \u001b[0m3.535    \u001b[0m | \u001b[0m0.7162   \u001b[0m |\n",
      "| \u001b[0m191      \u001b[0m | \u001b[0m0.6164   \u001b[0m | \u001b[0m1.0      \u001b[0m | \u001b[0m0.2      \u001b[0m | \u001b[0m3.824    \u001b[0m | \u001b[0m6.388    \u001b[0m | \u001b[0m181.1    \u001b[0m | \u001b[0m4.0      \u001b[0m | \u001b[0m0.1      \u001b[0m | \u001b[0m1.0      \u001b[0m |\n",
      "| \u001b[0m192      \u001b[0m | \u001b[0m0.5762   \u001b[0m | \u001b[0m0.0731   \u001b[0m | \u001b[0m0.1842   \u001b[0m | \u001b[0m2.14     \u001b[0m | \u001b[0m2.316    \u001b[0m | \u001b[0m188.3    \u001b[0m | \u001b[0m2.657    \u001b[0m | \u001b[0m2.516    \u001b[0m | \u001b[0m0.761    \u001b[0m |\n",
      "| \u001b[0m193      \u001b[0m | \u001b[0m0.6186   \u001b[0m | \u001b[0m0.001    \u001b[0m | \u001b[0m0.2      \u001b[0m | \u001b[0m5.522    \u001b[0m | \u001b[0m5.765    \u001b[0m | \u001b[0m188.1    \u001b[0m | \u001b[0m4.0      \u001b[0m | \u001b[0m4.0      \u001b[0m | \u001b[0m1.0      \u001b[0m |\n",
      "| \u001b[0m194      \u001b[0m | \u001b[0m0.4791   \u001b[0m | \u001b[0m0.1642   \u001b[0m | \u001b[0m0.008851 \u001b[0m | \u001b[0m3.023    \u001b[0m | \u001b[0m2.063    \u001b[0m | \u001b[0m188.6    \u001b[0m | \u001b[0m1.017    \u001b[0m | \u001b[0m1.698    \u001b[0m | \u001b[0m0.7769   \u001b[0m |\n",
      "| \u001b[0m195      \u001b[0m | \u001b[0m0.6091   \u001b[0m | \u001b[0m0.4289   \u001b[0m | \u001b[0m0.1678   \u001b[0m | \u001b[0m4.067    \u001b[0m | \u001b[0m3.119    \u001b[0m | \u001b[0m189.1    \u001b[0m | \u001b[0m3.126    \u001b[0m | \u001b[0m0.2026   \u001b[0m | \u001b[0m0.9898   \u001b[0m |\n",
      "| \u001b[0m196      \u001b[0m | \u001b[0m0.63     \u001b[0m | \u001b[0m0.001    \u001b[0m | \u001b[0m0.2      \u001b[0m | \u001b[0m5.194    \u001b[0m | \u001b[0m5.073    \u001b[0m | \u001b[0m186.6    \u001b[0m | \u001b[0m2.006    \u001b[0m | \u001b[0m3.15     \u001b[0m | \u001b[0m1.0      \u001b[0m |\n",
      "| \u001b[0m197      \u001b[0m | \u001b[0m0.61     \u001b[0m | \u001b[0m0.001    \u001b[0m | \u001b[0m0.2      \u001b[0m | \u001b[0m3.283    \u001b[0m | \u001b[0m5.738    \u001b[0m | \u001b[0m182.3    \u001b[0m | \u001b[0m4.0      \u001b[0m | \u001b[0m2.134    \u001b[0m | \u001b[0m1.0      \u001b[0m |\n",
      "| \u001b[0m198      \u001b[0m | \u001b[0m0.3933   \u001b[0m | \u001b[0m0.186    \u001b[0m | \u001b[0m0.007558 \u001b[0m | \u001b[0m4.429    \u001b[0m | \u001b[0m7.205    \u001b[0m | \u001b[0m185.4    \u001b[0m | \u001b[0m0.2291   \u001b[0m | \u001b[0m1.421    \u001b[0m | \u001b[0m0.529    \u001b[0m |\n",
      "| \u001b[0m199      \u001b[0m | \u001b[0m0.5268   \u001b[0m | \u001b[0m0.02418  \u001b[0m | \u001b[0m0.1965   \u001b[0m | \u001b[0m6.526    \u001b[0m | \u001b[0m3.542    \u001b[0m | \u001b[0m191.8    \u001b[0m | \u001b[0m0.6298   \u001b[0m | \u001b[0m1.152    \u001b[0m | \u001b[0m0.3051   \u001b[0m |\n",
      "| \u001b[0m200      \u001b[0m | \u001b[0m-0.8913  \u001b[0m | \u001b[0m0.2776   \u001b[0m | \u001b[0m0.001752 \u001b[0m | \u001b[0m3.465    \u001b[0m | \u001b[0m3.643    \u001b[0m | \u001b[0m188.6    \u001b[0m | \u001b[0m1.482    \u001b[0m | \u001b[0m0.3217   \u001b[0m | \u001b[0m0.7626   \u001b[0m |\n",
      "| \u001b[0m201      \u001b[0m | \u001b[0m0.542    \u001b[0m | \u001b[0m0.299    \u001b[0m | \u001b[0m0.1794   \u001b[0m | \u001b[0m6.454    \u001b[0m | \u001b[0m4.216    \u001b[0m | \u001b[0m186.3    \u001b[0m | \u001b[0m3.918    \u001b[0m | \u001b[0m0.6127   \u001b[0m | \u001b[0m0.2494   \u001b[0m |\n",
      "| \u001b[0m202      \u001b[0m | \u001b[0m0.6401   \u001b[0m | \u001b[0m0.4542   \u001b[0m | \u001b[0m0.1655   \u001b[0m | \u001b[0m3.213    \u001b[0m | \u001b[0m3.829    \u001b[0m | \u001b[0m189.3    \u001b[0m | \u001b[0m3.797    \u001b[0m | \u001b[0m3.395    \u001b[0m | \u001b[0m0.8793   \u001b[0m |\n",
      "=========================================================================================================================\n"
     ]
    }
   ],
   "source": [
    "optimizer.maximize(\n",
    "    init_points=2,\n",
    "    n_iter=200,\n",
    ")"
   ]
  },
  {
   "cell_type": "code",
   "execution_count": 78,
   "metadata": {},
   "outputs": [
    {
     "data": {
      "text/plain": [
       "{'target': 0.6509939468864961,\n",
       " 'params': {'gamma': 0.19938079101230588,\n",
       "  'learning_rate': 0.09645200641925049,\n",
       "  'max_depth': 8.77494224298222,\n",
       "  'mcw': 2.0569401364760624,\n",
       "  'n_estimators': 190.06815183958958,\n",
       "  'reg_alpha': 1.8203464934490954,\n",
       "  'reg_lambda': 2.7324280539051538,\n",
       "  'subsample': 0.6278290047135799}}"
      ]
     },
     "execution_count": 78,
     "metadata": {},
     "output_type": "execute_result"
    }
   ],
   "source": [
    "optimizer.max"
   ]
  },
  {
   "cell_type": "code",
   "execution_count": 28,
   "metadata": {},
   "outputs": [],
   "source": [
    "params ={'gamma': optimizer.max['params']['gamma'],\n",
    "  'learning_rate': optimizer.max['params']['learning_rate'],\n",
    "  'max_depth': int(optimizer.max['params']['max_depth']),\n",
    "  'min_child_weight': optimizer.max['params']['mcw'],\n",
    "  'reg_lambda': optimizer.max['params']['reg_lambda'],\n",
    "  'subsample': optimizer.max['params']['subsample'],\n",
    "  'reg_alpha': optimizer.max['params']['reg_alpha']}\n",
    "\n",
    "num_boost_round = int(optimizer.max['params']['n_estimators'])"
   ]
  },
  {
   "cell_type": "code",
   "execution_count": 29,
   "metadata": {},
   "outputs": [],
   "source": [
    "modelo = XGBRegressor(\n",
    "                gamma=params['gamma'],\n",
    "                learning_rate=params['learning_rate'],\n",
    "                max_depth=params['max_depth'],\n",
    "                min_child_weight=params['min_child_weight'],\n",
    "                reg_alpha=params['reg_alpha'],\n",
    "                reg_lambda=params['reg_lambda'],\n",
    "                subsample=params['subsample'],\n",
    "                n_estimators=num_boost_round,\n",
    "                n_jobs=-1\n",
    "            )\n",
    "\n",
    "# fit the model with data\n",
    "modelo.fit(X_train, y_train, eval_set=[(X_train, y_train), (X_val, y_val)], \n",
    "           eval_metric=['rmse', 'rmse'], early_stopping_rounds=10, verbose = False)\n",
    "y_pred=modelo.predict(X_test)\n",
    "y_train_pred = modelo.predict(X_train)"
   ]
  },
  {
   "cell_type": "code",
   "execution_count": 79,
   "metadata": {},
   "outputs": [],
   "source": [
    "def print_metrics(y_true, y_pred):    \n",
    "    print(\"MAE:  \", mean_absolute_error(y_true, y_pred))\n",
    "    print(\"MSE : \", mean_squared_error(y_true, y_pred))\n",
    "    print(\"RMSE: \", np.sqrt(mean_squared_error(y_true, y_pred)))\n",
    "    print(\"RMSLE:\", np.log(np.sqrt(mean_squared_error(y_true,y_pred))))\n",
    "    print(\"R2:   \", r2_score(y_true, y_pred))"
   ]
  },
  {
   "cell_type": "code",
   "execution_count": 31,
   "metadata": {},
   "outputs": [
    {
     "name": "stdout",
     "output_type": "stream",
     "text": [
      "MAE:   553.7625529543219\n",
      "MSE :  625044.2913266792\n",
      "RMSE:  790.5974268404111\n",
      "RMSLE: 6.67278889616517\n",
      "R2:    0.6525025366382426\n"
     ]
    }
   ],
   "source": [
    "print_metrics(y_test, y_pred)"
   ]
  },
  {
   "cell_type": "code",
   "execution_count": 32,
   "metadata": {},
   "outputs": [
    {
     "data": {
      "text/plain": [
       "['../../models/model_xgboost_optimizer.pkl']"
      ]
     },
     "execution_count": 32,
     "metadata": {},
     "output_type": "execute_result"
    }
   ],
   "source": [
    "## Saving xgboost model\n",
    "joblib.dump(modelo, '../../models/model_xgboost_optimizer.pkl')"
   ]
  },
  {
   "cell_type": "markdown",
   "metadata": {},
   "source": [
    "### 4. Training a Deep Neural Network"
   ]
  },
  {
   "cell_type": "code",
   "execution_count": 158,
   "metadata": {},
   "outputs": [],
   "source": [
    "from keras import Sequential\n",
    "from keras.layers import Dense\n",
    "from keras.callbacks import Callback, EarlyStopping\n",
    "from keras.optimizers import RMSprop, Adam\n",
    "from keras.models import load_model"
   ]
  },
  {
   "cell_type": "code",
   "execution_count": 103,
   "metadata": {},
   "outputs": [],
   "source": [
    "dummy_cols = X.filter(regex=r'(ope|com)').columns"
   ]
  },
  {
   "cell_type": "markdown",
   "metadata": {},
   "source": [
    "#### Normalizing the data"
   ]
  },
  {
   "cell_type": "code",
   "execution_count": 110,
   "metadata": {},
   "outputs": [],
   "source": [
    "def normalize(X):\n",
    "    return (X - X.mean()) / X.std()\n",
    "\n",
    "X_train_norm = normalize(X_train.drop(dummy_cols, axis=1))\n",
    "X_test_norm = normalize(X_test.drop(dummy_cols, axis=1))"
   ]
  },
  {
   "cell_type": "code",
   "execution_count": 84,
   "metadata": {},
   "outputs": [
    {
     "data": {
      "text/html": [
       "<div>\n",
       "<style scoped>\n",
       "    .dataframe tbody tr th:only-of-type {\n",
       "        vertical-align: middle;\n",
       "    }\n",
       "\n",
       "    .dataframe tbody tr th {\n",
       "        vertical-align: top;\n",
       "    }\n",
       "\n",
       "    .dataframe thead th {\n",
       "        text-align: right;\n",
       "    }\n",
       "</style>\n",
       "<table border=\"1\" class=\"dataframe\">\n",
       "  <thead>\n",
       "    <tr style=\"text-align: right;\">\n",
       "      <th></th>\n",
       "      <th>count</th>\n",
       "      <th>mean</th>\n",
       "      <th>std</th>\n",
       "      <th>min</th>\n",
       "      <th>25%</th>\n",
       "      <th>50%</th>\n",
       "      <th>75%</th>\n",
       "      <th>max</th>\n",
       "    </tr>\n",
       "  </thead>\n",
       "  <tbody>\n",
       "    <tr>\n",
       "      <th>azimuth</th>\n",
       "      <td>800.0</td>\n",
       "      <td>-33.559839</td>\n",
       "      <td>17.029764</td>\n",
       "      <td>-87.25000</td>\n",
       "      <td>-44.817499</td>\n",
       "      <td>-33.905735</td>\n",
       "      <td>-23.462499</td>\n",
       "      <td>22.940001</td>\n",
       "    </tr>\n",
       "    <tr>\n",
       "      <th>md_(ft)</th>\n",
       "      <td>800.0</td>\n",
       "      <td>13983.406250</td>\n",
       "      <td>2549.406003</td>\n",
       "      <td>8642.00000</td>\n",
       "      <td>12181.750000</td>\n",
       "      <td>13669.500000</td>\n",
       "      <td>15471.250000</td>\n",
       "      <td>27797.000000</td>\n",
       "    </tr>\n",
       "    <tr>\n",
       "      <th>tvd_(ft)</th>\n",
       "      <td>800.0</td>\n",
       "      <td>7099.834434</td>\n",
       "      <td>870.536804</td>\n",
       "      <td>4859.00000</td>\n",
       "      <td>6421.250000</td>\n",
       "      <td>7022.500000</td>\n",
       "      <td>7776.250000</td>\n",
       "      <td>9639.000000</td>\n",
       "    </tr>\n",
       "    <tr>\n",
       "      <th>footage_lateral_length</th>\n",
       "      <td>800.0</td>\n",
       "      <td>6387.565012</td>\n",
       "      <td>2469.500943</td>\n",
       "      <td>1329.00000</td>\n",
       "      <td>4668.000000</td>\n",
       "      <td>6003.500000</td>\n",
       "      <td>7740.500000</td>\n",
       "      <td>19849.000000</td>\n",
       "    </tr>\n",
       "    <tr>\n",
       "      <th>well_spacing</th>\n",
       "      <td>800.0</td>\n",
       "      <td>2233.190419</td>\n",
       "      <td>1160.569039</td>\n",
       "      <td>335.45862</td>\n",
       "      <td>1247.833550</td>\n",
       "      <td>2223.227174</td>\n",
       "      <td>2927.817875</td>\n",
       "      <td>5225.089400</td>\n",
       "    </tr>\n",
       "    <tr>\n",
       "      <th>...</th>\n",
       "      <td>...</td>\n",
       "      <td>...</td>\n",
       "      <td>...</td>\n",
       "      <td>...</td>\n",
       "      <td>...</td>\n",
       "      <td>...</td>\n",
       "      <td>...</td>\n",
       "      <td>...</td>\n",
       "    </tr>\n",
       "    <tr>\n",
       "      <th>opt_oper_5</th>\n",
       "      <td>800.0</td>\n",
       "      <td>0.085000</td>\n",
       "      <td>0.279056</td>\n",
       "      <td>0.00000</td>\n",
       "      <td>0.000000</td>\n",
       "      <td>0.000000</td>\n",
       "      <td>0.000000</td>\n",
       "      <td>1.000000</td>\n",
       "    </tr>\n",
       "    <tr>\n",
       "      <th>opt_oper_6</th>\n",
       "      <td>800.0</td>\n",
       "      <td>0.068750</td>\n",
       "      <td>0.253187</td>\n",
       "      <td>0.00000</td>\n",
       "      <td>0.000000</td>\n",
       "      <td>0.000000</td>\n",
       "      <td>0.000000</td>\n",
       "      <td>1.000000</td>\n",
       "    </tr>\n",
       "    <tr>\n",
       "      <th>opt_oper_7</th>\n",
       "      <td>800.0</td>\n",
       "      <td>0.050000</td>\n",
       "      <td>0.218081</td>\n",
       "      <td>0.00000</td>\n",
       "      <td>0.000000</td>\n",
       "      <td>0.000000</td>\n",
       "      <td>0.000000</td>\n",
       "      <td>1.000000</td>\n",
       "    </tr>\n",
       "    <tr>\n",
       "      <th>opt_oper_8</th>\n",
       "      <td>800.0</td>\n",
       "      <td>0.060000</td>\n",
       "      <td>0.237635</td>\n",
       "      <td>0.00000</td>\n",
       "      <td>0.000000</td>\n",
       "      <td>0.000000</td>\n",
       "      <td>0.000000</td>\n",
       "      <td>1.000000</td>\n",
       "    </tr>\n",
       "    <tr>\n",
       "      <th>opt_oper_9</th>\n",
       "      <td>800.0</td>\n",
       "      <td>0.022500</td>\n",
       "      <td>0.148396</td>\n",
       "      <td>0.00000</td>\n",
       "      <td>0.000000</td>\n",
       "      <td>0.000000</td>\n",
       "      <td>0.000000</td>\n",
       "      <td>1.000000</td>\n",
       "    </tr>\n",
       "  </tbody>\n",
       "</table>\n",
       "<p>87 rows × 8 columns</p>\n",
       "</div>"
      ],
      "text/plain": [
       "                        count          mean          std         min  \\\n",
       "azimuth                 800.0    -33.559839    17.029764   -87.25000   \n",
       "md_(ft)                 800.0  13983.406250  2549.406003  8642.00000   \n",
       "tvd_(ft)                800.0   7099.834434   870.536804  4859.00000   \n",
       "footage_lateral_length  800.0   6387.565012  2469.500943  1329.00000   \n",
       "well_spacing            800.0   2233.190419  1160.569039   335.45862   \n",
       "...                       ...           ...          ...         ...   \n",
       "opt_oper_5              800.0      0.085000     0.279056     0.00000   \n",
       "opt_oper_6              800.0      0.068750     0.253187     0.00000   \n",
       "opt_oper_7              800.0      0.050000     0.218081     0.00000   \n",
       "opt_oper_8              800.0      0.060000     0.237635     0.00000   \n",
       "opt_oper_9              800.0      0.022500     0.148396     0.00000   \n",
       "\n",
       "                                 25%           50%           75%           max  \n",
       "azimuth                   -44.817499    -33.905735    -23.462499     22.940001  \n",
       "md_(ft)                 12181.750000  13669.500000  15471.250000  27797.000000  \n",
       "tvd_(ft)                 6421.250000   7022.500000   7776.250000   9639.000000  \n",
       "footage_lateral_length   4668.000000   6003.500000   7740.500000  19849.000000  \n",
       "well_spacing             1247.833550   2223.227174   2927.817875   5225.089400  \n",
       "...                              ...           ...           ...           ...  \n",
       "opt_oper_5                  0.000000      0.000000      0.000000      1.000000  \n",
       "opt_oper_6                  0.000000      0.000000      0.000000      1.000000  \n",
       "opt_oper_7                  0.000000      0.000000      0.000000      1.000000  \n",
       "opt_oper_8                  0.000000      0.000000      0.000000      1.000000  \n",
       "opt_oper_9                  0.000000      0.000000      0.000000      1.000000  \n",
       "\n",
       "[87 rows x 8 columns]"
      ]
     },
     "execution_count": 84,
     "metadata": {},
     "output_type": "execute_result"
    }
   ],
   "source": [
    "X_train_stats  = X_train.describe()\n",
    "X_train_stats = X_train_stats.transpose()\n",
    "X_train_stats"
   ]
  },
  {
   "cell_type": "code",
   "execution_count": 122,
   "metadata": {},
   "outputs": [
    {
     "data": {
      "text/html": [
       "<div>\n",
       "<style scoped>\n",
       "    .dataframe tbody tr th:only-of-type {\n",
       "        vertical-align: middle;\n",
       "    }\n",
       "\n",
       "    .dataframe tbody tr th {\n",
       "        vertical-align: top;\n",
       "    }\n",
       "\n",
       "    .dataframe thead th {\n",
       "        text-align: right;\n",
       "    }\n",
       "</style>\n",
       "<table border=\"1\" class=\"dataframe\">\n",
       "  <thead>\n",
       "    <tr style=\"text-align: right;\">\n",
       "      <th></th>\n",
       "      <th>mean</th>\n",
       "      <th>std</th>\n",
       "      <th>min</th>\n",
       "      <th>25%</th>\n",
       "      <th>50%</th>\n",
       "      <th>75%</th>\n",
       "      <th>max</th>\n",
       "    </tr>\n",
       "  </thead>\n",
       "  <tbody>\n",
       "    <tr>\n",
       "      <th>azimuth</th>\n",
       "      <td>-33.559839</td>\n",
       "      <td>17.029764</td>\n",
       "      <td>-87.25000</td>\n",
       "      <td>-44.817499</td>\n",
       "      <td>-33.905735</td>\n",
       "      <td>-23.462499</td>\n",
       "      <td>22.940001</td>\n",
       "    </tr>\n",
       "    <tr>\n",
       "      <th>md_(ft)</th>\n",
       "      <td>13983.406250</td>\n",
       "      <td>2549.406003</td>\n",
       "      <td>8642.00000</td>\n",
       "      <td>12181.750000</td>\n",
       "      <td>13669.500000</td>\n",
       "      <td>15471.250000</td>\n",
       "      <td>27797.000000</td>\n",
       "    </tr>\n",
       "    <tr>\n",
       "      <th>tvd_(ft)</th>\n",
       "      <td>7099.834434</td>\n",
       "      <td>870.536804</td>\n",
       "      <td>4859.00000</td>\n",
       "      <td>6421.250000</td>\n",
       "      <td>7022.500000</td>\n",
       "      <td>7776.250000</td>\n",
       "      <td>9639.000000</td>\n",
       "    </tr>\n",
       "    <tr>\n",
       "      <th>footage_lateral_length</th>\n",
       "      <td>6387.565012</td>\n",
       "      <td>2469.500943</td>\n",
       "      <td>1329.00000</td>\n",
       "      <td>4668.000000</td>\n",
       "      <td>6003.500000</td>\n",
       "      <td>7740.500000</td>\n",
       "      <td>19849.000000</td>\n",
       "    </tr>\n",
       "    <tr>\n",
       "      <th>well_spacing</th>\n",
       "      <td>2233.190419</td>\n",
       "      <td>1160.569039</td>\n",
       "      <td>335.45862</td>\n",
       "      <td>1247.833550</td>\n",
       "      <td>2223.227174</td>\n",
       "      <td>2927.817875</td>\n",
       "      <td>5225.089400</td>\n",
       "    </tr>\n",
       "    <tr>\n",
       "      <th>...</th>\n",
       "      <td>...</td>\n",
       "      <td>...</td>\n",
       "      <td>...</td>\n",
       "      <td>...</td>\n",
       "      <td>...</td>\n",
       "      <td>...</td>\n",
       "      <td>...</td>\n",
       "    </tr>\n",
       "    <tr>\n",
       "      <th>opt_oper_5</th>\n",
       "      <td>0.085000</td>\n",
       "      <td>0.279056</td>\n",
       "      <td>0.00000</td>\n",
       "      <td>0.000000</td>\n",
       "      <td>0.000000</td>\n",
       "      <td>0.000000</td>\n",
       "      <td>1.000000</td>\n",
       "    </tr>\n",
       "    <tr>\n",
       "      <th>opt_oper_6</th>\n",
       "      <td>0.068750</td>\n",
       "      <td>0.253187</td>\n",
       "      <td>0.00000</td>\n",
       "      <td>0.000000</td>\n",
       "      <td>0.000000</td>\n",
       "      <td>0.000000</td>\n",
       "      <td>1.000000</td>\n",
       "    </tr>\n",
       "    <tr>\n",
       "      <th>opt_oper_7</th>\n",
       "      <td>0.050000</td>\n",
       "      <td>0.218081</td>\n",
       "      <td>0.00000</td>\n",
       "      <td>0.000000</td>\n",
       "      <td>0.000000</td>\n",
       "      <td>0.000000</td>\n",
       "      <td>1.000000</td>\n",
       "    </tr>\n",
       "    <tr>\n",
       "      <th>opt_oper_8</th>\n",
       "      <td>0.060000</td>\n",
       "      <td>0.237635</td>\n",
       "      <td>0.00000</td>\n",
       "      <td>0.000000</td>\n",
       "      <td>0.000000</td>\n",
       "      <td>0.000000</td>\n",
       "      <td>1.000000</td>\n",
       "    </tr>\n",
       "    <tr>\n",
       "      <th>opt_oper_9</th>\n",
       "      <td>0.022500</td>\n",
       "      <td>0.148396</td>\n",
       "      <td>0.00000</td>\n",
       "      <td>0.000000</td>\n",
       "      <td>0.000000</td>\n",
       "      <td>0.000000</td>\n",
       "      <td>1.000000</td>\n",
       "    </tr>\n",
       "  </tbody>\n",
       "</table>\n",
       "<p>87 rows × 7 columns</p>\n",
       "</div>"
      ],
      "text/plain": [
       "                                mean          std         min           25%  \\\n",
       "azimuth                   -33.559839    17.029764   -87.25000    -44.817499   \n",
       "md_(ft)                 13983.406250  2549.406003  8642.00000  12181.750000   \n",
       "tvd_(ft)                 7099.834434   870.536804  4859.00000   6421.250000   \n",
       "footage_lateral_length   6387.565012  2469.500943  1329.00000   4668.000000   \n",
       "well_spacing             2233.190419  1160.569039   335.45862   1247.833550   \n",
       "...                              ...          ...         ...           ...   \n",
       "opt_oper_5                  0.085000     0.279056     0.00000      0.000000   \n",
       "opt_oper_6                  0.068750     0.253187     0.00000      0.000000   \n",
       "opt_oper_7                  0.050000     0.218081     0.00000      0.000000   \n",
       "opt_oper_8                  0.060000     0.237635     0.00000      0.000000   \n",
       "opt_oper_9                  0.022500     0.148396     0.00000      0.000000   \n",
       "\n",
       "                                 50%           75%           max  \n",
       "azimuth                   -33.905735    -23.462499     22.940001  \n",
       "md_(ft)                 13669.500000  15471.250000  27797.000000  \n",
       "tvd_(ft)                 7022.500000   7776.250000   9639.000000  \n",
       "footage_lateral_length   6003.500000   7740.500000  19849.000000  \n",
       "well_spacing             2223.227174   2927.817875   5225.089400  \n",
       "...                              ...           ...           ...  \n",
       "opt_oper_5                  0.000000      0.000000      1.000000  \n",
       "opt_oper_6                  0.000000      0.000000      1.000000  \n",
       "opt_oper_7                  0.000000      0.000000      1.000000  \n",
       "opt_oper_8                  0.000000      0.000000      1.000000  \n",
       "opt_oper_9                  0.000000      0.000000      1.000000  \n",
       "\n",
       "[87 rows x 7 columns]"
      ]
     },
     "execution_count": 122,
     "metadata": {},
     "output_type": "execute_result"
    }
   ],
   "source": [
    "X_train_stats"
   ]
  },
  {
   "cell_type": "code",
   "execution_count": 113,
   "metadata": {},
   "outputs": [
    {
     "data": {
      "text/html": [
       "<div>\n",
       "<style scoped>\n",
       "    .dataframe tbody tr th:only-of-type {\n",
       "        vertical-align: middle;\n",
       "    }\n",
       "\n",
       "    .dataframe tbody tr th {\n",
       "        vertical-align: top;\n",
       "    }\n",
       "\n",
       "    .dataframe thead th {\n",
       "        text-align: right;\n",
       "    }\n",
       "</style>\n",
       "<table border=\"1\" class=\"dataframe\">\n",
       "  <thead>\n",
       "    <tr style=\"text-align: right;\">\n",
       "      <th></th>\n",
       "      <th>count</th>\n",
       "      <th>mean</th>\n",
       "      <th>std</th>\n",
       "      <th>min</th>\n",
       "      <th>25%</th>\n",
       "      <th>50%</th>\n",
       "      <th>75%</th>\n",
       "      <th>max</th>\n",
       "    </tr>\n",
       "  </thead>\n",
       "  <tbody>\n",
       "    <tr>\n",
       "      <th>azimuth</th>\n",
       "      <td>800.0</td>\n",
       "      <td>-2.062239e-16</td>\n",
       "      <td>1.000000</td>\n",
       "      <td>-3.152725</td>\n",
       "      <td>-0.661058</td>\n",
       "      <td>-0.020311</td>\n",
       "      <td>0.592923</td>\n",
       "      <td>3.317711</td>\n",
       "    </tr>\n",
       "    <tr>\n",
       "      <th>md_(ft)</th>\n",
       "      <td>800.0</td>\n",
       "      <td>-2.942091e-17</td>\n",
       "      <td>1.000000</td>\n",
       "      <td>-2.095157</td>\n",
       "      <td>-0.706696</td>\n",
       "      <td>-0.123129</td>\n",
       "      <td>0.583604</td>\n",
       "      <td>5.418358</td>\n",
       "    </tr>\n",
       "    <tr>\n",
       "      <th>tvd_(ft)</th>\n",
       "      <td>800.0</td>\n",
       "      <td>-6.274148e-16</td>\n",
       "      <td>1.000000</td>\n",
       "      <td>-2.574084</td>\n",
       "      <td>-0.779501</td>\n",
       "      <td>-0.088835</td>\n",
       "      <td>0.777010</td>\n",
       "      <td>2.916781</td>\n",
       "    </tr>\n",
       "    <tr>\n",
       "      <th>footage_lateral_length</th>\n",
       "      <td>800.0</td>\n",
       "      <td>3.031603e-16</td>\n",
       "      <td>1.000000</td>\n",
       "      <td>-2.048416</td>\n",
       "      <td>-0.696321</td>\n",
       "      <td>-0.155523</td>\n",
       "      <td>0.547858</td>\n",
       "      <td>5.451075</td>\n",
       "    </tr>\n",
       "    <tr>\n",
       "      <th>well_spacing</th>\n",
       "      <td>800.0</td>\n",
       "      <td>7.090994e-15</td>\n",
       "      <td>1.000000</td>\n",
       "      <td>-1.635174</td>\n",
       "      <td>-0.849029</td>\n",
       "      <td>-0.008585</td>\n",
       "      <td>0.598523</td>\n",
       "      <td>2.577959</td>\n",
       "    </tr>\n",
       "    <tr>\n",
       "      <th>...</th>\n",
       "      <td>...</td>\n",
       "      <td>...</td>\n",
       "      <td>...</td>\n",
       "      <td>...</td>\n",
       "      <td>...</td>\n",
       "      <td>...</td>\n",
       "      <td>...</td>\n",
       "      <td>...</td>\n",
       "    </tr>\n",
       "    <tr>\n",
       "      <th>opt_oper_5</th>\n",
       "      <td>800.0</td>\n",
       "      <td>8.500000e-02</td>\n",
       "      <td>0.279056</td>\n",
       "      <td>0.000000</td>\n",
       "      <td>0.000000</td>\n",
       "      <td>0.000000</td>\n",
       "      <td>0.000000</td>\n",
       "      <td>1.000000</td>\n",
       "    </tr>\n",
       "    <tr>\n",
       "      <th>opt_oper_6</th>\n",
       "      <td>800.0</td>\n",
       "      <td>6.875000e-02</td>\n",
       "      <td>0.253187</td>\n",
       "      <td>0.000000</td>\n",
       "      <td>0.000000</td>\n",
       "      <td>0.000000</td>\n",
       "      <td>0.000000</td>\n",
       "      <td>1.000000</td>\n",
       "    </tr>\n",
       "    <tr>\n",
       "      <th>opt_oper_7</th>\n",
       "      <td>800.0</td>\n",
       "      <td>5.000000e-02</td>\n",
       "      <td>0.218081</td>\n",
       "      <td>0.000000</td>\n",
       "      <td>0.000000</td>\n",
       "      <td>0.000000</td>\n",
       "      <td>0.000000</td>\n",
       "      <td>1.000000</td>\n",
       "    </tr>\n",
       "    <tr>\n",
       "      <th>opt_oper_8</th>\n",
       "      <td>800.0</td>\n",
       "      <td>6.000000e-02</td>\n",
       "      <td>0.237635</td>\n",
       "      <td>0.000000</td>\n",
       "      <td>0.000000</td>\n",
       "      <td>0.000000</td>\n",
       "      <td>0.000000</td>\n",
       "      <td>1.000000</td>\n",
       "    </tr>\n",
       "    <tr>\n",
       "      <th>opt_oper_9</th>\n",
       "      <td>800.0</td>\n",
       "      <td>2.250000e-02</td>\n",
       "      <td>0.148396</td>\n",
       "      <td>0.000000</td>\n",
       "      <td>0.000000</td>\n",
       "      <td>0.000000</td>\n",
       "      <td>0.000000</td>\n",
       "      <td>1.000000</td>\n",
       "    </tr>\n",
       "  </tbody>\n",
       "</table>\n",
       "<p>87 rows × 8 columns</p>\n",
       "</div>"
      ],
      "text/plain": [
       "                        count          mean       std       min       25%  \\\n",
       "azimuth                 800.0 -2.062239e-16  1.000000 -3.152725 -0.661058   \n",
       "md_(ft)                 800.0 -2.942091e-17  1.000000 -2.095157 -0.706696   \n",
       "tvd_(ft)                800.0 -6.274148e-16  1.000000 -2.574084 -0.779501   \n",
       "footage_lateral_length  800.0  3.031603e-16  1.000000 -2.048416 -0.696321   \n",
       "well_spacing            800.0  7.090994e-15  1.000000 -1.635174 -0.849029   \n",
       "...                       ...           ...       ...       ...       ...   \n",
       "opt_oper_5              800.0  8.500000e-02  0.279056  0.000000  0.000000   \n",
       "opt_oper_6              800.0  6.875000e-02  0.253187  0.000000  0.000000   \n",
       "opt_oper_7              800.0  5.000000e-02  0.218081  0.000000  0.000000   \n",
       "opt_oper_8              800.0  6.000000e-02  0.237635  0.000000  0.000000   \n",
       "opt_oper_9              800.0  2.250000e-02  0.148396  0.000000  0.000000   \n",
       "\n",
       "                             50%       75%       max  \n",
       "azimuth                -0.020311  0.592923  3.317711  \n",
       "md_(ft)                -0.123129  0.583604  5.418358  \n",
       "tvd_(ft)               -0.088835  0.777010  2.916781  \n",
       "footage_lateral_length -0.155523  0.547858  5.451075  \n",
       "well_spacing           -0.008585  0.598523  2.577959  \n",
       "...                          ...       ...       ...  \n",
       "opt_oper_5              0.000000  0.000000  1.000000  \n",
       "opt_oper_6              0.000000  0.000000  1.000000  \n",
       "opt_oper_7              0.000000  0.000000  1.000000  \n",
       "opt_oper_8              0.000000  0.000000  1.000000  \n",
       "opt_oper_9              0.000000  0.000000  1.000000  \n",
       "\n",
       "[87 rows x 8 columns]"
      ]
     },
     "execution_count": 113,
     "metadata": {},
     "output_type": "execute_result"
    }
   ],
   "source": [
    "X_train_norm = X_train_norm.join(X_train.filter(regex=r'(ope|com)'))\n",
    "X_test_norm = X_test_norm.join(X_test.filter(regex=r'(ope|com)'))\n",
    "X_train_norm_stats  = X_train_norm.describe()\n",
    "X_train_norm_stats = X_train_norm_stats.transpose()\n",
    "X_train_norm_stats"
   ]
  },
  {
   "cell_type": "code",
   "execution_count": 114,
   "metadata": {},
   "outputs": [],
   "source": [
    "def build_model():\n",
    "    model = Sequential([\n",
    "        Dense(64, activation='relu', input_shape=[len(X_train_norm.keys())]),\n",
    "        Dense(64, activation='relu'),\n",
    "        Dense(1)\n",
    "    ])\n",
    "\n",
    "    optimizer = RMSprop(0.001)\n",
    "\n",
    "    model.compile(loss='mse',\n",
    "                optimizer=optimizer,\n",
    "                metrics=['mae', 'mse'])\n",
    "    return model"
   ]
  },
  {
   "cell_type": "code",
   "execution_count": 67,
   "metadata": {},
   "outputs": [],
   "source": [
    "model =  build_model()"
   ]
  },
  {
   "cell_type": "code",
   "execution_count": 68,
   "metadata": {},
   "outputs": [
    {
     "name": "stdout",
     "output_type": "stream",
     "text": [
      "Model: \"sequential_7\"\n",
      "_________________________________________________________________\n",
      " Layer (type)                Output Shape              Param #   \n",
      "=================================================================\n",
      " dense_21 (Dense)            (None, 64)                5632      \n",
      "                                                                 \n",
      " dense_22 (Dense)            (None, 64)                4160      \n",
      "                                                                 \n",
      " dense_23 (Dense)            (None, 1)                 65        \n",
      "                                                                 \n",
      "=================================================================\n",
      "Total params: 9,857\n",
      "Trainable params: 9,857\n",
      "Non-trainable params: 0\n",
      "_________________________________________________________________\n"
     ]
    }
   ],
   "source": [
    "model.summary()"
   ]
  },
  {
   "cell_type": "code",
   "execution_count": 124,
   "metadata": {},
   "outputs": [
    {
     "name": "stdout",
     "output_type": "stream",
     "text": [
      "1/1 [==============================] - 0s 47ms/step\n"
     ]
    },
    {
     "data": {
      "text/plain": [
       "array([[-0.6768903 ],\n",
       "       [-0.53682756],\n",
       "       [-0.23584734],\n",
       "       [-0.7010829 ],\n",
       "       [-0.04248251],\n",
       "       [-0.32131115],\n",
       "       [-0.23204479],\n",
       "       [-0.56511366],\n",
       "       [-0.20822461],\n",
       "       [-0.43553114]], dtype=float32)"
      ]
     },
     "execution_count": 124,
     "metadata": {},
     "output_type": "execute_result"
    }
   ],
   "source": [
    "example_batch = X_train_norm[:10]\n",
    "example_result = model.predict(example_batch)\n",
    "example_result"
   ]
  },
  {
   "cell_type": "code",
   "execution_count": 116,
   "metadata": {},
   "outputs": [
    {
     "data": {
      "text/html": [
       "<div>\n",
       "<style scoped>\n",
       "    .dataframe tbody tr th:only-of-type {\n",
       "        vertical-align: middle;\n",
       "    }\n",
       "\n",
       "    .dataframe tbody tr th {\n",
       "        vertical-align: top;\n",
       "    }\n",
       "\n",
       "    .dataframe thead th {\n",
       "        text-align: right;\n",
       "    }\n",
       "</style>\n",
       "<table border=\"1\" class=\"dataframe\">\n",
       "  <thead>\n",
       "    <tr style=\"text-align: right;\">\n",
       "      <th></th>\n",
       "      <th>azimuth</th>\n",
       "      <th>md_(ft)</th>\n",
       "      <th>tvd_(ft)</th>\n",
       "      <th>footage_lateral_length</th>\n",
       "      <th>well_spacing</th>\n",
       "      <th>porpoise_deviation</th>\n",
       "      <th>porpoise_count</th>\n",
       "      <th>shale_footage</th>\n",
       "      <th>acoustic_impedance</th>\n",
       "      <th>log_permeability</th>\n",
       "      <th>...</th>\n",
       "      <th>opt_oper_33</th>\n",
       "      <th>opt_oper_34</th>\n",
       "      <th>opt_oper_35</th>\n",
       "      <th>opt_oper_36</th>\n",
       "      <th>opt_oper_4</th>\n",
       "      <th>opt_oper_5</th>\n",
       "      <th>opt_oper_6</th>\n",
       "      <th>opt_oper_7</th>\n",
       "      <th>opt_oper_8</th>\n",
       "      <th>opt_oper_9</th>\n",
       "    </tr>\n",
       "  </thead>\n",
       "  <tbody>\n",
       "    <tr>\n",
       "      <th>29</th>\n",
       "      <td>1.696432</td>\n",
       "      <td>-0.354360</td>\n",
       "      <td>2.114977</td>\n",
       "      <td>-1.151069</td>\n",
       "      <td>-0.008585</td>\n",
       "      <td>-0.403730</td>\n",
       "      <td>1.246721</td>\n",
       "      <td>1.741891</td>\n",
       "      <td>0.637407</td>\n",
       "      <td>-1.134049</td>\n",
       "      <td>...</td>\n",
       "      <td>0</td>\n",
       "      <td>0</td>\n",
       "      <td>0</td>\n",
       "      <td>0</td>\n",
       "      <td>0</td>\n",
       "      <td>0</td>\n",
       "      <td>0</td>\n",
       "      <td>0</td>\n",
       "      <td>0</td>\n",
       "      <td>0</td>\n",
       "    </tr>\n",
       "    <tr>\n",
       "      <th>535</th>\n",
       "      <td>-0.451572</td>\n",
       "      <td>0.122614</td>\n",
       "      <td>0.604415</td>\n",
       "      <td>-0.036673</td>\n",
       "      <td>1.567293</td>\n",
       "      <td>-0.249209</td>\n",
       "      <td>-0.631034</td>\n",
       "      <td>-0.067189</td>\n",
       "      <td>0.389733</td>\n",
       "      <td>-0.272184</td>\n",
       "      <td>...</td>\n",
       "      <td>0</td>\n",
       "      <td>0</td>\n",
       "      <td>0</td>\n",
       "      <td>0</td>\n",
       "      <td>1</td>\n",
       "      <td>0</td>\n",
       "      <td>0</td>\n",
       "      <td>0</td>\n",
       "      <td>0</td>\n",
       "      <td>0</td>\n",
       "    </tr>\n",
       "    <tr>\n",
       "      <th>695</th>\n",
       "      <td>0.172042</td>\n",
       "      <td>-1.027065</td>\n",
       "      <td>0.004349</td>\n",
       "      <td>-0.346453</td>\n",
       "      <td>-1.068328</td>\n",
       "      <td>-0.255223</td>\n",
       "      <td>0.957835</td>\n",
       "      <td>0.556473</td>\n",
       "      <td>-0.399443</td>\n",
       "      <td>-0.525674</td>\n",
       "      <td>...</td>\n",
       "      <td>0</td>\n",
       "      <td>0</td>\n",
       "      <td>0</td>\n",
       "      <td>0</td>\n",
       "      <td>0</td>\n",
       "      <td>0</td>\n",
       "      <td>0</td>\n",
       "      <td>0</td>\n",
       "      <td>0</td>\n",
       "      <td>0</td>\n",
       "    </tr>\n",
       "    <tr>\n",
       "      <th>557</th>\n",
       "      <td>0.856726</td>\n",
       "      <td>-0.558329</td>\n",
       "      <td>0.287369</td>\n",
       "      <td>-0.607234</td>\n",
       "      <td>1.510124</td>\n",
       "      <td>-0.412711</td>\n",
       "      <td>0.091179</td>\n",
       "      <td>0.032564</td>\n",
       "      <td>0.602217</td>\n",
       "      <td>1.654336</td>\n",
       "      <td>...</td>\n",
       "      <td>0</td>\n",
       "      <td>0</td>\n",
       "      <td>0</td>\n",
       "      <td>0</td>\n",
       "      <td>0</td>\n",
       "      <td>1</td>\n",
       "      <td>0</td>\n",
       "      <td>0</td>\n",
       "      <td>0</td>\n",
       "      <td>0</td>\n",
       "    </tr>\n",
       "    <tr>\n",
       "      <th>836</th>\n",
       "      <td>-0.243113</td>\n",
       "      <td>-0.294738</td>\n",
       "      <td>-0.435173</td>\n",
       "      <td>-0.051251</td>\n",
       "      <td>-0.964424</td>\n",
       "      <td>-0.425221</td>\n",
       "      <td>1.102278</td>\n",
       "      <td>0.926831</td>\n",
       "      <td>0.260849</td>\n",
       "      <td>0.615029</td>\n",
       "      <td>...</td>\n",
       "      <td>0</td>\n",
       "      <td>0</td>\n",
       "      <td>0</td>\n",
       "      <td>0</td>\n",
       "      <td>0</td>\n",
       "      <td>0</td>\n",
       "      <td>0</td>\n",
       "      <td>0</td>\n",
       "      <td>0</td>\n",
       "      <td>0</td>\n",
       "    </tr>\n",
       "    <tr>\n",
       "      <th>...</th>\n",
       "      <td>...</td>\n",
       "      <td>...</td>\n",
       "      <td>...</td>\n",
       "      <td>...</td>\n",
       "      <td>...</td>\n",
       "      <td>...</td>\n",
       "      <td>...</td>\n",
       "      <td>...</td>\n",
       "      <td>...</td>\n",
       "      <td>...</td>\n",
       "      <td>...</td>\n",
       "      <td>...</td>\n",
       "      <td>...</td>\n",
       "      <td>...</td>\n",
       "      <td>...</td>\n",
       "      <td>...</td>\n",
       "      <td>...</td>\n",
       "      <td>...</td>\n",
       "      <td>...</td>\n",
       "      <td>...</td>\n",
       "      <td>...</td>\n",
       "    </tr>\n",
       "    <tr>\n",
       "      <th>106</th>\n",
       "      <td>2.126268</td>\n",
       "      <td>-0.018595</td>\n",
       "      <td>0.179390</td>\n",
       "      <td>-0.237119</td>\n",
       "      <td>-1.497169</td>\n",
       "      <td>-0.313038</td>\n",
       "      <td>-0.486591</td>\n",
       "      <td>-0.922799</td>\n",
       "      <td>-1.898757</td>\n",
       "      <td>-0.170789</td>\n",
       "      <td>...</td>\n",
       "      <td>0</td>\n",
       "      <td>0</td>\n",
       "      <td>0</td>\n",
       "      <td>0</td>\n",
       "      <td>0</td>\n",
       "      <td>0</td>\n",
       "      <td>0</td>\n",
       "      <td>0</td>\n",
       "      <td>0</td>\n",
       "      <td>0</td>\n",
       "    </tr>\n",
       "    <tr>\n",
       "      <th>270</th>\n",
       "      <td>-1.421638</td>\n",
       "      <td>0.406602</td>\n",
       "      <td>-0.957839</td>\n",
       "      <td>0.752960</td>\n",
       "      <td>-0.898535</td>\n",
       "      <td>-0.421693</td>\n",
       "      <td>-1.064362</td>\n",
       "      <td>-0.239393</td>\n",
       "      <td>0.376072</td>\n",
       "      <td>-0.880559</td>\n",
       "      <td>...</td>\n",
       "      <td>0</td>\n",
       "      <td>0</td>\n",
       "      <td>0</td>\n",
       "      <td>0</td>\n",
       "      <td>0</td>\n",
       "      <td>0</td>\n",
       "      <td>0</td>\n",
       "      <td>0</td>\n",
       "      <td>1</td>\n",
       "      <td>0</td>\n",
       "    </tr>\n",
       "    <tr>\n",
       "      <th>860</th>\n",
       "      <td>0.115670</td>\n",
       "      <td>-0.801522</td>\n",
       "      <td>-0.558086</td>\n",
       "      <td>-0.830356</td>\n",
       "      <td>-0.906700</td>\n",
       "      <td>-0.348401</td>\n",
       "      <td>-0.053263</td>\n",
       "      <td>-1.003088</td>\n",
       "      <td>0.509636</td>\n",
       "      <td>0.006654</td>\n",
       "      <td>...</td>\n",
       "      <td>0</td>\n",
       "      <td>0</td>\n",
       "      <td>0</td>\n",
       "      <td>0</td>\n",
       "      <td>0</td>\n",
       "      <td>0</td>\n",
       "      <td>0</td>\n",
       "      <td>0</td>\n",
       "      <td>0</td>\n",
       "      <td>0</td>\n",
       "    </tr>\n",
       "    <tr>\n",
       "      <th>435</th>\n",
       "      <td>-0.877297</td>\n",
       "      <td>-0.706991</td>\n",
       "      <td>0.004349</td>\n",
       "      <td>-0.631935</td>\n",
       "      <td>-1.256936</td>\n",
       "      <td>-0.083140</td>\n",
       "      <td>-1.064362</td>\n",
       "      <td>-0.097196</td>\n",
       "      <td>-1.480245</td>\n",
       "      <td>-0.145440</td>\n",
       "      <td>...</td>\n",
       "      <td>0</td>\n",
       "      <td>0</td>\n",
       "      <td>0</td>\n",
       "      <td>0</td>\n",
       "      <td>0</td>\n",
       "      <td>0</td>\n",
       "      <td>0</td>\n",
       "      <td>0</td>\n",
       "      <td>0</td>\n",
       "      <td>0</td>\n",
       "    </tr>\n",
       "    <tr>\n",
       "      <th>102</th>\n",
       "      <td>-1.260743</td>\n",
       "      <td>-0.108420</td>\n",
       "      <td>-0.685594</td>\n",
       "      <td>0.066991</td>\n",
       "      <td>-1.242020</td>\n",
       "      <td>0.159829</td>\n",
       "      <td>-1.208804</td>\n",
       "      <td>-0.484045</td>\n",
       "      <td>-2.146286</td>\n",
       "      <td>-0.728466</td>\n",
       "      <td>...</td>\n",
       "      <td>0</td>\n",
       "      <td>0</td>\n",
       "      <td>0</td>\n",
       "      <td>0</td>\n",
       "      <td>0</td>\n",
       "      <td>0</td>\n",
       "      <td>0</td>\n",
       "      <td>0</td>\n",
       "      <td>0</td>\n",
       "      <td>0</td>\n",
       "    </tr>\n",
       "  </tbody>\n",
       "</table>\n",
       "<p>800 rows × 87 columns</p>\n",
       "</div>"
      ],
      "text/plain": [
       "      azimuth   md_(ft)  tvd_(ft)  footage_lateral_length  well_spacing  \\\n",
       "29   1.696432 -0.354360  2.114977               -1.151069     -0.008585   \n",
       "535 -0.451572  0.122614  0.604415               -0.036673      1.567293   \n",
       "695  0.172042 -1.027065  0.004349               -0.346453     -1.068328   \n",
       "557  0.856726 -0.558329  0.287369               -0.607234      1.510124   \n",
       "836 -0.243113 -0.294738 -0.435173               -0.051251     -0.964424   \n",
       "..        ...       ...       ...                     ...           ...   \n",
       "106  2.126268 -0.018595  0.179390               -0.237119     -1.497169   \n",
       "270 -1.421638  0.406602 -0.957839                0.752960     -0.898535   \n",
       "860  0.115670 -0.801522 -0.558086               -0.830356     -0.906700   \n",
       "435 -0.877297 -0.706991  0.004349               -0.631935     -1.256936   \n",
       "102 -1.260743 -0.108420 -0.685594                0.066991     -1.242020   \n",
       "\n",
       "     porpoise_deviation  porpoise_count  shale_footage  acoustic_impedance  \\\n",
       "29            -0.403730        1.246721       1.741891            0.637407   \n",
       "535           -0.249209       -0.631034      -0.067189            0.389733   \n",
       "695           -0.255223        0.957835       0.556473           -0.399443   \n",
       "557           -0.412711        0.091179       0.032564            0.602217   \n",
       "836           -0.425221        1.102278       0.926831            0.260849   \n",
       "..                  ...             ...            ...                 ...   \n",
       "106           -0.313038       -0.486591      -0.922799           -1.898757   \n",
       "270           -0.421693       -1.064362      -0.239393            0.376072   \n",
       "860           -0.348401       -0.053263      -1.003088            0.509636   \n",
       "435           -0.083140       -1.064362      -0.097196           -1.480245   \n",
       "102            0.159829       -1.208804      -0.484045           -2.146286   \n",
       "\n",
       "     log_permeability  ...  opt_oper_33  opt_oper_34  opt_oper_35  \\\n",
       "29          -1.134049  ...            0            0            0   \n",
       "535         -0.272184  ...            0            0            0   \n",
       "695         -0.525674  ...            0            0            0   \n",
       "557          1.654336  ...            0            0            0   \n",
       "836          0.615029  ...            0            0            0   \n",
       "..                ...  ...          ...          ...          ...   \n",
       "106         -0.170789  ...            0            0            0   \n",
       "270         -0.880559  ...            0            0            0   \n",
       "860          0.006654  ...            0            0            0   \n",
       "435         -0.145440  ...            0            0            0   \n",
       "102         -0.728466  ...            0            0            0   \n",
       "\n",
       "     opt_oper_36  opt_oper_4  opt_oper_5  opt_oper_6  opt_oper_7  opt_oper_8  \\\n",
       "29             0           0           0           0           0           0   \n",
       "535            0           1           0           0           0           0   \n",
       "695            0           0           0           0           0           0   \n",
       "557            0           0           1           0           0           0   \n",
       "836            0           0           0           0           0           0   \n",
       "..           ...         ...         ...         ...         ...         ...   \n",
       "106            0           0           0           0           0           0   \n",
       "270            0           0           0           0           0           1   \n",
       "860            0           0           0           0           0           0   \n",
       "435            0           0           0           0           0           0   \n",
       "102            0           0           0           0           0           0   \n",
       "\n",
       "     opt_oper_9  \n",
       "29            0  \n",
       "535           0  \n",
       "695           0  \n",
       "557           0  \n",
       "836           0  \n",
       "..          ...  \n",
       "106           0  \n",
       "270           0  \n",
       "860           0  \n",
       "435           0  \n",
       "102           0  \n",
       "\n",
       "[800 rows x 87 columns]"
      ]
     },
     "execution_count": 116,
     "metadata": {},
     "output_type": "execute_result"
    }
   ],
   "source": [
    "X_train_norm"
   ]
  },
  {
   "cell_type": "code",
   "execution_count": 125,
   "metadata": {},
   "outputs": [],
   "source": [
    "#Display training progress by printing a single dot for each completed epoch\n",
    "class PrintDot(Callback):\n",
    "    def on_epoch_end(self, epoch, logs):\n",
    "        if epoch % 100 == 0: print('')\n",
    "        print('.', end='')\n",
    "\n",
    "EPOCHS = 1000"
   ]
  },
  {
   "cell_type": "code",
   "execution_count": 126,
   "metadata": {},
   "outputs": [
    {
     "name": "stdout",
     "output_type": "stream",
     "text": [
      "\n",
      "....................................................................................................\n",
      "....................................................................................................\n",
      "....................................................................................................\n",
      "....................................................................................................\n",
      "....................................................................................................\n",
      "....................................................................................................\n",
      "....................................................................................................\n",
      "....................................................................................................\n",
      "....................................................................................................\n",
      "...................................................................................................."
     ]
    }
   ],
   "source": [
    "history = model.fit(\n",
    "  X_train_norm, y_train,\n",
    "  epochs=EPOCHS, validation_split = 0.2, verbose=0,\n",
    "  callbacks=[PrintDot()])"
   ]
  },
  {
   "cell_type": "code",
   "execution_count": 127,
   "metadata": {},
   "outputs": [
    {
     "data": {
      "text/html": [
       "<div>\n",
       "<style scoped>\n",
       "    .dataframe tbody tr th:only-of-type {\n",
       "        vertical-align: middle;\n",
       "    }\n",
       "\n",
       "    .dataframe tbody tr th {\n",
       "        vertical-align: top;\n",
       "    }\n",
       "\n",
       "    .dataframe thead th {\n",
       "        text-align: right;\n",
       "    }\n",
       "</style>\n",
       "<table border=\"1\" class=\"dataframe\">\n",
       "  <thead>\n",
       "    <tr style=\"text-align: right;\">\n",
       "      <th></th>\n",
       "      <th>loss</th>\n",
       "      <th>mae</th>\n",
       "      <th>mse</th>\n",
       "      <th>val_loss</th>\n",
       "      <th>val_mae</th>\n",
       "      <th>val_mse</th>\n",
       "      <th>epoch</th>\n",
       "    </tr>\n",
       "  </thead>\n",
       "  <tbody>\n",
       "    <tr>\n",
       "      <th>995</th>\n",
       "      <td>31428.099609</td>\n",
       "      <td>112.612106</td>\n",
       "      <td>31428.099609</td>\n",
       "      <td>989058.1875</td>\n",
       "      <td>752.934387</td>\n",
       "      <td>989058.1875</td>\n",
       "      <td>995</td>\n",
       "    </tr>\n",
       "    <tr>\n",
       "      <th>996</th>\n",
       "      <td>31594.833984</td>\n",
       "      <td>111.883377</td>\n",
       "      <td>31594.833984</td>\n",
       "      <td>979144.5000</td>\n",
       "      <td>747.449524</td>\n",
       "      <td>979144.5000</td>\n",
       "      <td>996</td>\n",
       "    </tr>\n",
       "    <tr>\n",
       "      <th>997</th>\n",
       "      <td>31299.417969</td>\n",
       "      <td>111.130295</td>\n",
       "      <td>31299.417969</td>\n",
       "      <td>982955.5000</td>\n",
       "      <td>748.724792</td>\n",
       "      <td>982955.5000</td>\n",
       "      <td>997</td>\n",
       "    </tr>\n",
       "    <tr>\n",
       "      <th>998</th>\n",
       "      <td>30616.062500</td>\n",
       "      <td>109.967369</td>\n",
       "      <td>30616.062500</td>\n",
       "      <td>994105.6250</td>\n",
       "      <td>754.761047</td>\n",
       "      <td>994105.6250</td>\n",
       "      <td>998</td>\n",
       "    </tr>\n",
       "    <tr>\n",
       "      <th>999</th>\n",
       "      <td>30924.769531</td>\n",
       "      <td>110.841942</td>\n",
       "      <td>30924.769531</td>\n",
       "      <td>977592.5000</td>\n",
       "      <td>744.344849</td>\n",
       "      <td>977592.5000</td>\n",
       "      <td>999</td>\n",
       "    </tr>\n",
       "  </tbody>\n",
       "</table>\n",
       "</div>"
      ],
      "text/plain": [
       "             loss         mae           mse     val_loss     val_mae  \\\n",
       "995  31428.099609  112.612106  31428.099609  989058.1875  752.934387   \n",
       "996  31594.833984  111.883377  31594.833984  979144.5000  747.449524   \n",
       "997  31299.417969  111.130295  31299.417969  982955.5000  748.724792   \n",
       "998  30616.062500  109.967369  30616.062500  994105.6250  754.761047   \n",
       "999  30924.769531  110.841942  30924.769531  977592.5000  744.344849   \n",
       "\n",
       "         val_mse  epoch  \n",
       "995  989058.1875    995  \n",
       "996  979144.5000    996  \n",
       "997  982955.5000    997  \n",
       "998  994105.6250    998  \n",
       "999  977592.5000    999  "
      ]
     },
     "execution_count": 127,
     "metadata": {},
     "output_type": "execute_result"
    }
   ],
   "source": [
    "hist = pd.DataFrame(history.history)\n",
    "hist['epoch'] = history.epoch\n",
    "hist.tail()"
   ]
  },
  {
   "cell_type": "code",
   "execution_count": 129,
   "metadata": {},
   "outputs": [
    {
     "data": {
      "text/html": [
       "<div>\n",
       "<style scoped>\n",
       "    .dataframe tbody tr th:only-of-type {\n",
       "        vertical-align: middle;\n",
       "    }\n",
       "\n",
       "    .dataframe tbody tr th {\n",
       "        vertical-align: top;\n",
       "    }\n",
       "\n",
       "    .dataframe thead th {\n",
       "        text-align: right;\n",
       "    }\n",
       "</style>\n",
       "<table border=\"1\" class=\"dataframe\">\n",
       "  <thead>\n",
       "    <tr style=\"text-align: right;\">\n",
       "      <th></th>\n",
       "      <th>loss</th>\n",
       "      <th>mae</th>\n",
       "      <th>mse</th>\n",
       "      <th>val_loss</th>\n",
       "      <th>val_mae</th>\n",
       "      <th>val_mse</th>\n",
       "      <th>epoch</th>\n",
       "    </tr>\n",
       "  </thead>\n",
       "  <tbody>\n",
       "    <tr>\n",
       "      <th>0</th>\n",
       "      <td>5.718358e+06</td>\n",
       "      <td>1979.367188</td>\n",
       "      <td>5.718358e+06</td>\n",
       "      <td>4.962029e+06</td>\n",
       "      <td>1814.219971</td>\n",
       "      <td>4.962029e+06</td>\n",
       "      <td>0</td>\n",
       "    </tr>\n",
       "    <tr>\n",
       "      <th>1</th>\n",
       "      <td>5.702482e+06</td>\n",
       "      <td>1975.760132</td>\n",
       "      <td>5.702482e+06</td>\n",
       "      <td>4.945324e+06</td>\n",
       "      <td>1810.140625</td>\n",
       "      <td>4.945324e+06</td>\n",
       "      <td>1</td>\n",
       "    </tr>\n",
       "    <tr>\n",
       "      <th>2</th>\n",
       "      <td>5.678570e+06</td>\n",
       "      <td>1970.647705</td>\n",
       "      <td>5.678570e+06</td>\n",
       "      <td>4.920197e+06</td>\n",
       "      <td>1804.190430</td>\n",
       "      <td>4.920197e+06</td>\n",
       "      <td>2</td>\n",
       "    </tr>\n",
       "    <tr>\n",
       "      <th>3</th>\n",
       "      <td>5.643393e+06</td>\n",
       "      <td>1963.409424</td>\n",
       "      <td>5.643393e+06</td>\n",
       "      <td>4.885138e+06</td>\n",
       "      <td>1796.017334</td>\n",
       "      <td>4.885138e+06</td>\n",
       "      <td>3</td>\n",
       "    </tr>\n",
       "    <tr>\n",
       "      <th>4</th>\n",
       "      <td>5.597610e+06</td>\n",
       "      <td>1953.791382</td>\n",
       "      <td>5.597610e+06</td>\n",
       "      <td>4.840395e+06</td>\n",
       "      <td>1785.622070</td>\n",
       "      <td>4.840395e+06</td>\n",
       "      <td>4</td>\n",
       "    </tr>\n",
       "    <tr>\n",
       "      <th>...</th>\n",
       "      <td>...</td>\n",
       "      <td>...</td>\n",
       "      <td>...</td>\n",
       "      <td>...</td>\n",
       "      <td>...</td>\n",
       "      <td>...</td>\n",
       "      <td>...</td>\n",
       "    </tr>\n",
       "    <tr>\n",
       "      <th>995</th>\n",
       "      <td>3.142810e+04</td>\n",
       "      <td>112.612106</td>\n",
       "      <td>3.142810e+04</td>\n",
       "      <td>9.890582e+05</td>\n",
       "      <td>752.934387</td>\n",
       "      <td>9.890582e+05</td>\n",
       "      <td>995</td>\n",
       "    </tr>\n",
       "    <tr>\n",
       "      <th>996</th>\n",
       "      <td>3.159483e+04</td>\n",
       "      <td>111.883377</td>\n",
       "      <td>3.159483e+04</td>\n",
       "      <td>9.791445e+05</td>\n",
       "      <td>747.449524</td>\n",
       "      <td>9.791445e+05</td>\n",
       "      <td>996</td>\n",
       "    </tr>\n",
       "    <tr>\n",
       "      <th>997</th>\n",
       "      <td>3.129942e+04</td>\n",
       "      <td>111.130295</td>\n",
       "      <td>3.129942e+04</td>\n",
       "      <td>9.829555e+05</td>\n",
       "      <td>748.724792</td>\n",
       "      <td>9.829555e+05</td>\n",
       "      <td>997</td>\n",
       "    </tr>\n",
       "    <tr>\n",
       "      <th>998</th>\n",
       "      <td>3.061606e+04</td>\n",
       "      <td>109.967369</td>\n",
       "      <td>3.061606e+04</td>\n",
       "      <td>9.941056e+05</td>\n",
       "      <td>754.761047</td>\n",
       "      <td>9.941056e+05</td>\n",
       "      <td>998</td>\n",
       "    </tr>\n",
       "    <tr>\n",
       "      <th>999</th>\n",
       "      <td>3.092477e+04</td>\n",
       "      <td>110.841942</td>\n",
       "      <td>3.092477e+04</td>\n",
       "      <td>9.775925e+05</td>\n",
       "      <td>744.344849</td>\n",
       "      <td>9.775925e+05</td>\n",
       "      <td>999</td>\n",
       "    </tr>\n",
       "  </tbody>\n",
       "</table>\n",
       "<p>1000 rows × 7 columns</p>\n",
       "</div>"
      ],
      "text/plain": [
       "             loss          mae           mse      val_loss      val_mae  \\\n",
       "0    5.718358e+06  1979.367188  5.718358e+06  4.962029e+06  1814.219971   \n",
       "1    5.702482e+06  1975.760132  5.702482e+06  4.945324e+06  1810.140625   \n",
       "2    5.678570e+06  1970.647705  5.678570e+06  4.920197e+06  1804.190430   \n",
       "3    5.643393e+06  1963.409424  5.643393e+06  4.885138e+06  1796.017334   \n",
       "4    5.597610e+06  1953.791382  5.597610e+06  4.840395e+06  1785.622070   \n",
       "..            ...          ...           ...           ...          ...   \n",
       "995  3.142810e+04   112.612106  3.142810e+04  9.890582e+05   752.934387   \n",
       "996  3.159483e+04   111.883377  3.159483e+04  9.791445e+05   747.449524   \n",
       "997  3.129942e+04   111.130295  3.129942e+04  9.829555e+05   748.724792   \n",
       "998  3.061606e+04   109.967369  3.061606e+04  9.941056e+05   754.761047   \n",
       "999  3.092477e+04   110.841942  3.092477e+04  9.775925e+05   744.344849   \n",
       "\n",
       "          val_mse  epoch  \n",
       "0    4.962029e+06      0  \n",
       "1    4.945324e+06      1  \n",
       "2    4.920197e+06      2  \n",
       "3    4.885138e+06      3  \n",
       "4    4.840395e+06      4  \n",
       "..            ...    ...  \n",
       "995  9.890582e+05    995  \n",
       "996  9.791445e+05    996  \n",
       "997  9.829555e+05    997  \n",
       "998  9.941056e+05    998  \n",
       "999  9.775925e+05    999  \n",
       "\n",
       "[1000 rows x 7 columns]"
      ]
     },
     "execution_count": 129,
     "metadata": {},
     "output_type": "execute_result"
    }
   ],
   "source": [
    "hist"
   ]
  },
  {
   "cell_type": "code",
   "execution_count": 130,
   "metadata": {},
   "outputs": [],
   "source": [
    "def plot_history(history):\n",
    "  hist = pd.DataFrame(history.history)\n",
    "  hist['epoch'] = history.epoch\n",
    "\n",
    "  plt.figure()\n",
    "  plt.xlabel('Epoch')\n",
    "  plt.ylabel('Mean Abs Error [Production]')\n",
    "  plt.plot(hist['epoch'], hist['mae'],\n",
    "           label='Train Error')\n",
    "  plt.plot(hist['epoch'], hist['val_mae'],\n",
    "           label = 'Val Error')\n",
    "  #plt.ylim([0,5])\n",
    "  plt.legend()\n",
    "\n",
    "  plt.figure()\n",
    "  plt.xlabel('Epoch')\n",
    "  plt.ylabel('Mean Square Error [Production^2]')\n",
    "  plt.plot(hist['epoch'], hist['mse'],\n",
    "           label='Train Error')\n",
    "  plt.plot(hist['epoch'], hist['val_mse'],\n",
    "           label = 'Val Error')\n",
    "  #plt.ylim([0,20])\n",
    "  plt.legend()\n",
    "  plt.show()"
   ]
  },
  {
   "cell_type": "code",
   "execution_count": 131,
   "metadata": {},
   "outputs": [
    {
     "data": {
      "image/png": "[encoded data removed]",
      "text/plain": [
       "<Figure size 640x480 with 1 Axes>"
      ]
     },
     "metadata": {},
     "output_type": "display_data"
    },
    {
     "data": {
      "image/png": "[encoded data removed]",
      "text/plain": [
       "<Figure size 640x480 with 1 Axes>"
      ]
     },
     "metadata": {},
     "output_type": "display_data"
    }
   ],
   "source": [
    "plot_history(history)"
   ]
  },
  {
   "cell_type": "code",
   "execution_count": 140,
   "metadata": {},
   "outputs": [
    {
     "name": "stdout",
     "output_type": "stream",
     "text": [
      "\n",
      "....................................................................................................\n",
      "....................................................................................................\n",
      "..........................."
     ]
    },
    {
     "data": {
      "image/png": "[encoded data removed]",
      "text/plain": [
       "<Figure size 640x480 with 1 Axes>"
      ]
     },
     "metadata": {},
     "output_type": "display_data"
    },
    {
     "data": {
      "image/png": "[encoded data removed]",
      "text/plain": [
       "<Figure size 640x480 with 1 Axes>"
      ]
     },
     "metadata": {},
     "output_type": "display_data"
    }
   ],
   "source": [
    "model = build_model()\n",
    "\n",
    "# The patience parameter is the amount of epochs to check for improvement\n",
    "early_stop = EarlyStopping(monitor='val_loss', patience=10)\n",
    "\n",
    "history = model.fit(X_train_norm, y_train, epochs=EPOCHS,\n",
    "                validation_split = 0.2, verbose=0, callbacks=[early_stop, PrintDot()])\n",
    "plot_history(history)"
   ]
  },
  {
   "cell_type": "code",
   "execution_count": 141,
   "metadata": {},
   "outputs": [
    {
     "name": "stdout",
     "output_type": "stream",
     "text": [
      "7/7 - 0s - loss: 719874.6250 - mae: 611.8149 - mse: 719874.6250 - 148ms/epoch - 21ms/step\n"
     ]
    }
   ],
   "source": [
    "loss, mae, mse = model.evaluate(X_test_norm, y_test, verbose=2)"
   ]
  },
  {
   "cell_type": "code",
   "execution_count": 142,
   "metadata": {},
   "outputs": [
    {
     "name": "stdout",
     "output_type": "stream",
     "text": [
      "7/7 [==============================] - 0s 2ms/step\n"
     ]
    }
   ],
   "source": [
    "test_predictions = model.predict(X_test_norm).flatten()"
   ]
  },
  {
   "cell_type": "code",
   "execution_count": 144,
   "metadata": {},
   "outputs": [
    {
     "data": {
      "text/plain": [
       "1975.4619"
      ]
     },
     "execution_count": 144,
     "metadata": {},
     "output_type": "execute_result"
    }
   ],
   "source": [
    "np.mean(test_predictions)"
   ]
  },
  {
   "cell_type": "code",
   "execution_count": 145,
   "metadata": {},
   "outputs": [
    {
     "data": {
      "text/plain": [
       "1957.8917210485006"
      ]
     },
     "execution_count": 145,
     "metadata": {},
     "output_type": "execute_result"
    }
   ],
   "source": [
    "np.mean(y_test)"
   ]
  },
  {
   "cell_type": "code",
   "execution_count": 150,
   "metadata": {},
   "outputs": [
    {
     "data": {
      "image/png": "[encoded data removed]",
      "text/plain": [
       "<Figure size 640x480 with 1 Axes>"
      ]
     },
     "metadata": {},
     "output_type": "display_data"
    }
   ],
   "source": [
    "\n",
    "#Plotting scatter plot of predicted vs actual values\n",
    "def plot_scatter_real_vs_predicted():\n",
    "    plt.scatter(y_test, test_predictions)\n",
    "    plt.xlabel('True Values [Production]')\n",
    "    plt.ylabel('Predictions [Production]')\n",
    "    plt.axis('equal')\n",
    "    plt.axis('square')\n",
    "    plt.xlim([0,plt.xlim()[1]])\n",
    "    plt.ylim([0,plt.ylim()[1]])\n",
    "    _ = plt.plot([-100, 100], [-100, 100])"
   ]
  },
  {
   "cell_type": "code",
   "execution_count": 138,
   "metadata": {},
   "outputs": [],
   "source": [
    "def plot_distribution(y_true, y_pred):\n",
    "    sns.distplot(y_true, color='r', label='real production');\n",
    "    sns.distplot(y_pred, color='b', label='predicted production');\n",
    "    plt.legend();"
   ]
  },
  {
   "cell_type": "code",
   "execution_count": 156,
   "metadata": {},
   "outputs": [],
   "source": [
    "model.save('../../models/model_neural_network.h5')"
   ]
  },
  {
   "cell_type": "code",
   "execution_count": 159,
   "metadata": {},
   "outputs": [],
   "source": [
    "new_model = load_model('../../models/model_neural_network.h5')"
   ]
  },
  {
   "cell_type": "code",
   "execution_count": 161,
   "metadata": {},
   "outputs": [
    {
     "name": "stdout",
     "output_type": "stream",
     "text": [
      "7/7 [==============================] - 0s 2ms/step\n"
     ]
    },
    {
     "data": {
      "image/png": "[encoded data removed]",
      "text/plain": [
       "<Figure size 640x480 with 1 Axes>"
      ]
     },
     "metadata": {},
     "output_type": "display_data"
    }
   ],
   "source": [
    "def plot_distribution(y_true, y_pred):\n",
    "    sns.distplot(y_true, color='r', label='real production');\n",
    "    sns.distplot(y_pred, color='b', label='predicted production');\n",
    "    plt.legend();\n",
    "    \n",
    "plot_distribution(y_test, new_model.predict(X_test_norm))"
   ]
  },
  {
   "cell_type": "code",
   "execution_count": 162,
   "metadata": {},
   "outputs": [
    {
     "name": "stdout",
     "output_type": "stream",
     "text": [
      "Model: \"sequential_9\"\n",
      "_________________________________________________________________\n",
      " Layer (type)                Output Shape              Param #   \n",
      "=================================================================\n",
      " dense_27 (Dense)            (None, 64)                5632      \n",
      "                                                                 \n",
      " dense_28 (Dense)            (None, 64)                4160      \n",
      "                                                                 \n",
      " dense_29 (Dense)            (None, 1)                 65        \n",
      "                                                                 \n",
      "=================================================================\n",
      "Total params: 9,857\n",
      "Trainable params: 9,857\n",
      "Non-trainable params: 0\n",
      "_________________________________________________________________\n"
     ]
    }
   ],
   "source": [
    "new_model.summary()"
   ]
  },
  {
   "cell_type": "code",
   "execution_count": null,
   "metadata": {},
   "outputs": [],
   "source": []
  }
 ],
 "metadata": {
  "kernelspec": {
   "display_name": "Python 3.8.0 ('spg')",
   "language": "python",
   "name": "python3"
  },
  "language_info": {
   "codemirror_mode": {
    "name": "ipython",
    "version": 3
   },
   "file_extension": ".py",
   "mimetype": "text/x-python",
   "name": "python",
   "nbconvert_exporter": "python",
   "pygments_lexer": "ipython3",
   "version": "3.8.0"
  },
  "orig_nbformat": 4,
  "vscode": {
   "interpreter": {
    "hash": "77fd48fd594831157c558bb414c75df9b948d9caf06b76593c902fbf5ff9a593"
   }
  }
 },
 "nbformat": 4,
 "nbformat_minor": 2
}
