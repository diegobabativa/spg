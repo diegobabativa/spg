{
 "cells": [
  {
   "cell_type": "markdown",
   "metadata": {},
   "source": [
    "## Feature descriptions\n",
    "\n",
    "- **treatment company**: The treatment company who provides treatment service.\n",
    "- **azimuth**: Well drilling direction.\n",
    "- **md (ft)**: Measure depth.\n",
    "- **tvd (ft)**: True vertical depth.\n",
    "- **date on production**: First production date.\n",
    "- **operator**: The well operator who performs drilling service.\n",
    "- **footage lateral length**: Horizontal well section.\n",
    "- **well spacing**: Distance to the closest nearby well.\n",
    "- **porpoise deviation**: How much max (in ft.) a well deviated from its horizontal.\n",
    "- **porpoise count**: How many times the deviations (porpoises) occurred.\n",
    "- **shale footage**: How much shale (in ft) encountered in a horizontal well.\n",
    "- **acoustic impedance**: The impedance of a reservoir rock (ft/s * g/cc).\n",
    "- **log permeability**: The property of rocks that is an indication of the ability for fluids (gas or liquid) to flow through rocks\n",
    "- **porosity**: The percentage of void space in a rock. It is defined as the ratio of the volume of the voids or pore space divided by the total volume. It is written as either a decimal fraction between 0 and 1 or as a percentage.\n",
    "- **poisson ratio**: Measures the ratio of lateral strain to axial strain at linearly elastic region.\n",
    "- **water saturation**: The ratio of water volume to pore volume.\n",
    "- **toc**: Total Organic Carbon, indicates the organic richness (hydrocarbon generative potential) of a reservoir rock.\n",
    "- **vcl**: The amount of clay minerals in a reservoir rock.\n",
    "- **p-velocity**: The velocity of P-waves (compressional waves) through a reservoir rock (ft/s).\n",
    "- **s-velocity**: The velocity of S-waves (shear waves) through a reservoir rock (ft/s).\n",
    "- **youngs modulus**: The ratio of the applied stress to the fractional extension (or shortening) of the reservoir rock parallel to the tension (or compression) (giga pascals).\n",
    "- **isip**: When the pumps are quickly stopped, and the fluids stop moving, these friction pressures disappear and the resulting pressure is called the instantaneous shut-in pressure, ISIP.\n",
    "- **breakdown pressure**: The pressure at which a hydraulic fracture is created/initiated/induced.\n",
    "- **pump rate**: The volume of liquid that travels through the pump in a given time. A hydraulic fracture is formed by pumping fluid into a wellbore at a rate sufficient to increase pressure at the target depth, to exceed that of the fracture gradient (pressure gradient) of the rock.\n",
    "- **total number of stages**: Total stages used to fracture the horizontal section of the well.\n",
    "- **proppant volume**: The amount of proppant in pounds used in the completion of a well (lbs).\n",
    "- **proppant fluid ratio**: The ratio of proppant volume/fluid volume (lbs/gallon).\n",
    "- **production**: The 12 months cumulative gas production (mmcf)."
   ]
  },
  {
   "cell_type": "markdown",
   "metadata": {},
   "source": [
    "- **treatment company**: La empresa de tratamiento que presta el servicio de tratamiento.\n",
    "- **azimut**: Dirección de perforación del pozo.\n",
    "- **md (ft)**: Medida de profundidad.\n",
    "- **tvd (ft)**: profundidad vertical real.\n",
    "- **date on production**: Primera fecha de producción.\n",
    "- **operator**: El operador de pozo que realiza el servicio de perforación.\n",
    "- **footage lateral length**: Sección de pozo horizontal.\n",
    "- **well spacing**: Distancia al pozo cercano más cercano.\n",
    "- **porpoise deviation**: cuánto máximo (en pies) se desvió un pozo de su horizontal.\n",
    "- **porpoise count**: cuantas veces ocurrieron las desviaciones (marsopas).\n",
    "- **shale footage**: cantidad de esquisto (en pies) que se encuentra en un pozo horizontal.\n",
    "- **acoustic impedance**: La impedancia de una roca reservorio (ft/s * g/cc).\n",
    "- **log permeability**: La propiedad de las rocas que es una indicación de la capacidad de los fluidos (gas o líquidos) para fluir a través de las rocas\n",
    "- **porosity**: El porcentaje de espacio vacío en una roca. Se define como la relación del volumen de los huecos o espacio poroso dividido por el volumen total. Se escribe como una fracción decimal entre 0 y 1 o como un porcentaje.\n",
    "- **poisson ratio**: Mide la relación entre la deformación lateral y la deformación axial en una región elástica lineal.\n",
    "- **water saturation**: La relación entre el volumen de agua y el volumen de poro.\n",
    "- **toc**: Carbono Orgánico Total, indica la riqueza orgánica (potencial generativo de hidrocarburos) de una roca reservorio.\n",
    "- **vcl**: La cantidad de minerales arcillosos en una roca reservorio.\n",
    "- **p-velocity**: La velocidad de las ondas P (ondas de compresión) a través de una roca del yacimiento (ft/s).\n",
    "- **s-velocity**: La velocidad de las ondas S (ondas transversales) a través de una roca de yacimiento (ft/s).\n",
    "- **Youngs modulus**: La relación entre el esfuerzo aplicado y la fracción de extensión (o acortamiento) de la roca del yacimiento paralela a la tensión (o compresión) (giga pascales).\n",
    "- **isip**: Cuando las bombas se detienen rápidamente y los fluidos dejan de moverse, estas presiones de fricción desaparecen y la presión resultante se denomina presión de cierre instantáneo, ISIP.\n",
    "- **breakdown pressure**: La presión a la que se crea/inicia/induce una fractura hidráulica.\n",
    "- **pump rate**: El volumen de líquido que viaja a través de la bomba en un tiempo dado. Una fractura hidráulica se forma bombeando fluido en un pozo a una velocidad suficiente para aumentar la presión en la profundidad objetivo, para exceder el gradiente de fractura (gradiente de presión) de la roca.\n",
    "- **total number of stages**: Total de etapas utilizadas para fracturar la sección horizontal del pozo.\n",
    "- **proppant volum**: La cantidad de apuntalante en libras usadas en la terminación de un pozo (lbs).\n",
    "- **proppant fluid ratio**: La relación de volumen de apuntalante/volumen de fluido (lb/galón).\n",
    "- **production**: La producción acumulada de gas de 12 meses (mmcf)."
   ]
  },
  {
   "cell_type": "markdown",
   "metadata": {},
   "source": []
  }
 ],
 "metadata": {
  "kernelspec": {
   "display_name": "Python 3.8.10 64-bit",
   "language": "python",
   "name": "python3"
  },
  "language_info": {
   "name": "python",
   "version": "3.8.10"
  },
  "orig_nbformat": 4,
  "vscode": {
   "interpreter": {
    "hash": "31f2aee4e71d21fbe5cf8b01ff0e069b9275f58929596ceb00d14d90e3e16cd6"
   }
  }
 },
 "nbformat": 4,
 "nbformat_minor": 2
}
